{
 "cells": [
  {
   "attachments": {},
   "cell_type": "markdown",
   "metadata": {
    "datalore": {
     "hide_input_from_viewers": false,
     "hide_output_from_viewers": false,
     "type": "MD"
    }
   },
   "source": [
    "# Covid 19 - Prediction of mortality outcome\n",
    "### Done by: \n",
    "  * Ali Sayed Attia Elganzory **18P2073**\n",
    "  * Omar Khaled Mahmoud Mohamed **18P3067**\n",
    "\n",
    "#### Description\n",
    "\n",
    "The project aims to predict the mortality outcome of covid 19 patients given their personal and clinical information.\n",
    "\n",
    "\n",
    "#### Data\n",
    "\n",
    "The data is available from 22 Jan, 2020. Data is in “data.csv”.\n",
    "\n",
    "The features included:\n",
    "1. _country_: where the person resides\n",
    "2. _location_: which part in the Country\n",
    "3. _age_: Classification of the age group for each person, based on WHO Age Group Standard\n",
    "4. _gender_: Male or Female\n",
    "5. _vis_wuhan_: whether the person has visited Wuhan, China or not\n",
    "6. _from_wuhan_: whether the person is from Wuhan, China or not\n",
    "7. _[symptoms1, ..., symptoms6]_: there are six families of symptoms that are coded in six fields.\n",
    "13. _diff_sym_hos_: the time between the symptoms first appeared and the patient being admitted into a hospital.\n",
    "14. _Result_: deceased (1) or recovered (0)\n",
    "\n",
    "#### Data Exploration Activities: [here](attachment:./#explore)\n",
    "\n",
    "\n",
    "#### Used classifiers:\n",
    "- K Nearest Neighbours\n",
    "- Logistic Regression\n",
    "- Naïve Bayes (Gaussian and Categorical)\n",
    "- Decision tree Classifier\n",
    "- Support Vector Machine \n",
    "\n",
    "  \n",
    "#### Implemented classifiers:\n",
    "- [K Nearest Neighbours](attachment:./#knn)\n",
    "- [Logistic Regression](attachment:./#log)\n",
    "- [Naïve Bayes](attachment:./#nb)\n",
    "- [Decision Tree Classifier](attachment:./#dt)\n",
    "- [Support Vector Machine](attachment:./#svm)\n",
    "\n",
    "\n",
    "#### Some useful utilities implemented:\n",
    "- [split_data](attachment:./#split)\n",
    "- [score](attachment:./#score)\n",
    "- [compare_plot](attachment:./#cmp)\n",
    "- [pick_k](attachment:./#cmp)\n",
    "\n",
    "  *to check model fitting and predicting and scoring you can traverse the notebook and find instances of sklearn models and their predictions and scores along with our implementations with their predictions and score*"
   ]
  },
  {
   "attachments": {},
   "cell_type": "markdown",
   "metadata": {
    "datalore": {
     "hide_input_from_viewers": false,
     "hide_output_from_viewers": false,
     "type": "MD"
    }
   },
   "source": [
    "### Libraries"
   ]
  },
  {
   "cell_type": "code",
   "execution_count": 1,
   "metadata": {
    "datalore": {
     "hide_input_from_viewers": false,
     "hide_output_from_viewers": false,
     "type": "CODE"
    }
   },
   "outputs": [],
   "source": [
    "import pandas as pd\n",
    "import numpy as np\n",
    "import matplotlib.pyplot as plt\n",
    "import seaborn as sns\n",
    "import graphviz\n",
    "\n",
    "from scipy import stats\n",
    "from scipy.special import expit\n",
    "from scipy.stats import norm\n",
    "from sklearn.preprocessing import MinMaxScaler, scale\n",
    "from sklearn.model_selection import train_test_split, GridSearchCV\n",
    "from sklearn.metrics import accuracy_score, precision_score, \\\n",
    "    recall_score, f1_score, plot_confusion_matrix\n",
    "from sklearn.neighbors import KNeighborsClassifier\n",
    "from sklearn.linear_model import LogisticRegression\n",
    "from sklearn.naive_bayes import GaussianNB, CategoricalNB\n",
    "from sklearn.tree import DecisionTreeClassifier, export_graphviz\n",
    "from sklearn.svm import SVC\n",
    "\n",
    "sns.set_theme()\n",
    "%matplotlib inline"
   ]
  },
  {
   "attachments": {},
   "cell_type": "markdown",
   "metadata": {
    "datalore": {
     "hide_input_from_viewers": false,
     "hide_output_from_viewers": false,
     "type": "MD"
    }
   },
   "source": [
    "### Configuration\n",
    "<a id='cfg'></a>"
   ]
  },
  {
   "cell_type": "code",
   "execution_count": 2,
   "metadata": {
    "datalore": {
     "hide_input_from_viewers": false,
     "hide_output_from_viewers": false,
     "type": "CODE"
    }
   },
   "outputs": [],
   "source": [
    "random_state = 3    # to reproduce the results.\n",
    "np.random.seed(random_state)\n",
    "grid_search_dt_impl=False # activate when you want to see results on implemented decision tree (note it takes like 7 minuites)"
   ]
  },
  {
   "attachments": {},
   "cell_type": "markdown",
   "metadata": {
    "datalore": {
     "hide_input_from_viewers": false,
     "hide_output_from_viewers": false,
     "type": "MD"
    }
   },
   "source": [
    "## Exploratory Analysis\n",
    "<a id='explore'></a>"
   ]
  },
  {
   "cell_type": "code",
   "execution_count": 3,
   "metadata": {
    "datalore": {
     "hide_input_from_viewers": false,
     "hide_output_from_viewers": false,
     "type": "CODE"
    }
   },
   "outputs": [
    {
     "name": "stdout",
     "output_type": "stream",
     "text": [
      "<class 'pandas.core.frame.DataFrame'>\n",
      "Int64Index: 863 entries, 0 to 862\n",
      "Data columns (total 14 columns):\n",
      " #   Column        Non-Null Count  Dtype  \n",
      "---  ------        --------------  -----  \n",
      " 0   location      863 non-null    int64  \n",
      " 1   country       863 non-null    int64  \n",
      " 2   gender        863 non-null    int64  \n",
      " 3   age           863 non-null    float64\n",
      " 4   vis_wuhan     863 non-null    int64  \n",
      " 5   from_wuhan    863 non-null    int64  \n",
      " 6   symptom1      863 non-null    int64  \n",
      " 7   symptom2      863 non-null    int64  \n",
      " 8   symptom3      863 non-null    int64  \n",
      " 9   symptom4      863 non-null    int64  \n",
      " 10  symptom5      863 non-null    int64  \n",
      " 11  symptom6      863 non-null    int64  \n",
      " 12  diff_sym_hos  863 non-null    int64  \n",
      " 13  result        863 non-null    int64  \n",
      "dtypes: float64(1), int64(13)\n",
      "memory usage: 101.1 KB\n"
     ]
    }
   ],
   "source": [
    "df = pd.read_csv(\"data.csv\", index_col=0)\n",
    "df.info()"
   ]
  },
  {
   "attachments": {},
   "cell_type": "markdown",
   "metadata": {
    "datalore": {
     "hide_input_from_viewers": false,
     "hide_output_from_viewers": false,
     "type": "MD"
    }
   },
   "source": [
    "The data doesn't have null or incomplete samples. Ready to continue with the analysis."
   ]
  },
  {
   "cell_type": "code",
   "execution_count": 4,
   "metadata": {
    "datalore": {
     "hide_input_from_viewers": false,
     "hide_output_from_viewers": false,
     "type": "CODE"
    }
   },
   "outputs": [
    {
     "data": {
      "text/html": [
       "<div>\n",
       "<style scoped>\n",
       "    .dataframe tbody tr th:only-of-type {\n",
       "        vertical-align: middle;\n",
       "    }\n",
       "\n",
       "    .dataframe tbody tr th {\n",
       "        vertical-align: top;\n",
       "    }\n",
       "\n",
       "    .dataframe thead th {\n",
       "        text-align: right;\n",
       "    }\n",
       "</style>\n",
       "<table border=\"1\" class=\"dataframe\">\n",
       "  <thead>\n",
       "    <tr style=\"text-align: right;\">\n",
       "      <th></th>\n",
       "      <th>location</th>\n",
       "      <th>country</th>\n",
       "      <th>gender</th>\n",
       "      <th>age</th>\n",
       "      <th>vis_wuhan</th>\n",
       "      <th>from_wuhan</th>\n",
       "      <th>symptom1</th>\n",
       "      <th>symptom2</th>\n",
       "      <th>symptom3</th>\n",
       "      <th>symptom4</th>\n",
       "      <th>symptom5</th>\n",
       "      <th>symptom6</th>\n",
       "      <th>diff_sym_hos</th>\n",
       "      <th>result</th>\n",
       "    </tr>\n",
       "  </thead>\n",
       "  <tbody>\n",
       "    <tr>\n",
       "      <th>0</th>\n",
       "      <td>104</td>\n",
       "      <td>8</td>\n",
       "      <td>1</td>\n",
       "      <td>66.0</td>\n",
       "      <td>1</td>\n",
       "      <td>0</td>\n",
       "      <td>14</td>\n",
       "      <td>31</td>\n",
       "      <td>19</td>\n",
       "      <td>12</td>\n",
       "      <td>3</td>\n",
       "      <td>1</td>\n",
       "      <td>8</td>\n",
       "      <td>1</td>\n",
       "    </tr>\n",
       "    <tr>\n",
       "      <th>1</th>\n",
       "      <td>101</td>\n",
       "      <td>8</td>\n",
       "      <td>0</td>\n",
       "      <td>56.0</td>\n",
       "      <td>0</td>\n",
       "      <td>1</td>\n",
       "      <td>14</td>\n",
       "      <td>31</td>\n",
       "      <td>19</td>\n",
       "      <td>12</td>\n",
       "      <td>3</td>\n",
       "      <td>1</td>\n",
       "      <td>0</td>\n",
       "      <td>0</td>\n",
       "    </tr>\n",
       "    <tr>\n",
       "      <th>2</th>\n",
       "      <td>137</td>\n",
       "      <td>8</td>\n",
       "      <td>1</td>\n",
       "      <td>46.0</td>\n",
       "      <td>0</td>\n",
       "      <td>1</td>\n",
       "      <td>14</td>\n",
       "      <td>31</td>\n",
       "      <td>19</td>\n",
       "      <td>12</td>\n",
       "      <td>3</td>\n",
       "      <td>1</td>\n",
       "      <td>13</td>\n",
       "      <td>0</td>\n",
       "    </tr>\n",
       "    <tr>\n",
       "      <th>3</th>\n",
       "      <td>116</td>\n",
       "      <td>8</td>\n",
       "      <td>0</td>\n",
       "      <td>60.0</td>\n",
       "      <td>1</td>\n",
       "      <td>0</td>\n",
       "      <td>14</td>\n",
       "      <td>31</td>\n",
       "      <td>19</td>\n",
       "      <td>12</td>\n",
       "      <td>3</td>\n",
       "      <td>1</td>\n",
       "      <td>0</td>\n",
       "      <td>0</td>\n",
       "    </tr>\n",
       "    <tr>\n",
       "      <th>4</th>\n",
       "      <td>116</td>\n",
       "      <td>8</td>\n",
       "      <td>1</td>\n",
       "      <td>58.0</td>\n",
       "      <td>0</td>\n",
       "      <td>0</td>\n",
       "      <td>14</td>\n",
       "      <td>31</td>\n",
       "      <td>19</td>\n",
       "      <td>12</td>\n",
       "      <td>3</td>\n",
       "      <td>1</td>\n",
       "      <td>0</td>\n",
       "      <td>0</td>\n",
       "    </tr>\n",
       "  </tbody>\n",
       "</table>\n",
       "</div>"
      ],
      "text/plain": [
       "   location  country  gender   age  vis_wuhan  from_wuhan  symptom1  symptom2  \\\n",
       "0       104        8       1  66.0          1           0        14        31   \n",
       "1       101        8       0  56.0          0           1        14        31   \n",
       "2       137        8       1  46.0          0           1        14        31   \n",
       "3       116        8       0  60.0          1           0        14        31   \n",
       "4       116        8       1  58.0          0           0        14        31   \n",
       "\n",
       "   symptom3  symptom4  symptom5  symptom6  diff_sym_hos  result  \n",
       "0        19        12         3         1             8       1  \n",
       "1        19        12         3         1             0       0  \n",
       "2        19        12         3         1            13       0  \n",
       "3        19        12         3         1             0       0  \n",
       "4        19        12         3         1             0       0  "
      ]
     },
     "execution_count": 4,
     "metadata": {},
     "output_type": "execute_result"
    }
   ],
   "source": [
    "df.head()"
   ]
  },
  {
   "attachments": {},
   "cell_type": "markdown",
   "metadata": {
    "datalore": {
     "hide_input_from_viewers": false,
     "hide_output_from_viewers": false,
     "type": "MD"
    }
   },
   "source": [
    "#### Quantitative properties"
   ]
  },
  {
   "cell_type": "code",
   "execution_count": 5,
   "metadata": {
    "datalore": {
     "hide_input_from_viewers": false,
     "hide_output_from_viewers": false,
     "type": "CODE"
    }
   },
   "outputs": [
    {
     "data": {
      "text/html": [
       "<div>\n",
       "<style scoped>\n",
       "    .dataframe tbody tr th:only-of-type {\n",
       "        vertical-align: middle;\n",
       "    }\n",
       "\n",
       "    .dataframe tbody tr th {\n",
       "        vertical-align: top;\n",
       "    }\n",
       "\n",
       "    .dataframe thead th {\n",
       "        text-align: right;\n",
       "    }\n",
       "</style>\n",
       "<table border=\"1\" class=\"dataframe\">\n",
       "  <thead>\n",
       "    <tr style=\"text-align: right;\">\n",
       "      <th></th>\n",
       "      <th>age</th>\n",
       "      <th>diff_sym_hos</th>\n",
       "    </tr>\n",
       "  </thead>\n",
       "  <tbody>\n",
       "    <tr>\n",
       "      <th>count</th>\n",
       "      <td>863.000000</td>\n",
       "      <td>863.000000</td>\n",
       "    </tr>\n",
       "    <tr>\n",
       "      <th>mean</th>\n",
       "      <td>49.400000</td>\n",
       "      <td>0.995365</td>\n",
       "    </tr>\n",
       "    <tr>\n",
       "      <th>std</th>\n",
       "      <td>15.079203</td>\n",
       "      <td>2.358767</td>\n",
       "    </tr>\n",
       "    <tr>\n",
       "      <th>min</th>\n",
       "      <td>2.000000</td>\n",
       "      <td>-5.000000</td>\n",
       "    </tr>\n",
       "    <tr>\n",
       "      <th>25%</th>\n",
       "      <td>40.000000</td>\n",
       "      <td>0.000000</td>\n",
       "    </tr>\n",
       "    <tr>\n",
       "      <th>50%</th>\n",
       "      <td>49.400000</td>\n",
       "      <td>0.000000</td>\n",
       "    </tr>\n",
       "    <tr>\n",
       "      <th>75%</th>\n",
       "      <td>57.000000</td>\n",
       "      <td>1.000000</td>\n",
       "    </tr>\n",
       "    <tr>\n",
       "      <th>max</th>\n",
       "      <td>96.000000</td>\n",
       "      <td>15.000000</td>\n",
       "    </tr>\n",
       "  </tbody>\n",
       "</table>\n",
       "</div>"
      ],
      "text/plain": [
       "              age  diff_sym_hos\n",
       "count  863.000000    863.000000\n",
       "mean    49.400000      0.995365\n",
       "std     15.079203      2.358767\n",
       "min      2.000000     -5.000000\n",
       "25%     40.000000      0.000000\n",
       "50%     49.400000      0.000000\n",
       "75%     57.000000      1.000000\n",
       "max     96.000000     15.000000"
      ]
     },
     "execution_count": 5,
     "metadata": {},
     "output_type": "execute_result"
    }
   ],
   "source": [
    "quan_cols = [\"age\", \"diff_sym_hos\"]\n",
    "df[quan_cols].describe()"
   ]
  },
  {
   "attachments": {},
   "cell_type": "markdown",
   "metadata": {
    "datalore": {
     "hide_input_from_viewers": false,
     "hide_output_from_viewers": false,
     "type": "MD"
    }
   },
   "source": [
    "It appears that the patients are relatively old (mean of 49.) The median is 49 too, which makes the mean a good indicator.\n",
    "\n",
    "Let's see how correlated is the age to the result."
   ]
  },
  {
   "cell_type": "code",
   "execution_count": 6,
   "metadata": {
    "datalore": {
     "hide_input_from_viewers": false,
     "hide_output_from_viewers": false,
     "type": "CODE"
    }
   },
   "outputs": [
    {
     "data": {
      "text/html": [
       "<div>\n",
       "<style scoped>\n",
       "    .dataframe tbody tr th:only-of-type {\n",
       "        vertical-align: middle;\n",
       "    }\n",
       "\n",
       "    .dataframe tbody tr th {\n",
       "        vertical-align: top;\n",
       "    }\n",
       "\n",
       "    .dataframe thead th {\n",
       "        text-align: right;\n",
       "    }\n",
       "</style>\n",
       "<table border=\"1\" class=\"dataframe\">\n",
       "  <thead>\n",
       "    <tr style=\"text-align: right;\">\n",
       "      <th></th>\n",
       "      <th>count</th>\n",
       "      <th>mean</th>\n",
       "      <th>std</th>\n",
       "      <th>min</th>\n",
       "      <th>25%</th>\n",
       "      <th>50%</th>\n",
       "      <th>75%</th>\n",
       "      <th>max</th>\n",
       "    </tr>\n",
       "    <tr>\n",
       "      <th>result</th>\n",
       "      <th></th>\n",
       "      <th></th>\n",
       "      <th></th>\n",
       "      <th></th>\n",
       "      <th></th>\n",
       "      <th></th>\n",
       "      <th></th>\n",
       "      <th></th>\n",
       "    </tr>\n",
       "  </thead>\n",
       "  <tbody>\n",
       "    <tr>\n",
       "      <th>0</th>\n",
       "      <td>755.0</td>\n",
       "      <td>46.463841</td>\n",
       "      <td>12.820090</td>\n",
       "      <td>2.0</td>\n",
       "      <td>38.0</td>\n",
       "      <td>49.4</td>\n",
       "      <td>55.0</td>\n",
       "      <td>81.0</td>\n",
       "    </tr>\n",
       "    <tr>\n",
       "      <th>1</th>\n",
       "      <td>108.0</td>\n",
       "      <td>69.925926</td>\n",
       "      <td>13.695421</td>\n",
       "      <td>8.0</td>\n",
       "      <td>65.0</td>\n",
       "      <td>72.5</td>\n",
       "      <td>76.0</td>\n",
       "      <td>96.0</td>\n",
       "    </tr>\n",
       "  </tbody>\n",
       "</table>\n",
       "</div>"
      ],
      "text/plain": [
       "        count       mean        std  min   25%   50%   75%   max\n",
       "result                                                          \n",
       "0       755.0  46.463841  12.820090  2.0  38.0  49.4  55.0  81.0\n",
       "1       108.0  69.925926  13.695421  8.0  65.0  72.5  76.0  96.0"
      ]
     },
     "execution_count": 6,
     "metadata": {},
     "output_type": "execute_result"
    }
   ],
   "source": [
    "df.groupby(\"result\")[\"age\"].describe()"
   ]
  },
  {
   "cell_type": "code",
   "execution_count": 7,
   "metadata": {
    "datalore": {
     "hide_input_from_viewers": false,
     "hide_output_from_viewers": false,
     "type": "CODE"
    }
   },
   "outputs": [
    {
     "data": {
      "text/plain": [
       "0         AxesSubplot(0.1,0.15;0.363636x0.75)\n",
       "1    AxesSubplot(0.536364,0.15;0.363636x0.75)\n",
       "dtype: object"
      ]
     },
     "execution_count": 7,
     "metadata": {},
     "output_type": "execute_result"
    },
    {
     "data": {
      "image/png": "[encoded data removed]",
      "text/plain": [
       "<Figure size 432x288 with 2 Axes>"
      ]
     },
     "metadata": {
      "needs_background": "light"
     },
     "output_type": "display_data"
    }
   ],
   "source": [
    "df.groupby(\"result\").boxplot(column=\"age\")"
   ]
  },
  {
   "cell_type": "code",
   "execution_count": 8,
   "metadata": {
    "datalore": {
     "hide_input_from_viewers": false,
     "hide_output_from_viewers": false,
     "type": "CODE"
    }
   },
   "outputs": [
    {
     "data": {
      "text/plain": [
       "<AxesSubplot:>"
      ]
     },
     "execution_count": 8,
     "metadata": {},
     "output_type": "execute_result"
    },
    {
     "data": {
      "image/png": "[encoded data removed]",
      "text/plain": [
       "<Figure size 1440x216 with 2 Axes>"
      ]
     },
     "metadata": {
      "needs_background": "light"
     },
     "output_type": "display_data"
    }
   ],
   "source": [
    "fig, ax = plt.subplots(figsize=(20,3))\n",
    "sns.heatmap(df.groupby(\"age\")[\"result\"].mean().values[np.newaxis,:], ax=ax)"
   ]
  },
  {
   "attachments": {},
   "cell_type": "markdown",
   "metadata": {
    "datalore": {
     "hide_input_from_viewers": false,
     "hide_output_from_viewers": false,
     "type": "MD"
    }
   },
   "source": [
    "The mean age of the deceased patients is nearly 70 while the recoverd ones have a mean age of 46.46. In addition, the heatmap shows high positive correlation between the age and mortality rate. Thus, the age is positively and highly correlated with mortality rate."
   ]
  },
  {
   "attachments": {},
   "cell_type": "markdown",
   "metadata": {
    "datalore": {
     "hide_input_from_viewers": false,
     "hide_output_from_viewers": false,
     "type": "MD"
    }
   },
   "source": [
    "Thus, it may be beneficial to increase the weight of the age feature in distance algorithms (i.e. _KNN_)."
   ]
  },
  {
   "attachments": {},
   "cell_type": "markdown",
   "metadata": {
    "datalore": {
     "hide_input_from_viewers": false,
     "hide_output_from_viewers": false,
     "type": "MD"
    }
   },
   "source": [
    "Let's take a look at *diff_sym_hos* (time before symptoms appear.)"
   ]
  },
  {
   "cell_type": "code",
   "execution_count": 9,
   "metadata": {
    "datalore": {
     "hide_input_from_viewers": false,
     "hide_output_from_viewers": false,
     "type": "CODE"
    }
   },
   "outputs": [
    {
     "data": {
      "text/plain": [
       "0         AxesSubplot(0.1,0.15;0.363636x0.75)\n",
       "1    AxesSubplot(0.536364,0.15;0.363636x0.75)\n",
       "dtype: object"
      ]
     },
     "execution_count": 9,
     "metadata": {},
     "output_type": "execute_result"
    },
    {
     "data": {
      "image/png": "[encoded data removed]",
      "text/plain": [
       "<Figure size 432x288 with 2 Axes>"
      ]
     },
     "metadata": {
      "needs_background": "light"
     },
     "output_type": "display_data"
    }
   ],
   "source": [
    "df.groupby(\"result\").boxplot(column=\"diff_sym_hos\")"
   ]
  },
  {
   "attachments": {},
   "cell_type": "markdown",
   "metadata": {
    "datalore": {
     "hide_input_from_viewers": false,
     "hide_output_from_viewers": false,
     "type": "MD"
    }
   },
   "source": [
    "Deceased patients took, relatively, longer time before showing symptoms."
   ]
  },
  {
   "attachments": {},
   "cell_type": "markdown",
   "metadata": {
    "datalore": {
     "hide_input_from_viewers": false,
     "hide_output_from_viewers": false,
     "type": "MD"
    }
   },
   "source": [
    "#### Qualitative properties"
   ]
  },
  {
   "cell_type": "code",
   "execution_count": 10,
   "metadata": {
    "datalore": {
     "hide_input_from_viewers": false,
     "hide_output_from_viewers": false,
     "type": "CODE"
    }
   },
   "outputs": [],
   "source": [
    "symptom_cols = [f\"symptom{i}\" for i in range(1, 7)]\n",
    "qual_cols = [\"location\", \"country\", \"gender\", \"vis_wuhan\", \"from_wuhan\", *symptom_cols]"
   ]
  },
  {
   "attachments": {},
   "cell_type": "markdown",
   "metadata": {
    "datalore": {
     "hide_input_from_viewers": false,
     "hide_output_from_viewers": false,
     "type": "MD"
    }
   },
   "source": [
    "Let's have a look at whether visiting Wuhan has any relation with mortality rate."
   ]
  },
  {
   "cell_type": "code",
   "execution_count": 11,
   "metadata": {
    "datalore": {
     "hide_input_from_viewers": false,
     "hide_output_from_viewers": false,
     "type": "CODE"
    }
   },
   "outputs": [
    {
     "data": {
      "text/plain": [
       "result  vis_wuhan\n",
       "0       0            0.796026\n",
       "        1            0.203974\n",
       "1       0            0.972222\n",
       "        1            0.027778\n",
       "Name: vis_wuhan, dtype: float64"
      ]
     },
     "execution_count": 11,
     "metadata": {},
     "output_type": "execute_result"
    }
   ],
   "source": [
    "df.groupby(\"result\")[\"vis_wuhan\"].value_counts(normalize=True)"
   ]
  },
  {
   "cell_type": "code",
   "execution_count": 12,
   "metadata": {
    "datalore": {
     "hide_input_from_viewers": false,
     "hide_output_from_viewers": false,
     "type": "CODE"
    }
   },
   "outputs": [
    {
     "data": {
      "text/plain": [
       "<AxesSubplot:ylabel='result'>"
      ]
     },
     "execution_count": 12,
     "metadata": {},
     "output_type": "execute_result"
    },
    {
     "data": {
      "image/png": "[encoded data removed]",
      "text/plain": [
       "<Figure size 432x288 with 1 Axes>"
      ]
     },
     "metadata": {
      "needs_background": "light"
     },
     "output_type": "display_data"
    }
   ],
   "source": [
    "(df.groupby(\"result\")[\"vis_wuhan\"].value_counts(normalize=True) * 100).unstack() \\\n",
    "    .rename(columns={0: \"Not visited\", 1: \"Visited\"}, index={0: \"Recovered\", 1: \"Deceased\"}).plot.barh()"
   ]
  },
  {
   "attachments": {},
   "cell_type": "markdown",
   "metadata": {
    "datalore": {
     "hide_input_from_viewers": false,
     "hide_output_from_viewers": false,
     "type": "MD"
    }
   },
   "source": [
    "Contrary to stereotypes, most of the deceased didn't visit Wuhan (97%) while 20% of the recovered did actually visit Wuhan."
   ]
  },
  {
   "attachments": {},
   "cell_type": "markdown",
   "metadata": {
    "datalore": {
     "hide_input_from_viewers": false,
     "hide_output_from_viewers": false,
     "type": "MD"
    }
   },
   "source": [
    "Let's see the relation between gender and mortality rate."
   ]
  },
  {
   "cell_type": "code",
   "execution_count": 13,
   "metadata": {
    "datalore": {
     "hide_input_from_viewers": false,
     "hide_output_from_viewers": false,
     "type": "CODE"
    }
   },
   "outputs": [
    {
     "data": {
      "text/plain": [
       "result  gender\n",
       "0       1         0.423841\n",
       "        0         0.354967\n",
       "        2         0.221192\n",
       "1       1         0.638889\n",
       "        0         0.314815\n",
       "        2         0.046296\n",
       "Name: gender, dtype: float64"
      ]
     },
     "execution_count": 13,
     "metadata": {},
     "output_type": "execute_result"
    }
   ],
   "source": [
    "df.groupby(\"result\")[\"gender\"].value_counts(normalize=True)"
   ]
  },
  {
   "cell_type": "code",
   "execution_count": 14,
   "metadata": {
    "datalore": {
     "hide_input_from_viewers": false,
     "hide_output_from_viewers": false,
     "type": "CODE"
    }
   },
   "outputs": [
    {
     "data": {
      "text/plain": [
       "<AxesSubplot:ylabel='result'>"
      ]
     },
     "execution_count": 14,
     "metadata": {},
     "output_type": "execute_result"
    },
    {
     "data": {
      "image/png": "[encoded data removed]",
      "text/plain": [
       "<Figure size 432x288 with 1 Axes>"
      ]
     },
     "metadata": {
      "needs_background": "light"
     },
     "output_type": "display_data"
    }
   ],
   "source": [
    "(df.groupby(\"result\")[\"gender\"].value_counts(normalize=True) * 100).unstack() \\\n",
    "    .rename(columns={0: \"Male\", 1: \"Female\", 2: \"Non-binary\"}, index={0: \"Recovered\", 1: \"Deceased\"}).plot.barh()"
   ]
  },
  {
   "attachments": {},
   "cell_type": "markdown",
   "metadata": {
    "datalore": {
     "hide_input_from_viewers": false,
     "hide_output_from_viewers": false,
     "type": "MD"
    }
   },
   "source": [
    "Surprisingly, a considrable group of the deceased patients are females (63%) while only 42% of the recovered are females.\n",
    "This suggests a correlation between females and mortality rate."
   ]
  },
  {
   "attachments": {},
   "cell_type": "markdown",
   "metadata": {
    "datalore": {
     "hide_input_from_viewers": false,
     "hide_output_from_viewers": false,
     "type": "MD"
    }
   },
   "source": [
    "It's time to investigate the symptoms, which are expected to be highly correlated with the mortality rate."
   ]
  },
  {
   "cell_type": "code",
   "execution_count": 15,
   "metadata": {
    "datalore": {
     "hide_input_from_viewers": false,
     "hide_output_from_viewers": false,
     "type": "CODE"
    }
   },
   "outputs": [
    {
     "data": {
      "image/png": "[encoded data removed]",
      "text/plain": [
       "<Figure size 864x1440 with 12 Axes>"
      ]
     },
     "metadata": {
      "needs_background": "light"
     },
     "output_type": "display_data"
    }
   ],
   "source": [
    "f, axes = plt.subplots(nrows=2, ncols=3, figsize=(12, 20))\n",
    "for i, col in enumerate(symptom_cols):\n",
    "    ax = axes[int(i/3)][int(i%3)]\n",
    "    sns.heatmap(df[[col, \"result\"]].groupby(col).agg({\"result\": \"mean\"}).values, vmin=0, vmax=1, ax=ax)\n",
    "    ax.set_title(col)\n",
    "    \n",
    "plt.show()"
   ]
  },
  {
   "attachments": {},
   "cell_type": "markdown",
   "metadata": {
    "datalore": {
     "hide_input_from_viewers": false,
     "hide_output_from_viewers": false,
     "type": "MD"
    }
   },
   "source": [
    "## Implemented Classifiers"
   ]
  },
  {
   "attachments": {},
   "cell_type": "markdown",
   "metadata": {
    "datalore": {
     "hide_input_from_viewers": false,
     "hide_output_from_viewers": false,
     "type": "MD"
    }
   },
   "source": [
    "### KNN\n",
    "<a id='knn'></a>"
   ]
  },
  {
   "cell_type": "code",
   "execution_count": 16,
   "metadata": {
    "datalore": {
     "hide_input_from_viewers": false,
     "hide_output_from_viewers": false,
     "type": "CODE"
    }
   },
   "outputs": [],
   "source": [
    "class KNearestNeighboursClassifier:\n",
    "    def __init__(self, n_neighbors: int=1):\n",
    "        self.k       = n_neighbors\n",
    "        self.y_train = None\n",
    "        self.X_train = None\n",
    "\n",
    "\n",
    "    def fit(self, X_train, y_train):\n",
    "        \"\"\" \n",
    "            Takes X (examples) and y (labels) and\n",
    "            fits the model to the respective data.\n",
    "\n",
    "            Parameters\n",
    "            ----------\n",
    "            X : np.ndarray\n",
    "                Training examples.\n",
    "            y : np.ndarray\n",
    "                Target labels.\n",
    "        \"\"\"\n",
    "\n",
    "        self.X_train = X_train \n",
    "        self.y_train = y_train\n",
    "\n",
    "\n",
    "    def predict(self, X) -> np.ndarray:\n",
    "        \"\"\" \n",
    "            Takes a given list of samples [X] with and returns \n",
    "            the predicted values as an array\n",
    "\n",
    "            Parameters\n",
    "            ----------\n",
    "            X : np.ndarray\n",
    "                Examples to predict on.\n",
    "\n",
    "            Returns\n",
    "            -------\n",
    "            np.ndarray\n",
    "                The predictions.\n",
    "        \"\"\"\n",
    "\n",
    "        distances_squared = -2 * self.X_train @ X.T + np.sum(X ** 2, axis=1) + np.sum(self.X_train ** 2, axis=1)[:, np.newaxis]\n",
    "        indices_sorted = np.argsort(distances_squared, axis=0)\n",
    "        knn = self.y_train[indices_sorted[:self.k, :]]\n",
    "        return stats.mode(knn).mode[0]"
   ]
  },
  {
   "attachments": {},
   "cell_type": "markdown",
   "metadata": {
    "datalore": {
     "hide_input_from_viewers": false,
     "hide_output_from_viewers": false,
     "type": "MD"
    }
   },
   "source": [
    "### Logistic regression\n",
    "<a id='log'></a>"
   ]
  },
  {
   "cell_type": "code",
   "execution_count": 17,
   "metadata": {
    "datalore": {
     "hide_input_from_viewers": false,
     "hide_output_from_viewers": false,
     "type": "CODE"
    }
   },
   "outputs": [],
   "source": [
    "class LogisticRegressionClassifier:\n",
    "    def __init__(self):\n",
    "        self.theta = None\n",
    "\n",
    "\n",
    "    def fit(self, X: np.ndarray, y: np.ndarray, X_validation: np.ndarray, y_validation: np.ndarray, \n",
    "            learning_rate: float=0.01, epochs: int=100, log: bool=False, plot_error: bool=False):\n",
    "        \"\"\" \n",
    "            Takes X (examples) and y (labels) and\n",
    "            fits the model to the respective data.\n",
    "\n",
    "            Parameters\n",
    "            ----------\n",
    "            X : np.ndarray\n",
    "                Training examples.\n",
    "            y : np.ndarray\n",
    "                Target labels.\n",
    "            X_validation : np.ndarray\n",
    "                Validation examples to calculate loss.\n",
    "            y_validation : np.ndarray\n",
    "                Target labels to calculate loss.\n",
    "            learning_rate : float\n",
    "                Learning rate for the GD.\n",
    "            epochs : int\n",
    "                The number of epochs to be performed by GD\n",
    "            log : bool\n",
    "                Set to True if you want to see a verbose \n",
    "                log of the loss.\n",
    "            plot_error : bool\n",
    "                Set to True if you want to see a plot\n",
    "                of the error through the training steps.\n",
    "        \"\"\"\n",
    "\n",
    "        errors = []\n",
    "        last_loss = None\n",
    "        n_examples, n_features = X.shape\n",
    "        # Add bias column of ones.\n",
    "        X = np.append(np.ones((n_examples, 1)), X, axis=1)\n",
    "        X_validation = np.append(np.ones((X_validation.shape[0], 1)), X_validation, axis=1)\n",
    "        self.theta = np.zeros(n_features + 1)\n",
    "        \n",
    "        for e in range(epochs):\n",
    "            # Step to update weights.\n",
    "            self.theta = self.theta - learning_rate * ( X.T @ (self.__output(X) - y))\n",
    "\n",
    "            # Logging the progress.\n",
    "            if log:\n",
    "                if e % (epochs / 10) == 0:\n",
    "                    y_hat = self.__output(X_validation)\n",
    "                    loss = self.__loss(y_hat, y_validation)\n",
    "                    print(\"\\n========== Epoch\", e,\"==========\")\n",
    "                    if last_loss and last_loss < loss:\n",
    "                        print(\"Train loss: \", loss, \"  WARNING - Loss Increasing\")\n",
    "                    else:\n",
    "                        print(\"Train loss: \", loss)\n",
    "                    last_loss = loss\n",
    "                    predictions = (y_hat > 0.5).astype(float)\n",
    "                    score(y_validation, predictions, display=True)\n",
    "\n",
    "            # For plotting the error at the end.\n",
    "            if plot_error:\n",
    "                y_hat = self.__output(X_validation)\n",
    "                loss = self.__loss(y_hat, y_validation)\n",
    "                errors.append(loss)\n",
    "\n",
    "        if plot_error:\n",
    "            sns.lineplot(x=np.arange(1, len(errors)+1), y=np.array(errors))\n",
    "    \n",
    "\n",
    "    def predict(self, X: np.ndarray):\n",
    "        \"\"\" \n",
    "            Takes a given list of samples [X] and returns \n",
    "            the predicted values as an array.\n",
    "\n",
    "            Parameters\n",
    "            ----------\n",
    "            X : np.ndarray\n",
    "                Examples to predict labels for.\n",
    "\n",
    "            Returns\n",
    "            -------\n",
    "            np.ndarray\n",
    "                Array of predictions.\n",
    "        \"\"\"\n",
    "        \n",
    "        m = X.shape[0]\n",
    "        X = np.append(np.ones((m, 1)), X, axis=1)\n",
    "        \n",
    "        return (self.__sigmoid(X @ self.theta) >= 0.5).astype(int)\n",
    "\n",
    "                  \n",
    "    def __output(self, X: np.ndarray):\n",
    "        \"\"\"\n",
    "            The probalistic output of the model \n",
    "            ranging from 0 to 1 (binary classification).\n",
    "\n",
    "            Parameters\n",
    "            ----------\n",
    "            X : np.ndarray\n",
    "                Examples to predict on.\n",
    "\n",
    "            Returns\n",
    "            -------\n",
    "            np.ndarray\n",
    "                The probalistic predictions.\n",
    "        \"\"\"\n",
    "\n",
    "        return self.__sigmoid(X @ self.theta)\n",
    "    \n",
    "\n",
    "    def __loss(self, output: np.ndarray, y: np.ndarray):\n",
    "        \"\"\"\n",
    "            Calculates the loss of the model.\n",
    "            Uses cross-entropy.\n",
    "\n",
    "            Parameters\n",
    "            ----------\n",
    "            output : np.ndarray\n",
    "                Output of the model.\n",
    "            y : np.ndarray\n",
    "                Target labels.\n",
    "\n",
    "            Returns\n",
    "            -------\n",
    "            float\n",
    "                Loss of the model.\n",
    "        \"\"\"\n",
    "\n",
    "        return np.sum(-y * np.log(output) -(1 - y) * np.log(1 - output))\n",
    "\n",
    "\n",
    "    def __sigmoid(self, a: np.ndarray):\n",
    "        \"\"\"\n",
    "            Returns the sigmoid of the input values.\n",
    "\n",
    "            Parameters\n",
    "            ----------\n",
    "            a : np.ndarray\n",
    "                Array of values to get the sigmoid of.\n",
    "\n",
    "            Returns\n",
    "            -------\n",
    "            np.ndarray\n",
    "                Array of element-wise sigmoid of the input.\n",
    "        \"\"\"\n",
    "\n",
    "        return expit(a)"
   ]
  },
  {
   "attachments": {},
   "cell_type": "markdown",
   "metadata": {
    "datalore": {
     "hide_input_from_viewers": false,
     "hide_output_from_viewers": false,
     "type": "MD"
    }
   },
   "source": [
    "### Naive Bayes\n",
    "<a id='nb'></a>"
   ]
  },
  {
   "cell_type": "code",
   "execution_count": 18,
   "metadata": {
    "datalore": {
     "hide_input_from_viewers": false,
     "hide_output_from_viewers": false,
     "type": "CODE"
    }
   },
   "outputs": [],
   "source": [
    "class NaiveBayesClassifier:\n",
    "    def __init__(self, labels: np.ndarray, continuouslabels: np.ndarray):\n",
    "        self.y_train = None\n",
    "        self.X_train = None\n",
    "        self.occurances=dict()#          #stores occurances of each class\n",
    "        self.priors=dict()              #stores probabilities of each class\n",
    "        self.continuousindeces=list()   #stores indices of continous features in our data to calculate its likelihood using gaussian distribution\n",
    "        for label in continuouslabels:\n",
    "            #adding continuous features indeces\n",
    "            self.continuousindeces.append(labels.tolist().index(label))\n",
    "        #feature probabilities given class 0\n",
    "        self.featureprobsZero=dict()\n",
    "        #feature probabilities given class 1\n",
    "        self.featureprobsOne=dict()\n",
    "        #self.onetozeroratio=0\n",
    "\n",
    "    def fit(self, X_train:np.ndarray, y_train:np.ndarray):\n",
    "        \"\"\" \n",
    "            Takes X_train (features) and y_train (labels) and\n",
    "            fits the model to the respective data.\n",
    "        \"\"\"\n",
    "        self.X_train = X_train \n",
    "        self.y_train = y_train\n",
    "        #probabilities of each class dictionary\n",
    "        self.occurances=self.__uniquedict(y_train)\n",
    "        #dictionary of each class probabilities\n",
    "        self.priors = {k: v / self.X_train.shape[0] for k, v in self.occurances.items()}    # get priors\n",
    "        #splitting features matrix given class they are assigned to at the end\n",
    "        Xtrzero=self.X_train[self.y_train==0]   #training data given label 0\n",
    "        Xtrone=self.X_train[self.y_train==1]    #training data given label \n",
    "        for i in range(Xtrzero.shape[1]):\n",
    "            if i not in self.continuousindeces:\n",
    "                self.featureprobsZero[i]=self.__uniquedictprob(Xtrzero[:,i],0)\n",
    "        for i in range(Xtrone.shape[1]):\n",
    "            if i not in self.continuousindeces:\n",
    "                self.featureprobsOne[i]=self.__uniquedictprob(Xtrone[:,i],1)\n",
    "\n",
    "        for contindx in self.continuousindeces:\n",
    "            #making both means and  varinces for both classes for each continuous data to be used in calculations later\n",
    "            mu1,sig1=norm.fit(Xtrzero[:,contindx])           \n",
    "            self.featureprobsZero[contindx]=(mu1,sig1)  #sending the means and sigmas as a tuple in the dictionary to be used when calculating likelihood\n",
    "            mu2,sig2=norm.fit(Xtrone[:,contindx])\n",
    "            self.featureprobsOne[contindx]=(mu2,sig2)\n",
    "        pass\n",
    "    def __uniquedict(self,array:np.ndarray)->dict:\n",
    "        \"\"\"\"\n",
    "        returns a dictionary of each unique values and the number of its occurance\n",
    "        \"\"\"\n",
    "        uniqueelements,counts=np.unique(array,return_counts=True)\n",
    "        probs={}\n",
    "        for i,element in enumerate(uniqueelements):\n",
    "            probs[element]=counts[i]\n",
    "        return probs\n",
    "    def __uniquedictprob(self,array:np.ndarray,classnum:int)->dict:\n",
    "        \"\"\"\"\n",
    "        returns a dictionary of each unique values and the probability of its occurance given class number\n",
    "        \"\"\"\n",
    "        uniqueelements,counts=np.unique(array,return_counts=True)\n",
    "        probs={}\n",
    "        for i,element in enumerate(uniqueelements):\n",
    "            probs[element]=(counts[i]/self.X_train[y_train==classnum].shape[0] )\n",
    "        return probs\n",
    "    def predict(self, X) -> np.ndarray:\n",
    "        \"\"\" \n",
    "            Takes a given list of samples [X] with and returns \n",
    "            the predicted values as an array\n",
    "\n",
    "            Parameters X: ndarray\n",
    "\n",
    "            Returns y: ndarray\n",
    "        \"\"\"\n",
    "        preds=list()\n",
    "        for i in range(X.shape[0]):\n",
    "            preds.append(self.__predict_single(X[i]))\n",
    "        return np.asarray(preds)\n",
    "        \n",
    "\n",
    "    def __predict_single(self,X)->int:\n",
    "        \"\"\"\n",
    "            Utility function that predicts class for a single entry of features as a vector\n",
    "        \"\"\"\n",
    "        likelihood0=self.priors[0]\n",
    "        likelihood1=self.priors[1]\n",
    "        # for each feature index in the feature vector\n",
    "        for i in range(len(X)):\n",
    "            if i in self.continuousindeces:\n",
    "                mu,sig=self.featureprobsZero[i]\n",
    "                normalfn=norm(mu,sig)\n",
    "                prob=normalfn.pdf(X[i])#/self.priors[0]\n",
    "                likelihood0*=prob\n",
    "            else:\n",
    "                try:\n",
    "                    likelihood0*=self.featureprobsZero[i][X[i]]\n",
    "                except: #in case the feature value used to compute likelihood doesn't exist\n",
    "                    #adding laplace constant\n",
    "                    likelihood0*=0.000001/self.X_train.shape[0]\n",
    "        for i in range(len(X)):\n",
    "            if i in self.continuousindeces:\n",
    "                mu,sig=self.featureprobsOne[i]\n",
    "                normalfn=norm(mu,sig)\n",
    "                prob=normalfn.pdf(X[i])#/self.priors[1]\n",
    "                likelihood0*=prob\n",
    "            else:\n",
    "                try:\n",
    "                    likelihood1*=self.featureprobsOne[i][X[i]]\n",
    "                except: #in case the feature value used to compute likelihood doesn't exist\n",
    "                    #adding laplace constant\n",
    "                    likelihood1*=0.000001/self.X_train.shape[0]\n",
    "        \n",
    "        return 1 if (likelihood1>=likelihood0) else 0"
   ]
  },
  {
   "attachments": {},
   "cell_type": "markdown",
   "metadata": {
    "datalore": {
     "hide_input_from_viewers": false,
     "hide_output_from_viewers": false,
     "type": "MD"
    }
   },
   "source": [
    "### Decision Tree Classifier\n",
    "<a id='dt'></a>"
   ]
  },
  {
   "cell_type": "code",
   "execution_count": 19,
   "metadata": {
    "datalore": {
     "hide_input_from_viewers": false,
     "hide_output_from_viewers": false,
     "type": "CODE"
    }
   },
   "outputs": [],
   "source": [
    "from sklearn.base import BaseEstimator\n",
    "class DecisionTreeNode:\n",
    "    def __init__(self,featureindex=None,splitvalue=None,left=None,majority_value=None,right=None):\n",
    "        self.left=left#node to traverse if less than split value\n",
    "        self.right=right#node to traverse if more than split value\n",
    "        self.featureindex=featureindex\n",
    "        self.splitvalue=splitvalue\n",
    "        self.majority_value=majority_value\n",
    "        \n",
    "class Decisiontreeclassifier(BaseEstimator):\n",
    "    def __init__(self,gainmethod='entropy',maxdepth=3,minsamples_split=5):\n",
    "        self.gainmethod=gainmethod\n",
    "        self.maxdepth=maxdepth\n",
    "        self.minsamples_split=minsamples_split#used for recust stopping condition as a leaf node to avoid overfitting\n",
    "        self.tree=None\n",
    "        self.isfitted=False\n",
    "        #self.splitted_features_indeces=[]#used to avoid searching for splitting over already splitted features\n",
    "        \n",
    "        \n",
    "    def fit(self, X_train:np.ndarray, y_train:np.ndarray):\n",
    "        \"\"\"\n",
    "            model fitting function that takes training data\n",
    "            and build the decision tree upon it\n",
    "\n",
    "            Parameters\n",
    "            ----------\n",
    "            X_train : np.ndarray\n",
    "                Training examples.\n",
    "            y_train: np.ndarray\n",
    "                Target labels.\n",
    "\n",
    "        \"\"\"\n",
    "\n",
    "        #prepare the whole dataset\n",
    "        dataset=np.concatenate((X_train,y_train[:,np.newaxis]),axis=1)\n",
    "        #pass it to build tree function so it can process it with appropriate\n",
    "        self.tree=self.__build_tree_recursively(dataset,depth=0)\n",
    "        self.isfitted=True\n",
    "        \n",
    "        \n",
    "        \n",
    "    def predict(self,X_test:np.ndarray):\n",
    "        \"\"\"\n",
    "            predicts labels for many Entries by calling recursive\n",
    "            prediction function on each entry separately\n",
    "\n",
    "            Parameters\n",
    "            ----------\n",
    "            X_test : np.ndarray\n",
    "                Testing samples.\n",
    "\n",
    "        \"\"\"\n",
    "        if not self.isfitted:\n",
    "            print(\"you didn't fit your classifier yet to predict values, go fit it and try again\")\n",
    "            return\n",
    "        preds=[]\n",
    "        for i in range(X_test.shape[0]):\n",
    "            preds.append(self.__predict_single(X_test[i],self.tree))\n",
    "            \n",
    "        return np.asarray(preds)\n",
    "    \n",
    "    \n",
    "    def __predict_single(self,X:np.ndarray,tree:DecisionTreeNode):\n",
    "        \"\"\"\n",
    "            recursive function that traverses the decision tree\n",
    "            to output the label according to decision nodes\n",
    "\n",
    "            Parameters\n",
    "            ----------\n",
    "            X_train : np.ndarray\n",
    "                Training examples.\n",
    "            tree: DecisionTreeNode\n",
    "                Decision Tree to traverse questions.\n",
    "        \"\"\"\n",
    "        #return majority value if it has\n",
    "        #since it has a majority value it wont have left and right childten\n",
    "        if tree.majority_value!=None:\n",
    "            #reached a leaf node\n",
    "            return tree.majority_value\n",
    "        \n",
    "        feature_value = X[tree.featureindex]\n",
    "        #if feature value is less than split we go left in the tree recursively\n",
    "        if feature_value<=tree.splitvalue:\n",
    "            \n",
    "            return self.__predict_single(X, tree.left)\n",
    "        \n",
    "        #otherwise we go right\n",
    "        \n",
    "        else:\n",
    "            \n",
    "            return self.__predict_single(X, tree.right)\n",
    "        \n",
    "    \n",
    "    def __split(self, datasubset, featureindex, splitvalue):\n",
    "        \"\"\"\n",
    "            Splits The Dataset according to the split value\n",
    "            for the specified feature\n",
    "\n",
    "            Parameters\n",
    "            ----------\n",
    "            datasubset : np.ndarray\n",
    "                Training datasubset to be split.\n",
    "            featureindex : int\n",
    "                Index of feature to be split upon\n",
    "            splitvalue: int\n",
    "            threshold value to split on\n",
    "            \n",
    "        \"\"\"\n",
    "\n",
    "        leftdata=np.array([sample for sample in datasubset if sample[featureindex]<=splitvalue])\n",
    "        rightdata=np.array([sample for sample in datasubset if sample[featureindex]>splitvalue])\n",
    "\n",
    "        return leftdata,rightdata\n",
    "    \n",
    "    \n",
    "    def __information_gain(self, originalset, left, right):\n",
    "        \"\"\" \n",
    "            Takes Right subtree,left subtree,\n",
    "            Returns Information gain against original dataset\n",
    "\n",
    "            Parameters\n",
    "            ----------\n",
    "            originalset : np.ndarray\n",
    "                Training datasubset to be of total data to measure probabilities.\n",
    "            left : np.ndarray\n",
    "                Left subset of data\n",
    "            right : np.ndarray \n",
    "                right subset of data\n",
    "        \"\"\"\n",
    "        leftprob = len(left) / len(originalset)\n",
    "        rightprob = len(right) / len(originalset)\n",
    "        \n",
    "        infogain = self.__impurity_value(originalset,self.gainmethod) - (leftprob*self.__impurity_value(left,self.gainmethod) \\\n",
    "                  + rightprob*self.__impurity_value(right,self.gainmethod))\n",
    "            \n",
    "        return infogain\n",
    "            \n",
    "    def __impurity_value(self,y_split,methodtype='gini'):\n",
    "        \"\"\" \n",
    "            Computes impurity of given split labels \n",
    "            if required method is gini it will compute gini index impurity\n",
    "            otherwise it will calculate entropy of that split\n",
    "            Parameters\n",
    "            ----------\n",
    "            y_split : np.ndarray\n",
    "                Selected samples of class columns that wants to find impurity in \n",
    "            \n",
    "\n",
    "        \"\"\"\n",
    "        labels = np.unique(y_split)\n",
    "        impurity = 0\n",
    "        for label in labels:\n",
    "            probability_of_class = len(y_split[y_split == label]) / len(y_split)\n",
    "            if methodtype=='gini':\n",
    "                #calculate gini index\n",
    "                impurity += (probability_of_class**2)\n",
    "            else:\n",
    "                #calculate entropy \n",
    "                impurity += -(probability_of_class * np.log2(probability_of_class))\n",
    "\n",
    "        # check how to return the impurity measure based on selected method type : gini or entropy\n",
    "        return (1-impurity) if methodtype=='gini' else (impurity)\n",
    "\n",
    "\n",
    "    def __pick_best_split(self,datasubset):\n",
    "        \"\"\"\n",
    "            brute forces maximum information gain value each feature\n",
    "            with every possible split value and returns the result of the best split\n",
    "\n",
    "            Parameters\n",
    "            ----------\n",
    "            dataasubset : np.ndarray\n",
    "                Training datasubset to be of total data to measure to find best split on.\n",
    "        \n",
    "        \"\"\"\n",
    "        n_examples,n_features=datasubset.shape\n",
    "        n_features-=1#because we dont take Y column into consideration\n",
    "        split_results={}\n",
    "        # initial -ve infinity value for max gain to maximize the split gain\n",
    "        split_results['gain']=float('-inf')\n",
    "        #traversing features\n",
    "        for feature in range(n_features):\n",
    "            #checking if feature is not already splitted to avoid complex calculations on it again\n",
    "            # if feature not in self.splitted_features_indeces:\n",
    "            #     #getting unique values for the feature to evaluate best split value\n",
    "            split_values=np.unique(datasubset[:,feature])\n",
    "            for splitvalue in split_values:\n",
    "                left_tree,right_tree=self.__split(datasubset,featureindex=feature,splitvalue=splitvalue)\n",
    "                #check if both treenodes have samples\n",
    "                #if one is zero  we wont compute information gain for it \n",
    "                # in this case it  makes the other one a leafnode or both empty nodes \n",
    "                if len(left_tree)>0 and len(right_tree)>0:\n",
    "                    y_all=datasubset[:,-1]\n",
    "                    yleft=left_tree[:,-1]\n",
    "                    yright=right_tree[:,-1]\n",
    "                    gain=self.__information_gain(y_all,yleft,yright)\n",
    "                    if gain>split_results['gain']:\n",
    "                        split_results['gain']=gain\n",
    "                        split_results['left']=left_tree\n",
    "                        split_results['right']=right_tree\n",
    "                        split_results['feature_index']=feature\n",
    "                        split_results['splitvalue']=splitvalue\n",
    "            \n",
    "                                \n",
    "        return split_results\n",
    "    # def __pick_random_split(self,datasubset):\n",
    "    #     splitindex=\n",
    "    \n",
    "    def __build_tree_recursively(self,datasubset,depth):\n",
    "        \"\"\"\n",
    "            recursive function used to split the data according to maximum information gain split until it reaches maximum\n",
    "            specified depth or insufficient samples\n",
    "            Parameters\n",
    "            ----------\n",
    "            dataasubset : np.ndarray\n",
    "                Training datasubset to be of total data to measure to build next decision subtree on.\n",
    "            depth  : int\n",
    "                current depth with respect to limit\n",
    "        \"\"\"\n",
    "        X_train=datasubset[:,:-1]\n",
    "        y_train=datasubset[:,-1]\n",
    "       \n",
    "        n_examples,n_features=X_train.shape\n",
    "        #check if we reached the recursion specified limit\n",
    "        if n_examples>=self.minsamples_split and depth <= self.maxdepth:\n",
    "            # if we didnt reach then we find best split for current dataset\n",
    "\n",
    "            picked_split=self.__pick_best_split(datasubset)\n",
    "\n",
    "            # check if positive gain and didn't lose information\n",
    "            if  picked_split['gain']>0 :\n",
    "                left_tree=self.__build_tree_recursively(picked_split['left'],depth+1)\n",
    "                right_tree=self.__build_tree_recursively(picked_split['right'],depth+1)\n",
    "\n",
    "                #adding splitted index of feature to splitted indices\n",
    "\n",
    "                #self.splitted_features_indeces.append(int(picked_split['feature_index']))  \n",
    "                \n",
    "                \n",
    "                #create a parent node for the left and right trees\n",
    "                return DecisionTreeNode(featureindex=picked_split['feature_index'],\\\n",
    "                                        splitvalue=picked_split['splitvalue']\\\n",
    "                                        ,left=left_tree,right=right_tree)\n",
    "\n",
    "        # if leaf condition satisfied or no positive gain aquired :assign most occuring label to be the leaf value\n",
    "\n",
    "        mostoccuringlabel=max(list(y_train),key=list(y_train).count)#getting most frequent class label in current datasubset labels\n",
    "\n",
    "        return DecisionTreeNode(majority_value=mostoccuringlabel)        \n",
    "    def visualize(self,tree:DecisionTreeNode=None,spacing=\" \",labels:np.ndarray=None,level=0,outputlabels:dict=None):\n",
    "        \"\"\"\n",
    "            Extra utility function that visualizes the tree\n",
    "            it can take labels list to add meaningfull labels to decision nodes \n",
    "            Parameters\n",
    "            ----------\n",
    "            tree : DecisionTreeNode\n",
    "                root node of traversing\n",
    "            spacing : string\n",
    "                amount of indentation for each depth\n",
    "            labels: np.ndarray\n",
    "                labels of decision nodes\n",
    "            outputlabels : dict\n",
    "                dictionary of names of output labels\n",
    "\n",
    "        \"\"\"\n",
    "        if not self.isfitted:\n",
    "            print(\"you didn't fit your classifier yet to visualize, go fit it and try again\")\n",
    "            return\n",
    "        if tree==None:\n",
    "            tree=self.tree\n",
    "            self.visualize(tree,labels=labels,outputlabels=outputlabels)\n",
    "        if tree.majority_value != None:\n",
    "            \n",
    "            print(\"Classified as {}\".format( outputlabels[ int( tree.majority_value) ]  if (outputlabels != None) else int(tree.majority_value)))\n",
    "        \n",
    "        else:\n",
    "            #showing decision node\n",
    "            if not isinstance(labels,np.ndarray) :\n",
    "                print(\"(at level {} ) is X[ {} ]<= {} ?\".format(level,tree.featureindex, tree.splitvalue))\n",
    "\n",
    "            else:\n",
    "            \n",
    "                try:\n",
    "                    print(\"(at level {} ) is {} <= {} ?\".format(level,labels[int(tree.featureindex)], tree.splitvalue))\n",
    "                except:\n",
    "                    print(\" your labels doesn't have feature of index {} try passing the right labels\\n or remove labels parameter\".format(int(tree.featureindex)))\n",
    "                    return\n",
    "\n",
    "\n",
    "            #showing left child\n",
    "            print(\"%sYes: Go left:\" % (spacing), end=\"\")\n",
    "            self.visualize(tree=tree.left, spacing=spacing + \" \",labels=labels,level=level+1,outputlabels=outputlabels)\n",
    "            #print(\"{} right:\" .format(spacing))\n",
    "            #showing right child\n",
    "            print(\"%sNo: Go right:\" % (spacing), end=\"\")\n",
    "            #recursively visualizing\n",
    "            self.visualize(tree=tree.right,spacing= spacing + \" \",labels=labels,level=level+1,outputlabels=outputlabels)\n",
    "    \n",
    "    \n",
    "    def score(self,true,pred):\n",
    "        \"\"\"\n",
    "            utility function just used by Gridsearch technique to evaluate hyperparameters performance\n",
    "        \"\"\"\n",
    "        return f1_score(true,pred)"
   ]
  },
  {
   "attachments": {},
   "cell_type": "markdown",
   "metadata": {
    "datalore": {
     "hide_input_from_viewers": false,
     "hide_output_from_viewers": false,
     "type": "MD"
    }
   },
   "source": [
    "### Support Vector Machine\n",
    "<a id='svm'></a>"
   ]
  },
  {
   "cell_type": "code",
   "execution_count": 20,
   "metadata": {
    "datalore": {
     "hide_input_from_viewers": false,
     "hide_output_from_viewers": false,
     "type": "CODE"
    }
   },
   "outputs": [],
   "source": [
    "class SupportVectorMachine:\n",
    "    def __init__(self, C: float=1):\n",
    "        self.C     = C\n",
    "        self.theta = None\n",
    "    \n",
    "    \n",
    "    def fit(self, X: np.ndarray, y: np.ndarray,  \n",
    "            learning_rate: float=0.01, epochs: int=100):\n",
    "        \"\"\" \n",
    "            Takes X (examples) and y (labels) and\n",
    "            fits the model to the respective data.\n",
    "\n",
    "            Parameters\n",
    "            ----------\n",
    "            X : np.ndarray\n",
    "                Training examples.\n",
    "            y : np.ndarray\n",
    "                Target labels.\n",
    "            learning_rate : float\n",
    "                Learning rate for the GD.\n",
    "            epochs : int\n",
    "                The number of epochs to be performed by GD\n",
    "        \"\"\"\n",
    "\n",
    "        # Convert y labels from [0, 1] to [-1, +1]\n",
    "        # to fit nicely in the equations.\n",
    "        y[y == 0] = -1\n",
    "\n",
    "        n_examples, n_features = X.shape\n",
    "\n",
    "        # Add bias column of ones.\n",
    "        X = np.append(np.ones((n_examples, 1)), X, axis=1)\n",
    "        self.theta = np.zeros(n_features + 1)\n",
    "        \n",
    "        for _ in range(epochs):\n",
    "            # Step to update weights.\n",
    "            self.theta = self.theta - learning_rate * self.__gradient(X, y)\n",
    "    \n",
    "\n",
    "    def predict(self, X: np.ndarray):\n",
    "        \"\"\" \n",
    "            Takes a given list of samples [X] and returns \n",
    "            the predicted values as an array.\n",
    "\n",
    "            Parameters\n",
    "            ----------\n",
    "            X : np.ndarray\n",
    "                Examples to predict labels for.\n",
    "\n",
    "            Returns\n",
    "            -------\n",
    "            np.ndarray\n",
    "                Array of predictions.\n",
    "        \"\"\"\n",
    "        \n",
    "        m = X.shape[0]\n",
    "        X = np.append(np.ones((m, 1)), X, axis=1)\n",
    "        \n",
    "        return (X @ self.theta >= 0).astype(int)\n",
    "\n",
    "\n",
    "    def __gradient(self, X: np.ndarray, y: np.ndarray):\n",
    "        \"\"\"\n",
    "            Returns the gradient of the objective function.\n",
    "\n",
    "            Parameters\n",
    "            ----------\n",
    "            X : np.ndarray\n",
    "                Training examples.\n",
    "            y : np.ndarray\n",
    "                Target labels.\n",
    "\n",
    "            Returns\n",
    "            -------\n",
    "            np.ndarray\n",
    "                Gradient array\n",
    "        \"\"\"\n",
    "\n",
    "        A = (self.C * y[:,np.newaxis] * X)\n",
    "        B = y * (X @ self.theta)\n",
    "        return self.theta - np.sign(np.maximum(0, 1 - B)) @ A"
   ]
  },
  {
   "attachments": {},
   "cell_type": "markdown",
   "metadata": {
    "datalore": {
     "hide_input_from_viewers": false,
     "hide_output_from_viewers": false,
     "type": "MD"
    }
   },
   "source": [
    "## Learning and Testing"
   ]
  },
  {
   "attachments": {},
   "cell_type": "markdown",
   "metadata": {
    "datalore": {
     "hide_input_from_viewers": false,
     "hide_output_from_viewers": false,
     "type": "MD"
    }
   },
   "source": [
    "Multiple classifiers are used to learn the patterns from the data to predict the mortality of patients given their respected information (features.)"
   ]
  },
  {
   "attachments": {},
   "cell_type": "markdown",
   "metadata": {
    "datalore": {
     "hide_input_from_viewers": false,
     "hide_output_from_viewers": false,
     "type": "MD"
    }
   },
   "source": [
    "### Utilities"
   ]
  },
  {
   "attachments": {},
   "cell_type": "markdown",
   "metadata": {
    "datalore": {
     "hide_input_from_viewers": false,
     "hide_output_from_viewers": false,
     "type": "MD"
    }
   },
   "source": [
    "Split the data into training, validation, and testing sets."
   ]
  },
  {
   "cell_type": "code",
   "execution_count": 21,
   "metadata": {
    "datalore": {
     "hide_input_from_viewers": false,
     "hide_output_from_viewers": false,
     "type": "CODE"
    }
   },
   "outputs": [],
   "source": [
    "def split_data(df: pd.DataFrame=df, continuous_features: list=quan_cols, discrete_features: list=qual_cols, normalize: bool=False, encode: bool=True, returnlabels: bool=False):\n",
    "    # Extract the selected features.\n",
    "    df_temp = df[[*continuous_features, *discrete_features, \"result\"]]\n",
    "    \n",
    "    # Normalize the continuous features.\n",
    "    if normalize:\n",
    "        scaler = MinMaxScaler()\n",
    "        df_quan = df_temp[continuous_features]\n",
    "        df_temp[df_quan.columns] = pd.DataFrame(scaler.fit_transform(df_quan), columns=df_quan.columns)\n",
    "    \n",
    "    # Encode the discrete features.\n",
    "    if encode:\n",
    "        df_temp = pd.get_dummies(df_temp, columns=discrete_features, prefix=discrete_features)\n",
    "\n",
    "    # Features and labels.\n",
    "    X, y = df_temp.drop(columns=[\"result\"]).values, df_temp[\"result\"].values\n",
    "    # Training data.\n",
    "    X_train, X_rem, y_train, y_rem = train_test_split(X, y, train_size=0.8,\n",
    "                                                            random_state=random_state,\n",
    "                                                            stratify=y)\n",
    "    # Validation and Testing data\n",
    "    X_valid, X_test, y_valid, y_test = train_test_split(X_rem, y_rem, test_size=0.5,\n",
    "                                                                      random_state=random_state,\n",
    "                                                                      stratify=y_rem)\n",
    "    \n",
    "    if returnlabels:\n",
    "        labels=df_temp.columns.values\n",
    "        labels=labels[:-1]\n",
    "        return X_train, y_train, X_valid, X_test, y_valid, y_test,labels\n",
    "    else:\n",
    "        return X_train, y_train, X_valid, X_test, y_valid, y_test"
   ]
  },
  {
   "attachments": {},
   "cell_type": "markdown",
   "metadata": {
    "datalore": {
     "hide_input_from_viewers": false,
     "hide_output_from_viewers": false,
     "type": "MD"
    }
   },
   "source": [
    "Scoring models.\n",
    "<a id='score'></a>"
   ]
  },
  {
   "cell_type": "code",
   "execution_count": 22,
   "metadata": {
    "datalore": {
     "hide_input_from_viewers": false,
     "hide_output_from_viewers": false,
     "type": "CODE"
    }
   },
   "outputs": [],
   "source": [
    "def score(truth: list, pred: list, display: bool=True):\n",
    "    acc, pre, rec, f1 = accuracy_score(truth, pred), precision_score(truth, pred, zero_division=1), recall_score(truth, pred, zero_division=1), f1_score(truth, pred, zero_division=1)\n",
    "    \n",
    "    if display:\n",
    "        print(f\"Accuracy  : {acc*100:>6.2f}%.\")\n",
    "        print(f\"Precision : {pre*100:>6.2f}%.\")\n",
    "        print(f\"Recall    : {rec*100:>6.2f}%.\")\n",
    "        print(f\"F1-Score  : {f1*100 :>6.2f}%.\")\n",
    "\n",
    "    return acc, pre, rec, f1"
   ]
  },
  {
   "attachments": {},
   "cell_type": "markdown",
   "metadata": {
    "datalore": {
     "hide_input_from_viewers": false,
     "hide_output_from_viewers": false,
     "type": "MD"
    }
   },
   "source": [
    "Comparing two models using scores."
   ]
  },
  {
   "cell_type": "code",
   "execution_count": 23,
   "metadata": {
    "datalore": {
     "hide_input_from_viewers": false,
     "hide_output_from_viewers": false,
     "type": "CODE"
    }
   },
   "outputs": [],
   "source": [
    "def compare_plot(m1_scores: list, m2_scores: list, m1_name: str=\"Sklearn\", m2_name: str=\"Ours\"):\n",
    "    m1_vs_m2_scores = pd.DataFrame(\n",
    "        {\n",
    "        \"Classifier\": [*[m1_name] * 4, *[m2_name] * 4],\n",
    "        \"Metric\": [\"Accuracy\", \"Precision\", \"Recall\", \"F1\"] * 2,\n",
    "        \"Score\": [*m1_scores, *m2_scores]\n",
    "        })\n",
    "    \n",
    "    sns.catplot(data=m1_vs_m2_scores, x=\"Metric\", y=\"Score\", hue=\"Classifier\", kind='bar')\n",
    "    plt.title(f\"{m1_name} vs. {m2_name}\")"
   ]
  },
  {
   "attachments": {},
   "cell_type": "markdown",
   "metadata": {
    "datalore": {
     "hide_input_from_viewers": false,
     "hide_output_from_viewers": false,
     "type": "MD"
    }
   },
   "source": [
    "### K-Nearest Neighbours"
   ]
  },
  {
   "attachments": {},
   "cell_type": "markdown",
   "metadata": {
    "datalore": {
     "hide_input_from_viewers": false,
     "hide_output_from_viewers": false,
     "type": "MD"
    }
   },
   "source": [
    "#### Prepare data"
   ]
  },
  {
   "cell_type": "code",
   "execution_count": 24,
   "metadata": {
    "datalore": {
     "hide_input_from_viewers": false,
     "hide_output_from_viewers": false,
     "type": "CODE"
    }
   },
   "outputs": [],
   "source": [
    "X_train, y_train, X_valid, X_test, y_valid, y_test = split_data(df=df)"
   ]
  },
  {
   "attachments": {},
   "cell_type": "markdown",
   "metadata": {
    "datalore": {
     "hide_input_from_viewers": false,
     "hide_output_from_viewers": false,
     "type": "MD"
    }
   },
   "source": [
    "#### Training"
   ]
  },
  {
   "attachments": {},
   "cell_type": "markdown",
   "metadata": {
    "datalore": {
     "hide_input_from_viewers": false,
     "hide_output_from_viewers": false,
     "type": "MD"
    }
   },
   "source": [
    "Pick the best k via training and validation flow."
   ]
  },
  {
   "cell_type": "code",
   "execution_count": 25,
   "metadata": {
    "datalore": {
     "hide_input_from_viewers": false,
     "hide_output_from_viewers": false,
     "type": "CODE"
    }
   },
   "outputs": [],
   "source": [
    "def pick_k(KNNClassifier, mink: int = 1, maxk: int = 10, visualize=False):\n",
    "    mink = mink if (mink % 2 == 1) else (mink + 1)\n",
    "    acc_train = []\n",
    "    acc_valid = {}\n",
    "\n",
    "    for k in range(mink, maxk, 2):\n",
    "        # Train\n",
    "        classifier = KNNClassifier(n_neighbors = k)\n",
    "        classifier.fit(X_train, y_train)\n",
    "        # Record validation metric\n",
    "        y_valid_pred = classifier.predict(X_valid)\n",
    "        acc_valid[k]= accuracy_score(y_valid, y_valid_pred)\n",
    "        # Record training metric\n",
    "        y_train_pred = classifier.predict(X_train)    \n",
    "        acc_train.append(accuracy_score(y_train, y_train_pred))\n",
    "        \n",
    "    if visualize:\n",
    "        sns.lineplot(x=acc_valid.keys(), y=acc_valid.values())\n",
    "        sns.lineplot(x=acc_valid.keys(), y=acc_train)\n",
    "        plt.title(\"Accuracy vs. K\")\n",
    "        plt.xlabel(\"K neighbours\")\n",
    "        plt.ylabel(\"Accuracy\")\n",
    "        plt.legend([\"Validation\", \"Training\"])\n",
    "        plt.show()\n",
    "       \n",
    "    return max(acc_valid, key=lambda x: acc_valid[x])"
   ]
  },
  {
   "cell_type": "code",
   "execution_count": 26,
   "metadata": {
    "datalore": {
     "hide_input_from_viewers": false,
     "hide_output_from_viewers": false,
     "type": "CODE"
    }
   },
   "outputs": [
    {
     "data": {
      "image/png": "[encoded data removed]",
      "text/plain": [
       "<Figure size 432x288 with 1 Axes>"
      ]
     },
     "metadata": {
      "needs_background": "light"
     },
     "output_type": "display_data"
    },
    {
     "data": {
      "text/plain": [
       "1"
      ]
     },
     "execution_count": 26,
     "metadata": {},
     "output_type": "execute_result"
    }
   ],
   "source": [
    "k_neighbors = pick_k(KNNClassifier=KNeighborsClassifier, mink=1, maxk=15, visualize=True)\n",
    "k_neighbors"
   ]
  },
  {
   "attachments": {},
   "cell_type": "markdown",
   "metadata": {
    "datalore": {
     "hide_input_from_viewers": false,
     "hide_output_from_viewers": false,
     "type": "MD"
    }
   },
   "source": [
    "The final model using, empirically, optimal k."
   ]
  },
  {
   "cell_type": "code",
   "execution_count": 27,
   "metadata": {
    "datalore": {
     "hide_input_from_viewers": false,
     "hide_output_from_viewers": false,
     "type": "CODE"
    }
   },
   "outputs": [
    {
     "data": {
      "text/plain": [
       "KNeighborsClassifier(n_neighbors=1)"
      ]
     },
     "execution_count": 27,
     "metadata": {},
     "output_type": "execute_result"
    }
   ],
   "source": [
    "classifier = KNeighborsClassifier(n_neighbors = k_neighbors)\n",
    "classifier.fit(X_train, y_train)"
   ]
  },
  {
   "attachments": {},
   "cell_type": "markdown",
   "metadata": {
    "datalore": {
     "hide_input_from_viewers": false,
     "hide_output_from_viewers": false,
     "type": "MD"
    }
   },
   "source": [
    "#### Testing"
   ]
  },
  {
   "cell_type": "code",
   "execution_count": 28,
   "metadata": {
    "datalore": {
     "hide_input_from_viewers": false,
     "hide_output_from_viewers": false,
     "type": "CODE"
    }
   },
   "outputs": [
    {
     "name": "stdout",
     "output_type": "stream",
     "text": [
      "Accuracy  :  96.55%.\n",
      "Precision :  83.33%.\n",
      "Recall    :  90.91%.\n",
      "F1-Score  :  86.96%.\n"
     ]
    }
   ],
   "source": [
    "y_pred = classifier.predict(X_test)\n",
    "acc_knn, pre_knn, rec_knn, f1_knn = score(y_test, y_pred, display=True)"
   ]
  },
  {
   "attachments": {},
   "cell_type": "markdown",
   "metadata": {
    "datalore": {
     "hide_input_from_viewers": false,
     "hide_output_from_viewers": false,
     "type": "MD"
    }
   },
   "source": [
    "#### Trying out our KNN implementation"
   ]
  },
  {
   "cell_type": "code",
   "execution_count": 29,
   "metadata": {
    "datalore": {
     "hide_input_from_viewers": false,
     "hide_output_from_viewers": false,
     "type": "CODE"
    }
   },
   "outputs": [
    {
     "data": {
      "text/plain": [
       "3"
      ]
     },
     "execution_count": 29,
     "metadata": {},
     "output_type": "execute_result"
    }
   ],
   "source": [
    "k_neighbors = pick_k(KNNClassifier=KNearestNeighboursClassifier, mink=1, maxk=15)\n",
    "k_neighbors"
   ]
  },
  {
   "cell_type": "code",
   "execution_count": 30,
   "metadata": {
    "datalore": {
     "hide_input_from_viewers": false,
     "hide_output_from_viewers": false,
     "type": "CODE"
    }
   },
   "outputs": [
    {
     "name": "stdout",
     "output_type": "stream",
     "text": [
      "Accuracy  :  96.55%.\n",
      "Precision :  90.00%.\n",
      "Recall    :  81.82%.\n",
      "F1-Score  :  85.71%.\n"
     ]
    }
   ],
   "source": [
    "classifier = KNearestNeighboursClassifier(n_neighbors = k_neighbors)\n",
    "classifier.fit(X_train, y_train)\n",
    "y_pred = classifier.predict(X_test)\n",
    "acc_knn_impl, pre_knn_impl, rec_knn_impl, f1_knn_impl = score(y_test, y_pred)"
   ]
  },
  {
   "attachments": {},
   "cell_type": "markdown",
   "metadata": {
    "datalore": {
     "hide_input_from_viewers": false,
     "hide_output_from_viewers": false,
     "type": "MD"
    }
   },
   "source": [
    "#### Sklearn vs. Our Implementation"
   ]
  },
  {
   "cell_type": "code",
   "execution_count": 31,
   "metadata": {
    "datalore": {
     "hide_input_from_viewers": false,
     "hide_output_from_viewers": false,
     "type": "CODE"
    }
   },
   "outputs": [
    {
     "data": {
      "image/png": "[encoded data removed]",
      "text/plain": [
       "<Figure size 437.1x360 with 1 Axes>"
      ]
     },
     "metadata": {
      "needs_background": "light"
     },
     "output_type": "display_data"
    }
   ],
   "source": [
    "compare_plot([acc_knn, pre_knn, rec_knn, f1_knn], [acc_knn_impl, pre_knn_impl, rec_knn_impl, f1_knn_impl])"
   ]
  },
  {
   "attachments": {},
   "cell_type": "markdown",
   "metadata": {
    "datalore": {
     "hide_input_from_viewers": false,
     "hide_output_from_viewers": false,
     "type": "MD"
    }
   },
   "source": [
    "### Logistic Regression"
   ]
  },
  {
   "attachments": {},
   "cell_type": "markdown",
   "metadata": {
    "datalore": {
     "hide_input_from_viewers": false,
     "hide_output_from_viewers": false,
     "type": "MD"
    }
   },
   "source": [
    "#### Prepare data"
   ]
  },
  {
   "cell_type": "code",
   "execution_count": 32,
   "metadata": {
    "datalore": {
     "hide_input_from_viewers": false,
     "hide_output_from_viewers": false,
     "type": "CODE"
    }
   },
   "outputs": [],
   "source": [
    "X_train, y_train, X_valid, X_test, y_valid, y_test = split_data(df=df, normalize=True)"
   ]
  },
  {
   "attachments": {},
   "cell_type": "markdown",
   "metadata": {
    "datalore": {
     "hide_input_from_viewers": false,
     "hide_output_from_viewers": false,
     "type": "MD"
    }
   },
   "source": [
    "#### Training"
   ]
  },
  {
   "cell_type": "code",
   "execution_count": 33,
   "metadata": {
    "datalore": {
     "hide_input_from_viewers": false,
     "hide_output_from_viewers": false,
     "type": "CODE"
    }
   },
   "outputs": [
    {
     "data": {
      "text/plain": [
       "LogisticRegression(max_iter=1000, random_state=3)"
      ]
     },
     "execution_count": 33,
     "metadata": {},
     "output_type": "execute_result"
    }
   ],
   "source": [
    "logreg_classifier = LogisticRegression(random_state=random_state, max_iter=1000)\n",
    "logreg_classifier.fit(X_train, y_train)"
   ]
  },
  {
   "attachments": {},
   "cell_type": "markdown",
   "metadata": {
    "datalore": {
     "hide_input_from_viewers": false,
     "hide_output_from_viewers": false,
     "type": "MD"
    }
   },
   "source": [
    "#### Testing"
   ]
  },
  {
   "cell_type": "code",
   "execution_count": 34,
   "metadata": {
    "datalore": {
     "hide_input_from_viewers": false,
     "hide_output_from_viewers": false,
     "type": "CODE"
    }
   },
   "outputs": [
    {
     "name": "stdout",
     "output_type": "stream",
     "text": [
      "Accuracy  :  91.95%.\n",
      "Precision : 100.00%.\n",
      "Recall    :  36.36%.\n",
      "F1-Score  :  53.33%.\n"
     ]
    }
   ],
   "source": [
    "y_pred = logreg_classifier.predict(X_test)\n",
    "acc_logreg, pre_logreg, rec_logreg, f1_logreg = score(y_test, y_pred, display=True)"
   ]
  },
  {
   "attachments": {},
   "cell_type": "markdown",
   "metadata": {
    "datalore": {
     "hide_input_from_viewers": false,
     "hide_output_from_viewers": false,
     "type": "MD"
    }
   },
   "source": [
    "#### Trying out our logistic regression implementation"
   ]
  },
  {
   "cell_type": "code",
   "execution_count": 35,
   "metadata": {
    "datalore": {
     "hide_input_from_viewers": false,
     "hide_output_from_viewers": false,
     "type": "CODE"
    }
   },
   "outputs": [
    {
     "data": {
      "image/png": "[encoded data removed]",
      "text/plain": [
       "<Figure size 432x288 with 1 Axes>"
      ]
     },
     "metadata": {
      "needs_background": "light"
     },
     "output_type": "display_data"
    }
   ],
   "source": [
    "logreg_classifier = LogisticRegressionClassifier()\n",
    "logreg_classifier.fit(X_train, y_train, X_valid, y_valid, learning_rate=0.01, epochs=1000, plot_error=True)"
   ]
  },
  {
   "attachments": {},
   "cell_type": "markdown",
   "metadata": {
    "datalore": {
     "hide_input_from_viewers": false,
     "hide_output_from_viewers": false,
     "type": "MD"
    }
   },
   "source": [
    "Clearly, the algorithm has been bouncing around the minima, which suggests lowering the learning rate."
   ]
  },
  {
   "cell_type": "code",
   "execution_count": 36,
   "metadata": {
    "datalore": {
     "hide_input_from_viewers": false,
     "hide_output_from_viewers": false,
     "type": "CODE"
    }
   },
   "outputs": [
    {
     "data": {
      "image/png": "[encoded data removed]",
      "text/plain": [
       "<Figure size 432x288 with 1 Axes>"
      ]
     },
     "metadata": {
      "needs_background": "light"
     },
     "output_type": "display_data"
    }
   ],
   "source": [
    "logreg_classifier = LogisticRegressionClassifier()\n",
    "logreg_classifier.fit(X_train, y_train, X_valid, y_valid, learning_rate=0.001, epochs=1000, plot_error=True)"
   ]
  },
  {
   "cell_type": "code",
   "execution_count": 37,
   "metadata": {
    "datalore": {
     "hide_input_from_viewers": false,
     "hide_output_from_viewers": false,
     "type": "CODE"
    }
   },
   "outputs": [
    {
     "name": "stdout",
     "output_type": "stream",
     "text": [
      "Accuracy  :  94.25%.\n",
      "Precision : 100.00%.\n",
      "Recall    :  54.55%.\n",
      "F1-Score  :  70.59%.\n"
     ]
    }
   ],
   "source": [
    "y_pred = logreg_classifier.predict(X_test)\n",
    "acc_logreg_impl, pre_logreg_impl, rec_logreg_impl, f1_logreg_impl = score(y_test, y_pred, display=True)"
   ]
  },
  {
   "attachments": {},
   "cell_type": "markdown",
   "metadata": {
    "datalore": {
     "hide_input_from_viewers": false,
     "hide_output_from_viewers": false,
     "type": "MD"
    }
   },
   "source": [
    "Let's try a higher number of epochs and see whether the model can descent more to the global minimum, and sustain high metrics on the testing set."
   ]
  },
  {
   "cell_type": "code",
   "execution_count": 38,
   "metadata": {
    "datalore": {
     "hide_input_from_viewers": false,
     "hide_output_from_viewers": false,
     "type": "CODE"
    }
   },
   "outputs": [],
   "source": [
    "logreg_classifier = LogisticRegressionClassifier()\n",
    "logreg_classifier.fit(X_train, y_train, X_valid, y_valid, learning_rate=0.001, epochs=100000)"
   ]
  },
  {
   "cell_type": "code",
   "execution_count": 39,
   "metadata": {
    "datalore": {
     "hide_input_from_viewers": false,
     "hide_output_from_viewers": false,
     "type": "CODE"
    }
   },
   "outputs": [
    {
     "name": "stdout",
     "output_type": "stream",
     "text": [
      "Accuracy  :  98.85%.\n",
      "Precision : 100.00%.\n",
      "Recall    :  90.91%.\n",
      "F1-Score  :  95.24%.\n"
     ]
    }
   ],
   "source": [
    "y_pred = logreg_classifier.predict(X_test)\n",
    "acc_logreg_impl, pre_logreg_impl, rec_logreg_impl, f1_logreg_impl = score(y_test, y_pred, display=True)"
   ]
  },
  {
   "cell_type": "code",
   "execution_count": 40,
   "metadata": {
    "datalore": {
     "hide_input_from_viewers": false,
     "hide_output_from_viewers": false,
     "type": "CODE"
    }
   },
   "outputs": [
    {
     "data": {
      "image/png": "[encoded data removed]",
      "text/plain": [
       "<Figure size 437.1x360 with 1 Axes>"
      ]
     },
     "metadata": {
      "needs_background": "light"
     },
     "output_type": "display_data"
    }
   ],
   "source": [
    "compare_plot([acc_logreg, pre_logreg, rec_logreg, f1_logreg], [acc_logreg_impl, pre_logreg_impl, rec_logreg_impl, f1_logreg_impl])"
   ]
  },
  {
   "attachments": {},
   "cell_type": "markdown",
   "metadata": {
    "datalore": {
     "hide_input_from_viewers": false,
     "hide_output_from_viewers": false,
     "type": "MD"
    }
   },
   "source": [
    "Surprisingly, our model casts sklearn's regarding all metrics. Noticeably, our model has more than twice the recall ratio of sklearn's."
   ]
  },
  {
   "attachments": {},
   "cell_type": "markdown",
   "metadata": {
    "datalore": {
     "hide_input_from_viewers": false,
     "hide_output_from_viewers": false,
     "type": "MD"
    }
   },
   "source": [
    "## Naive Bayes"
   ]
  },
  {
   "attachments": {},
   "cell_type": "markdown",
   "metadata": {
    "datalore": {
     "hide_input_from_viewers": false,
     "hide_output_from_viewers": false,
     "type": "MD"
    }
   },
   "source": [
    "#### Gaussian Naive Bayes using the continuous variables *age* and *diff_sym_hos*."
   ]
  },
  {
   "attachments": {},
   "cell_type": "markdown",
   "metadata": {
    "datalore": {
     "hide_input_from_viewers": false,
     "hide_output_from_viewers": false,
     "type": "MD"
    }
   },
   "source": [
    "#### Prepare data"
   ]
  },
  {
   "cell_type": "code",
   "execution_count": 41,
   "metadata": {
    "datalore": {
     "hide_input_from_viewers": false,
     "hide_output_from_viewers": false,
     "type": "CODE"
    }
   },
   "outputs": [],
   "source": [
    "X_train, y_train, X_valid, X_test, y_valid, y_test = split_data(df=df, discrete_features=[])"
   ]
  },
  {
   "attachments": {},
   "cell_type": "markdown",
   "metadata": {
    "datalore": {
     "hide_input_from_viewers": false,
     "hide_output_from_viewers": false,
     "type": "MD"
    }
   },
   "source": [
    "#### Training"
   ]
  },
  {
   "cell_type": "code",
   "execution_count": 42,
   "metadata": {
    "datalore": {
     "hide_input_from_viewers": false,
     "hide_output_from_viewers": false,
     "type": "CODE"
    }
   },
   "outputs": [
    {
     "data": {
      "text/plain": [
       "GaussianNB()"
      ]
     },
     "execution_count": 42,
     "metadata": {},
     "output_type": "execute_result"
    }
   ],
   "source": [
    "gnb_classifier = GaussianNB()\n",
    "gnb_classifier.fit(X_train, y_train)"
   ]
  },
  {
   "attachments": {},
   "cell_type": "markdown",
   "metadata": {
    "datalore": {
     "hide_input_from_viewers": false,
     "hide_output_from_viewers": false,
     "type": "MD"
    }
   },
   "source": [
    "#### Testing"
   ]
  },
  {
   "cell_type": "code",
   "execution_count": 43,
   "metadata": {
    "datalore": {
     "hide_input_from_viewers": false,
     "hide_output_from_viewers": false,
     "type": "CODE"
    }
   },
   "outputs": [
    {
     "name": "stdout",
     "output_type": "stream",
     "text": [
      "Accuracy  :  89.66%.\n",
      "Precision :  75.00%.\n",
      "Recall    :  27.27%.\n",
      "F1-Score  :  40.00%.\n"
     ]
    }
   ],
   "source": [
    "y_pred = gnb_classifier.predict(X_test)\n",
    "acc_gnb, pre_gnb, rec_gnb, f1_gnb = score(y_test, y_pred)"
   ]
  },
  {
   "attachments": {},
   "cell_type": "markdown",
   "metadata": {
    "datalore": {
     "hide_input_from_viewers": false,
     "hide_output_from_viewers": false,
     "type": "MD"
    }
   },
   "source": [
    "#### Categorical Naive Bayes on the discrete and categorically distributed variables."
   ]
  },
  {
   "cell_type": "code",
   "execution_count": 44,
   "metadata": {
    "datalore": {
     "hide_input_from_viewers": false,
     "hide_output_from_viewers": false,
     "type": "CODE"
    }
   },
   "outputs": [],
   "source": [
    "X_train, y_train, X_valid, X_test, y_valid, y_test = split_data(df=df, continuous_features=[], encode=False)"
   ]
  },
  {
   "cell_type": "code",
   "execution_count": 45,
   "metadata": {
    "datalore": {
     "hide_input_from_viewers": false,
     "hide_output_from_viewers": false,
     "type": "CODE"
    }
   },
   "outputs": [
    {
     "data": {
      "text/plain": [
       "CategoricalNB()"
      ]
     },
     "execution_count": 45,
     "metadata": {},
     "output_type": "execute_result"
    }
   ],
   "source": [
    "cnb_classifier = CategoricalNB()\n",
    "cnb_classifier.fit(X_train, y_train)"
   ]
  },
  {
   "cell_type": "code",
   "execution_count": 46,
   "metadata": {
    "datalore": {
     "hide_input_from_viewers": false,
     "hide_output_from_viewers": false,
     "type": "CODE"
    }
   },
   "outputs": [
    {
     "name": "stdout",
     "output_type": "stream",
     "text": [
      "Accuracy  :  87.10%.\n",
      "Precision :  37.21%.\n",
      "Recall    :  47.76%.\n",
      "F1-Score  :  41.83%.\n"
     ]
    }
   ],
   "source": [
    "y_pred = cnb_classifier.predict(X_train)\n",
    "acc_cnb, pre_cnb, rec_cnb, f1_cnb = score(y_pred, y_train)"
   ]
  },
  {
   "attachments": {},
   "cell_type": "markdown",
   "metadata": {
    "datalore": {
     "hide_input_from_viewers": false,
     "hide_output_from_viewers": false,
     "type": "MD"
    }
   },
   "source": [
    "#### Let's try to discretize all the continuous variables, and, then, feed all the features again to the categorical Naive Bayes classifier."
   ]
  },
  {
   "cell_type": "code",
   "execution_count": 47,
   "metadata": {
    "datalore": {
     "hide_input_from_viewers": false,
     "hide_output_from_viewers": false,
     "type": "CODE"
    }
   },
   "outputs": [],
   "source": [
    "df_cnb = df.copy()\n",
    "age_bins            = 60           # Number of bins to discretize \"age\" into.\n",
    "diff_sym_hos_bins   = 10           # Number of bins to discretize \"diff_sym_hos\" into.\n",
    "df_cnb[\"age\"] = np.floor(df_cnb[\"age\"].rank() / len(df_cnb[\"age\"]) / (1 / age_bins)).astype(int) + 1\n",
    "df_cnb[\"diff_sym_hos\"] = np.floor(df_cnb[\"diff_sym_hos\"].rank() / len(df_cnb[\"diff_sym_hos\"]) / (1 / diff_sym_hos_bins)).astype(int) + 1"
   ]
  },
  {
   "cell_type": "code",
   "execution_count": 48,
   "metadata": {
    "datalore": {
     "hide_input_from_viewers": false,
     "hide_output_from_viewers": false,
     "type": "CODE"
    }
   },
   "outputs": [],
   "source": [
    "X_train, y_train, X_valid, X_test, y_valid, y_test = split_data(df=df_cnb, continuous_features=[], discrete_features=[\"age\", \"diff_sym_hos\", *qual_cols], encode=False)"
   ]
  },
  {
   "cell_type": "code",
   "execution_count": 49,
   "metadata": {
    "datalore": {
     "hide_input_from_viewers": false,
     "hide_output_from_viewers": false,
     "type": "CODE"
    }
   },
   "outputs": [
    {
     "data": {
      "text/plain": [
       "CategoricalNB()"
      ]
     },
     "execution_count": 49,
     "metadata": {},
     "output_type": "execute_result"
    }
   ],
   "source": [
    "cnb_classifier = CategoricalNB()\n",
    "cnb_classifier.fit(X_train, y_train)"
   ]
  },
  {
   "cell_type": "code",
   "execution_count": 50,
   "metadata": {
    "datalore": {
     "hide_input_from_viewers": false,
     "hide_output_from_viewers": false,
     "type": "CODE"
    }
   },
   "outputs": [
    {
     "name": "stdout",
     "output_type": "stream",
     "text": [
      "Accuracy  :  93.04%.\n",
      "Precision :  69.77%.\n",
      "Recall    :  73.17%.\n",
      "F1-Score  :  71.43%.\n"
     ]
    }
   ],
   "source": [
    "y_pred = cnb_classifier.predict(X_train)\n",
    "acc_cnb, pre_cnb, rec_cnb, f1_cnb = score(y_pred, y_train)"
   ]
  },
  {
   "attachments": {},
   "cell_type": "markdown",
   "metadata": {
    "datalore": {
     "hide_input_from_viewers": false,
     "hide_output_from_viewers": false,
     "type": "MD"
    }
   },
   "source": [
    "Now we're getting somewhere. The model is scoring higher in all metrics."
   ]
  },
  {
   "attachments": {},
   "cell_type": "markdown",
   "metadata": {
    "datalore": {
     "hide_input_from_viewers": false,
     "hide_output_from_viewers": false,
     "type": "MD"
    }
   },
   "source": [
    "#### Trying out our naive bayes implementation"
   ]
  },
  {
   "attachments": {},
   "cell_type": "markdown",
   "metadata": {
    "datalore": {
     "hide_input_from_viewers": false,
     "hide_output_from_viewers": false,
     "type": "MD"
    }
   },
   "source": [
    "Plotting normal distribution of continuous data"
   ]
  },
  {
   "cell_type": "code",
   "execution_count": 51,
   "metadata": {
    "datalore": {
     "hide_input_from_viewers": false,
     "hide_output_from_viewers": false,
     "type": "CODE"
    }
   },
   "outputs": [
    {
     "data": {
      "image/png": "[encoded data removed]",
      "text/plain": [
       "<Figure size 432x288 with 1 Axes>"
      ]
     },
     "metadata": {
      "needs_background": "light"
     },
     "output_type": "display_data"
    },
    {
     "data": {
      "image/png": "[encoded data removed]",
      "text/plain": [
       "<Figure size 432x288 with 1 Axes>"
      ]
     },
     "metadata": {
      "needs_background": "light"
     },
     "output_type": "display_data"
    }
   ],
   "source": [
    "ages=df['age']\n",
    "muage,sigage=norm.fit(ages)\n",
    "agenormal=norm(muage,sigage)\n",
    "x=np.arange(-20,100,0.01)\n",
    "plt.plot(x,agenormal.pdf(x),'r-')\n",
    "plt.title('age normal distribution')\n",
    "plt.show()\n",
    "time=df['diff_sym_hos']\n",
    "muti,sigti=norm.fit(time)\n",
    "timenormal=norm(muti,sigti)\n",
    "x=np.arange(-20,100,0.01)\n",
    "plt.plot(x,timenormal.pdf(x),'b-')\n",
    "plt.title('time for symptoms normal distribution')\n",
    "plt.show()"
   ]
  },
  {
   "attachments": {},
   "cell_type": "markdown",
   "metadata": {
    "datalore": {
     "hide_input_from_viewers": false,
     "hide_output_from_viewers": false,
     "type": "MD"
    }
   },
   "source": [
    "What if we dealt with continuous data mixed with categorical using our implemented classifier?"
   ]
  },
  {
   "cell_type": "code",
   "execution_count": 52,
   "metadata": {
    "datalore": {
     "hide_input_from_viewers": false,
     "hide_output_from_viewers": false,
     "type": "CODE"
    }
   },
   "outputs": [
    {
     "name": "stdout",
     "output_type": "stream",
     "text": [
      "Accuracy  :  56.32%.\n",
      "Precision :  21.28%.\n",
      "Recall    :  90.91%.\n",
      "F1-Score  :  34.48%.\n"
     ]
    }
   ],
   "source": [
    "X_train, y_train, X_valid, X_test, y_valid, y_test,labels = split_data(df=df, returnlabels=True)\n",
    "clf = NaiveBayesClassifier(labels=labels, continuouslabels=['age','diff_sym_hos'])\n",
    "clf.fit(X_train,y_train)\n",
    "preds=clf.predict(X_test)\n",
    "acc_cnb_impl, pre_cnb_impl, rec_cnb_impl, f1_cnb_impl = score(y_test,preds)"
   ]
  },
  {
   "attachments": {},
   "cell_type": "markdown",
   "metadata": {
    "datalore": {
     "hide_input_from_viewers": false,
     "hide_output_from_viewers": false,
     "type": "MD"
    }
   },
   "source": [
    "as seen in the previous plot since the pdf of the distributions of the continuous data is so small then these values dominated the likelihood of each class separately hence the data needs to be passed categorically."
   ]
  },
  {
   "attachments": {},
   "cell_type": "markdown",
   "metadata": {
    "datalore": {
     "hide_input_from_viewers": false,
     "hide_output_from_viewers": false,
     "type": "MD"
    }
   },
   "source": [
    "__According to these results, we will discretize the data and see the metrics.__"
   ]
  },
  {
   "cell_type": "code",
   "execution_count": 53,
   "metadata": {
    "datalore": {
     "hide_input_from_viewers": false,
     "hide_output_from_viewers": false,
     "type": "CODE"
    }
   },
   "outputs": [],
   "source": [
    "df_cnb = df.copy()\n",
    "age_bins            = 60           # Number of bins to discretize \"age\" into.\n",
    "diff_sym_hos_bins   = 10           # Number of bins to discretize \"diff_sym_hos\" into.\n",
    "df_cnb[\"age\"] = np.floor(df_cnb[\"age\"].rank() / len(df_cnb[\"age\"]) / (1 / age_bins)).astype(int) + 1\n",
    "df_cnb[\"diff_sym_hos\"] = np.floor(df_cnb[\"diff_sym_hos\"].rank() / len(df_cnb[\"diff_sym_hos\"]) / (1 / diff_sym_hos_bins)).astype(int) + 1"
   ]
  },
  {
   "cell_type": "code",
   "execution_count": 54,
   "metadata": {
    "datalore": {
     "hide_input_from_viewers": false,
     "hide_output_from_viewers": false,
     "type": "CODE"
    }
   },
   "outputs": [],
   "source": [
    "X_train, y_train, X_valid, X_test, y_valid, y_test = split_data(df=df_cnb, continuous_features=[], discrete_features=[\"age\", \"diff_sym_hos\", *qual_cols], encode=False)"
   ]
  },
  {
   "cell_type": "code",
   "execution_count": 55,
   "metadata": {
    "datalore": {
     "hide_input_from_viewers": false,
     "hide_output_from_viewers": false,
     "type": "CODE"
    }
   },
   "outputs": [],
   "source": [
    "cnb_classifier = NaiveBayesClassifier(labels=[], continuouslabels=[])\n",
    "cnb_classifier.fit(X_train,y_train)"
   ]
  },
  {
   "cell_type": "code",
   "execution_count": 56,
   "metadata": {
    "datalore": {
     "hide_input_from_viewers": false,
     "hide_output_from_viewers": false,
     "type": "CODE"
    }
   },
   "outputs": [
    {
     "name": "stdout",
     "output_type": "stream",
     "text": [
      "Accuracy  :  91.95%.\n",
      "Precision :  70.00%.\n",
      "Recall    :  63.64%.\n",
      "F1-Score  :  66.67%.\n"
     ]
    }
   ],
   "source": [
    "y_pred_impl = cnb_classifier.predict(X_test)\n",
    "acc_cnb_impl, pre_cnb_impl, rec_cnb_impl, f1_cnb_impl = score(y_test, y_pred_impl)"
   ]
  },
  {
   "attachments": {},
   "cell_type": "markdown",
   "metadata": {
    "datalore": {
     "hide_input_from_viewers": false,
     "hide_output_from_viewers": false,
     "type": "MD"
    }
   },
   "source": [
    "Hence, we conclude that our implemented classifier has higher score metrics over test data when sending discretized data rather than sending them in continuous form."
   ]
  },
  {
   "attachments": {},
   "cell_type": "markdown",
   "metadata": {
    "datalore": {
     "hide_input_from_viewers": false,
     "hide_output_from_viewers": false,
     "type": "MD"
    }
   },
   "source": [
    "### Decision Tree Classifier (Sklearn)"
   ]
  },
  {
   "attachments": {},
   "cell_type": "markdown",
   "metadata": {
    "datalore": {
     "hide_input_from_viewers": false,
     "hide_output_from_viewers": false,
     "type": "MD"
    }
   },
   "source": [
    "#### Preparing data"
   ]
  },
  {
   "cell_type": "code",
   "execution_count": 57,
   "metadata": {
    "datalore": {
     "hide_input_from_viewers": false,
     "hide_output_from_viewers": false,
     "type": "CODE"
    }
   },
   "outputs": [],
   "source": [
    "X_train, y_train, X_valid, X_test, y_valid, y_test = split_data(df=df, continuous_features=[], discrete_features=[\"age\", \"diff_sym_hos\", *qual_cols], encode=True)"
   ]
  },
  {
   "attachments": {},
   "cell_type": "markdown",
   "metadata": {
    "datalore": {
     "hide_input_from_viewers": false,
     "hide_output_from_viewers": false,
     "type": "MD"
    }
   },
   "source": [
    "#### initializing and fitting using random hyperparameters"
   ]
  },
  {
   "cell_type": "code",
   "execution_count": 58,
   "metadata": {
    "datalore": {
     "hide_input_from_viewers": false,
     "hide_output_from_viewers": false,
     "type": "CODE"
    }
   },
   "outputs": [
    {
     "data": {
      "text/plain": [
       "DecisionTreeClassifier(max_depth=4, min_samples_split=3)"
      ]
     },
     "execution_count": 58,
     "metadata": {},
     "output_type": "execute_result"
    }
   ],
   "source": [
    "decisiontree_clf_sklearn=DecisionTreeClassifier(splitter='best',max_depth=4,min_samples_split=3)\n",
    "decisiontree_clf_sklearn.fit(X_train,y_train)"
   ]
  },
  {
   "attachments": {},
   "cell_type": "markdown",
   "metadata": {
    "datalore": {
     "hide_input_from_viewers": false,
     "hide_output_from_viewers": false,
     "type": "MD"
    }
   },
   "source": [
    "#### Testing and scoring"
   ]
  },
  {
   "cell_type": "code",
   "execution_count": 59,
   "metadata": {
    "datalore": {
     "hide_input_from_viewers": false,
     "hide_output_from_viewers": false,
     "type": "CODE"
    }
   },
   "outputs": [
    {
     "name": "stdout",
     "output_type": "stream",
     "text": [
      "Accuracy  :  91.86%.\n",
      "Precision : 100.00%.\n",
      "Recall    :  36.36%.\n",
      "F1-Score  :  53.33%.\n"
     ]
    },
    {
     "data": {
      "text/plain": [
       "(0.9186046511627907, 1.0, 0.36363636363636365, 0.5333333333333333)"
      ]
     },
     "execution_count": 59,
     "metadata": {},
     "output_type": "execute_result"
    }
   ],
   "source": [
    "dt_sklearn_preds=decisiontree_clf_sklearn.predict(X_valid)\n",
    "score(y_valid,dt_sklearn_preds)"
   ]
  },
  {
   "attachments": {},
   "cell_type": "markdown",
   "metadata": {
    "datalore": {
     "hide_input_from_viewers": false,
     "hide_output_from_viewers": false,
     "type": "MD"
    }
   },
   "source": [
    "#### from the previous scores looks like parameters need some hypertuning so we will use gridsearchmethod to select best hyperparameters"
   ]
  },
  {
   "attachments": {},
   "cell_type": "markdown",
   "metadata": {
    "datalore": {
     "hide_input_from_viewers": false,
     "hide_output_from_viewers": false,
     "type": "MD"
    }
   },
   "source": [
    "#### preparing data for gridsearch "
   ]
  },
  {
   "cell_type": "code",
   "execution_count": 60,
   "metadata": {
    "datalore": {
     "hide_input_from_viewers": false,
     "hide_output_from_viewers": false,
     "type": "CODE"
    }
   },
   "outputs": [],
   "source": [
    "X_train, y_train, X_valid, X_test, y_valid, y_test = split_data(df=df, encode=True)"
   ]
  },
  {
   "attachments": {},
   "cell_type": "markdown",
   "metadata": {
    "datalore": {
     "hide_input_from_viewers": false,
     "hide_output_from_viewers": false,
     "type": "MD"
    }
   },
   "source": [
    "#### initializing and passing hyperparameters to be tuned "
   ]
  },
  {
   "cell_type": "code",
   "execution_count": 61,
   "metadata": {
    "datalore": {
     "hide_input_from_viewers": false,
     "hide_output_from_viewers": false,
     "type": "CODE"
    }
   },
   "outputs": [],
   "source": [
    "import warnings\n",
    "warnings.filterwarnings(\"ignore\")\n",
    "hyperparams={'max_depth':np.arange(1,15,1),'min_samples_split':np.arange(1,11,1),'criterion':np.asarray(['entropy','gini'])}\n",
    "tuned_dt_sklearn=GridSearchCV(DecisionTreeClassifier(splitter='best',random_state=random_state),hyperparams,cv=10,scoring='f1',verbose=0)\n",
    "tuned_dt_sklearn.fit(X_train,y_train)\n",
    "tuned_dt_sklearn=tuned_dt_sklearn.best_estimator_"
   ]
  },
  {
   "attachments": {},
   "cell_type": "markdown",
   "metadata": {
    "datalore": {
     "hide_input_from_viewers": false,
     "hide_output_from_viewers": false,
     "type": "MD"
    }
   },
   "source": [
    "#### printing best sklearn selected hyperparameters"
   ]
  },
  {
   "cell_type": "code",
   "execution_count": 62,
   "metadata": {
    "datalore": {
     "hide_input_from_viewers": false,
     "hide_output_from_viewers": false,
     "type": "CODE"
    }
   },
   "outputs": [
    {
     "name": "stdout",
     "output_type": "stream",
     "text": [
      "best selected hyperparameters by gridsearch for sklearn decision tree is\n",
      "DecisionTreeClassifier(criterion='entropy', max_depth=6, min_samples_split=5,\n",
      "                       random_state=3)\n"
     ]
    }
   ],
   "source": [
    "print(\"best selected hyperparameters by gridsearch for sklearn decision tree is\")\n",
    "print(tuned_dt_sklearn)"
   ]
  },
  {
   "attachments": {},
   "cell_type": "markdown",
   "metadata": {
    "datalore": {
     "hide_input_from_viewers": false,
     "hide_output_from_viewers": false,
     "type": "MD"
    }
   },
   "source": [
    "#### predicting and scoring over best classifier by gridsearch"
   ]
  },
  {
   "cell_type": "code",
   "execution_count": 63,
   "metadata": {
    "datalore": {
     "hide_input_from_viewers": false,
     "hide_output_from_viewers": false,
     "type": "CODE"
    }
   },
   "outputs": [
    {
     "name": "stdout",
     "output_type": "stream",
     "text": [
      "Accuracy  :  97.67%.\n",
      "Precision :  90.91%.\n",
      "Recall    :  90.91%.\n",
      "F1-Score  :  90.91%.\n"
     ]
    }
   ],
   "source": [
    "\n",
    "preds=tuned_dt_sklearn.predict(X_valid)\n",
    "dt_sklearn_opt_scores=score(y_valid,preds)"
   ]
  },
  {
   "cell_type": "code",
   "execution_count": 64,
   "metadata": {
    "datalore": {
     "hide_input_from_viewers": false,
     "hide_output_from_viewers": false,
     "type": "CODE"
    }
   },
   "outputs": [
    {
     "data": {
      "image/svg+xml": "<?xml version=\"1.0\" encoding=\"UTF-8\" standalone=\"no\"?>\r\n<!DOCTYPE svg PUBLIC \"-//W3C//DTD SVG 1.1//EN\"\r\n \"http://www.w3.org/Graphics/SVG/1.1/DTD/svg11.dtd\">\r\n<!-- Generated by graphviz version 2.38.0 (20140413.2041)\r\n -->\r\n<!-- Title: Tree Pages: 1 -->\r\n<svg width=\"1793pt\" height=\"760pt\"\r\n viewBox=\"0.00 0.00 1792.50 760.00\" xmlns=\"http://www.w3.org/2000/svg\" xmlns:xlink=\"http://www.w3.org/1999/xlink\">\r\n<g id=\"graph0\" class=\"graph\" transform=\"scale(1 1) rotate(0) translate(4 756)\">\r\n<title>Tree</title>\r\n<polygon fill=\"white\" stroke=\"none\" points=\"-4,4 -4,-756 1788.5,-756 1788.5,4 -4,4\"/>\r\n<!-- 0 -->\r\n<g id=\"node1\" class=\"node\"><title>0</title>\r\n<path fill=\"#e99355\" stroke=\"black\" d=\"M711.5,-752C711.5,-752 613.5,-752 613.5,-752 607.5,-752 601.5,-746 601.5,-740 601.5,-740 601.5,-686 601.5,-686 601.5,-680 607.5,-674 613.5,-674 613.5,-674 711.5,-674 711.5,-674 717.5,-674 723.5,-680 723.5,-686 723.5,-686 723.5,-740 723.5,-740 723.5,-746 717.5,-752 711.5,-752\"/>\r\n<text text-anchor=\"start\" x=\"632\" y=\"-737.8\" font-family=\"Helvetica,sans-Serif\" font-size=\"14.00\">X</text>\r\n<text text-anchor=\"start\" x=\"642\" y=\"-737.8\" font-family=\"Helvetica,sans-Serif\" baseline-shift=\"sub\" font-size=\"14.00\">0</text>\r\n<text text-anchor=\"start\" x=\"649\" y=\"-737.8\" font-family=\"Helvetica,sans-Serif\" font-size=\"14.00\"> ≤ 59.5</text>\r\n<text text-anchor=\"start\" x=\"612.5\" y=\"-723.8\" font-family=\"Helvetica,sans-Serif\" font-size=\"14.00\">entropy = 0.543</text>\r\n<text text-anchor=\"start\" x=\"615\" y=\"-709.8\" font-family=\"Helvetica,sans-Serif\" font-size=\"14.00\">samples = 690</text>\r\n<text text-anchor=\"start\" x=\"609.5\" y=\"-695.8\" font-family=\"Helvetica,sans-Serif\" font-size=\"14.00\">value = [604, 86]</text>\r\n<text text-anchor=\"start\" x=\"632.5\" y=\"-681.8\" font-family=\"Helvetica,sans-Serif\" font-size=\"14.00\">class = D</text>\r\n</g>\r\n<!-- 1 -->\r\n<g id=\"node2\" class=\"node\"><title>1</title>\r\n<path fill=\"#e5833c\" stroke=\"black\" d=\"M618.5,-638C618.5,-638 526.5,-638 526.5,-638 520.5,-638 514.5,-632 514.5,-626 514.5,-626 514.5,-572 514.5,-572 514.5,-566 520.5,-560 526.5,-560 526.5,-560 618.5,-560 618.5,-560 624.5,-560 630.5,-566 630.5,-572 630.5,-572 630.5,-626 630.5,-626 630.5,-632 624.5,-638 618.5,-638\"/>\r\n<text text-anchor=\"start\" x=\"539\" y=\"-623.8\" font-family=\"Helvetica,sans-Serif\" font-size=\"14.00\">X</text>\r\n<text text-anchor=\"start\" x=\"549\" y=\"-623.8\" font-family=\"Helvetica,sans-Serif\" baseline-shift=\"sub\" font-size=\"14.00\">143</text>\r\n<text text-anchor=\"start\" x=\"570\" y=\"-623.8\" font-family=\"Helvetica,sans-Serif\" font-size=\"14.00\"> ≤ 0.5</text>\r\n<text text-anchor=\"start\" x=\"522.5\" y=\"-609.8\" font-family=\"Helvetica,sans-Serif\" font-size=\"14.00\">entropy = 0.122</text>\r\n<text text-anchor=\"start\" x=\"525\" y=\"-595.8\" font-family=\"Helvetica,sans-Serif\" font-size=\"14.00\">samples = 539</text>\r\n<text text-anchor=\"start\" x=\"524\" y=\"-581.8\" font-family=\"Helvetica,sans-Serif\" font-size=\"14.00\">value = [530, 9]</text>\r\n<text text-anchor=\"start\" x=\"542.5\" y=\"-567.8\" font-family=\"Helvetica,sans-Serif\" font-size=\"14.00\">class = D</text>\r\n</g>\r\n<!-- 0&#45;&gt;1 -->\r\n<g id=\"edge1\" class=\"edge\"><title>0&#45;&gt;1</title>\r\n<path fill=\"none\" stroke=\"black\" d=\"M631.779,-673.769C624.611,-664.849 616.903,-655.257 609.495,-646.038\"/>\r\n<polygon fill=\"black\" stroke=\"black\" points=\"612.075,-643.661 603.083,-638.058 606.618,-648.046 612.075,-643.661\"/>\r\n<text text-anchor=\"middle\" x=\"600.376\" y=\"-659.212\" font-family=\"Helvetica,sans-Serif\" font-size=\"14.00\">True</text>\r\n</g>\r\n<!-- 14 -->\r\n<g id=\"node15\" class=\"node\"><title>14</title>\r\n<path fill=\"#f7fbfe\" stroke=\"black\" d=\"M798,-638C798,-638 709,-638 709,-638 703,-638 697,-632 697,-626 697,-626 697,-572 697,-572 697,-566 703,-560 709,-560 709,-560 798,-560 798,-560 804,-560 810,-566 810,-572 810,-572 810,-626 810,-626 810,-632 804,-638 798,-638\"/>\r\n<text text-anchor=\"start\" x=\"723\" y=\"-623.8\" font-family=\"Helvetica,sans-Serif\" font-size=\"14.00\">X</text>\r\n<text text-anchor=\"start\" x=\"733\" y=\"-623.8\" font-family=\"Helvetica,sans-Serif\" baseline-shift=\"sub\" font-size=\"14.00\">0</text>\r\n<text text-anchor=\"start\" x=\"740\" y=\"-623.8\" font-family=\"Helvetica,sans-Serif\" font-size=\"14.00\"> ≤ 66.5</text>\r\n<text text-anchor=\"start\" x=\"711.5\" y=\"-609.8\" font-family=\"Helvetica,sans-Serif\" font-size=\"14.00\">entropy = 1.0</text>\r\n<text text-anchor=\"start\" x=\"706\" y=\"-595.8\" font-family=\"Helvetica,sans-Serif\" font-size=\"14.00\">samples = 151</text>\r\n<text text-anchor=\"start\" x=\"705\" y=\"-581.8\" font-family=\"Helvetica,sans-Serif\" font-size=\"14.00\">value = [74, 77]</text>\r\n<text text-anchor=\"start\" x=\"724.5\" y=\"-567.8\" font-family=\"Helvetica,sans-Serif\" font-size=\"14.00\">class = e</text>\r\n</g>\r\n<!-- 0&#45;&gt;14 -->\r\n<g id=\"edge14\" class=\"edge\"><title>0&#45;&gt;14</title>\r\n<path fill=\"none\" stroke=\"black\" d=\"M693.563,-673.769C700.81,-664.849 708.603,-655.257 716.094,-646.038\"/>\r\n<polygon fill=\"black\" stroke=\"black\" points=\"718.988,-648.027 722.577,-638.058 713.555,-643.613 718.988,-648.027\"/>\r\n<text text-anchor=\"middle\" x=\"725.15\" y=\"-659.226\" font-family=\"Helvetica,sans-Serif\" font-size=\"14.00\">False</text>\r\n</g>\r\n<!-- 2 -->\r\n<g id=\"node3\" class=\"node\"><title>2</title>\r\n<path fill=\"#e5823a\" stroke=\"black\" d=\"M409,-524C409,-524 320,-524 320,-524 314,-524 308,-518 308,-512 308,-512 308,-458 308,-458 308,-452 314,-446 320,-446 320,-446 409,-446 409,-446 415,-446 421,-452 421,-458 421,-458 421,-512 421,-512 421,-518 415,-524 409,-524\"/>\r\n<text text-anchor=\"start\" x=\"331\" y=\"-509.8\" font-family=\"Helvetica,sans-Serif\" font-size=\"14.00\">X</text>\r\n<text text-anchor=\"start\" x=\"341\" y=\"-509.8\" font-family=\"Helvetica,sans-Serif\" baseline-shift=\"sub\" font-size=\"14.00\">144</text>\r\n<text text-anchor=\"start\" x=\"362\" y=\"-509.8\" font-family=\"Helvetica,sans-Serif\" font-size=\"14.00\"> ≤ 0.5</text>\r\n<text text-anchor=\"start\" x=\"318.5\" y=\"-495.8\" font-family=\"Helvetica,sans-Serif\" font-size=\"14.00\">entropy = 0.05</text>\r\n<text text-anchor=\"start\" x=\"317\" y=\"-481.8\" font-family=\"Helvetica,sans-Serif\" font-size=\"14.00\">samples = 532</text>\r\n<text text-anchor=\"start\" x=\"316\" y=\"-467.8\" font-family=\"Helvetica,sans-Serif\" font-size=\"14.00\">value = [529, 3]</text>\r\n<text text-anchor=\"start\" x=\"334.5\" y=\"-453.8\" font-family=\"Helvetica,sans-Serif\" font-size=\"14.00\">class = D</text>\r\n</g>\r\n<!-- 1&#45;&gt;2 -->\r\n<g id=\"edge2\" class=\"edge\"><title>1&#45;&gt;2</title>\r\n<path fill=\"none\" stroke=\"black\" d=\"M514.284,-566.653C488.153,-552.583 457.205,-535.918 430.243,-521.4\"/>\r\n<polygon fill=\"black\" stroke=\"black\" points=\"431.729,-518.225 421.265,-516.566 428.41,-524.388 431.729,-518.225\"/>\r\n</g>\r\n<!-- 11 -->\r\n<g id=\"node12\" class=\"node\"><title>11</title>\r\n<path fill=\"#5aade9\" stroke=\"black\" d=\"M618.5,-524C618.5,-524 526.5,-524 526.5,-524 520.5,-524 514.5,-518 514.5,-512 514.5,-512 514.5,-458 514.5,-458 514.5,-452 520.5,-446 526.5,-446 526.5,-446 618.5,-446 618.5,-446 624.5,-446 630.5,-452 630.5,-458 630.5,-458 630.5,-512 630.5,-512 630.5,-518 624.5,-524 618.5,-524\"/>\r\n<text text-anchor=\"start\" x=\"546\" y=\"-509.8\" font-family=\"Helvetica,sans-Serif\" font-size=\"14.00\">X</text>\r\n<text text-anchor=\"start\" x=\"556\" y=\"-509.8\" font-family=\"Helvetica,sans-Serif\" baseline-shift=\"sub\" font-size=\"14.00\">1</text>\r\n<text text-anchor=\"start\" x=\"563\" y=\"-509.8\" font-family=\"Helvetica,sans-Serif\" font-size=\"14.00\"> ≤ 2.0</text>\r\n<text text-anchor=\"start\" x=\"522.5\" y=\"-495.8\" font-family=\"Helvetica,sans-Serif\" font-size=\"14.00\">entropy = 0.592</text>\r\n<text text-anchor=\"start\" x=\"533\" y=\"-481.8\" font-family=\"Helvetica,sans-Serif\" font-size=\"14.00\">samples = 7</text>\r\n<text text-anchor=\"start\" x=\"532\" y=\"-467.8\" font-family=\"Helvetica,sans-Serif\" font-size=\"14.00\">value = [1, 6]</text>\r\n<text text-anchor=\"start\" x=\"543.5\" y=\"-453.8\" font-family=\"Helvetica,sans-Serif\" font-size=\"14.00\">class = e</text>\r\n</g>\r\n<!-- 1&#45;&gt;11 -->\r\n<g id=\"edge11\" class=\"edge\"><title>1&#45;&gt;11</title>\r\n<path fill=\"none\" stroke=\"black\" d=\"M572.5,-559.769C572.5,-551.57 572.5,-542.803 572.5,-534.28\"/>\r\n<polygon fill=\"black\" stroke=\"black\" points=\"576,-534.058 572.5,-524.058 569,-534.059 576,-534.058\"/>\r\n</g>\r\n<!-- 3 -->\r\n<g id=\"node4\" class=\"node\"><title>3</title>\r\n<path fill=\"#e5813a\" stroke=\"black\" d=\"M284.5,-410C284.5,-410 192.5,-410 192.5,-410 186.5,-410 180.5,-404 180.5,-398 180.5,-398 180.5,-344 180.5,-344 180.5,-338 186.5,-332 192.5,-332 192.5,-332 284.5,-332 284.5,-332 290.5,-332 296.5,-338 296.5,-344 296.5,-344 296.5,-398 296.5,-398 296.5,-404 290.5,-410 284.5,-410\"/>\r\n<text text-anchor=\"start\" x=\"208\" y=\"-395.8\" font-family=\"Helvetica,sans-Serif\" font-size=\"14.00\">X</text>\r\n<text text-anchor=\"start\" x=\"218\" y=\"-395.8\" font-family=\"Helvetica,sans-Serif\" baseline-shift=\"sub\" font-size=\"14.00\">0</text>\r\n<text text-anchor=\"start\" x=\"225\" y=\"-395.8\" font-family=\"Helvetica,sans-Serif\" font-size=\"14.00\"> ≤ 56.5</text>\r\n<text text-anchor=\"start\" x=\"188.5\" y=\"-381.8\" font-family=\"Helvetica,sans-Serif\" font-size=\"14.00\">entropy = 0.036</text>\r\n<text text-anchor=\"start\" x=\"191\" y=\"-367.8\" font-family=\"Helvetica,sans-Serif\" font-size=\"14.00\">samples = 531</text>\r\n<text text-anchor=\"start\" x=\"190\" y=\"-353.8\" font-family=\"Helvetica,sans-Serif\" font-size=\"14.00\">value = [529, 2]</text>\r\n<text text-anchor=\"start\" x=\"208.5\" y=\"-339.8\" font-family=\"Helvetica,sans-Serif\" font-size=\"14.00\">class = D</text>\r\n</g>\r\n<!-- 2&#45;&gt;3 -->\r\n<g id=\"edge3\" class=\"edge\"><title>2&#45;&gt;3</title>\r\n<path fill=\"none\" stroke=\"black\" d=\"M321.49,-445.769C311.049,-436.488 299.791,-426.481 289.038,-416.923\"/>\r\n<polygon fill=\"black\" stroke=\"black\" points=\"291.115,-414.086 281.316,-410.058 286.465,-419.318 291.115,-414.086\"/>\r\n</g>\r\n<!-- 10 -->\r\n<g id=\"node11\" class=\"node\"><title>10</title>\r\n<path fill=\"#399de5\" stroke=\"black\" d=\"M402.5,-405C402.5,-405 326.5,-405 326.5,-405 320.5,-405 314.5,-399 314.5,-393 314.5,-393 314.5,-349 314.5,-349 314.5,-343 320.5,-337 326.5,-337 326.5,-337 402.5,-337 402.5,-337 408.5,-337 414.5,-343 414.5,-349 414.5,-349 414.5,-393 414.5,-393 414.5,-399 408.5,-405 402.5,-405\"/>\r\n<text text-anchor=\"start\" x=\"322.5\" y=\"-389.8\" font-family=\"Helvetica,sans-Serif\" font-size=\"14.00\">entropy = 0.0</text>\r\n<text text-anchor=\"start\" x=\"325\" y=\"-374.8\" font-family=\"Helvetica,sans-Serif\" font-size=\"14.00\">samples = 1</text>\r\n<text text-anchor=\"start\" x=\"324\" y=\"-359.8\" font-family=\"Helvetica,sans-Serif\" font-size=\"14.00\">value = [0, 1]</text>\r\n<text text-anchor=\"start\" x=\"335.5\" y=\"-344.8\" font-family=\"Helvetica,sans-Serif\" font-size=\"14.00\">class = e</text>\r\n</g>\r\n<!-- 2&#45;&gt;10 -->\r\n<g id=\"edge10\" class=\"edge\"><title>2&#45;&gt;10</title>\r\n<path fill=\"none\" stroke=\"black\" d=\"M364.5,-445.769C364.5,-435.986 364.5,-425.397 364.5,-415.376\"/>\r\n<polygon fill=\"black\" stroke=\"black\" points=\"368,-415.196 364.5,-405.196 361,-415.196 368,-415.196\"/>\r\n</g>\r\n<!-- 4 -->\r\n<g id=\"node5\" class=\"node\"><title>4</title>\r\n<path fill=\"#e58139\" stroke=\"black\" d=\"M150,-291C150,-291 61,-291 61,-291 55,-291 49,-285 49,-279 49,-279 49,-235 49,-235 49,-229 55,-223 61,-223 61,-223 150,-223 150,-223 156,-223 162,-229 162,-235 162,-235 162,-279 162,-279 162,-285 156,-291 150,-291\"/>\r\n<text text-anchor=\"start\" x=\"63.5\" y=\"-275.8\" font-family=\"Helvetica,sans-Serif\" font-size=\"14.00\">entropy = 0.0</text>\r\n<text text-anchor=\"start\" x=\"58\" y=\"-260.8\" font-family=\"Helvetica,sans-Serif\" font-size=\"14.00\">samples = 503</text>\r\n<text text-anchor=\"start\" x=\"57\" y=\"-245.8\" font-family=\"Helvetica,sans-Serif\" font-size=\"14.00\">value = [503, 0]</text>\r\n<text text-anchor=\"start\" x=\"75.5\" y=\"-230.8\" font-family=\"Helvetica,sans-Serif\" font-size=\"14.00\">class = D</text>\r\n</g>\r\n<!-- 3&#45;&gt;4 -->\r\n<g id=\"edge4\" class=\"edge\"><title>3&#45;&gt;4</title>\r\n<path fill=\"none\" stroke=\"black\" d=\"M193.101,-331.769C180.139,-320.854 165.983,-308.933 152.905,-297.92\"/>\r\n<polygon fill=\"black\" stroke=\"black\" points=\"154.824,-294.961 144.921,-291.196 150.315,-300.315 154.824,-294.961\"/>\r\n</g>\r\n<!-- 5 -->\r\n<g id=\"node6\" class=\"node\"><title>5</title>\r\n<path fill=\"#e78b48\" stroke=\"black\" d=\"M284.5,-296C284.5,-296 192.5,-296 192.5,-296 186.5,-296 180.5,-290 180.5,-284 180.5,-284 180.5,-230 180.5,-230 180.5,-224 186.5,-218 192.5,-218 192.5,-218 284.5,-218 284.5,-218 290.5,-218 296.5,-224 296.5,-230 296.5,-230 296.5,-284 296.5,-284 296.5,-290 290.5,-296 284.5,-296\"/>\r\n<text text-anchor=\"start\" x=\"205\" y=\"-281.8\" font-family=\"Helvetica,sans-Serif\" font-size=\"14.00\">X</text>\r\n<text text-anchor=\"start\" x=\"215\" y=\"-281.8\" font-family=\"Helvetica,sans-Serif\" baseline-shift=\"sub\" font-size=\"14.00\">107</text>\r\n<text text-anchor=\"start\" x=\"236\" y=\"-281.8\" font-family=\"Helvetica,sans-Serif\" font-size=\"14.00\"> ≤ 0.5</text>\r\n<text text-anchor=\"start\" x=\"188.5\" y=\"-267.8\" font-family=\"Helvetica,sans-Serif\" font-size=\"14.00\">entropy = 0.371</text>\r\n<text text-anchor=\"start\" x=\"195\" y=\"-253.8\" font-family=\"Helvetica,sans-Serif\" font-size=\"14.00\">samples = 28</text>\r\n<text text-anchor=\"start\" x=\"194\" y=\"-239.8\" font-family=\"Helvetica,sans-Serif\" font-size=\"14.00\">value = [26, 2]</text>\r\n<text text-anchor=\"start\" x=\"208.5\" y=\"-225.8\" font-family=\"Helvetica,sans-Serif\" font-size=\"14.00\">class = D</text>\r\n</g>\r\n<!-- 3&#45;&gt;5 -->\r\n<g id=\"edge5\" class=\"edge\"><title>3&#45;&gt;5</title>\r\n<path fill=\"none\" stroke=\"black\" d=\"M238.5,-331.769C238.5,-323.57 238.5,-314.803 238.5,-306.28\"/>\r\n<polygon fill=\"black\" stroke=\"black\" points=\"242,-306.058 238.5,-296.058 235,-306.059 242,-306.058\"/>\r\n</g>\r\n<!-- 6 -->\r\n<g id=\"node7\" class=\"node\"><title>6</title>\r\n<path fill=\"#e68641\" stroke=\"black\" d=\"M158.5,-182C158.5,-182 66.5,-182 66.5,-182 60.5,-182 54.5,-176 54.5,-170 54.5,-170 54.5,-116 54.5,-116 54.5,-110 60.5,-104 66.5,-104 66.5,-104 158.5,-104 158.5,-104 164.5,-104 170.5,-110 170.5,-116 170.5,-116 170.5,-170 170.5,-170 170.5,-176 164.5,-182 158.5,-182\"/>\r\n<text text-anchor=\"start\" x=\"86\" y=\"-167.8\" font-family=\"Helvetica,sans-Serif\" font-size=\"14.00\">X</text>\r\n<text text-anchor=\"start\" x=\"96\" y=\"-167.8\" font-family=\"Helvetica,sans-Serif\" baseline-shift=\"sub\" font-size=\"14.00\">1</text>\r\n<text text-anchor=\"start\" x=\"103\" y=\"-167.8\" font-family=\"Helvetica,sans-Serif\" font-size=\"14.00\"> ≤ 3.0</text>\r\n<text text-anchor=\"start\" x=\"62.5\" y=\"-153.8\" font-family=\"Helvetica,sans-Serif\" font-size=\"14.00\">entropy = 0.229</text>\r\n<text text-anchor=\"start\" x=\"69\" y=\"-139.8\" font-family=\"Helvetica,sans-Serif\" font-size=\"14.00\">samples = 27</text>\r\n<text text-anchor=\"start\" x=\"68\" y=\"-125.8\" font-family=\"Helvetica,sans-Serif\" font-size=\"14.00\">value = [26, 1]</text>\r\n<text text-anchor=\"start\" x=\"82.5\" y=\"-111.8\" font-family=\"Helvetica,sans-Serif\" font-size=\"14.00\">class = D</text>\r\n</g>\r\n<!-- 5&#45;&gt;6 -->\r\n<g id=\"edge6\" class=\"edge\"><title>5&#45;&gt;6</title>\r\n<path fill=\"none\" stroke=\"black\" d=\"M195.49,-217.769C185.049,-208.488 173.791,-198.481 163.038,-188.923\"/>\r\n<polygon fill=\"black\" stroke=\"black\" points=\"165.115,-186.086 155.316,-182.058 160.465,-191.318 165.115,-186.086\"/>\r\n</g>\r\n<!-- 9 -->\r\n<g id=\"node10\" class=\"node\"><title>9</title>\r\n<path fill=\"#399de5\" stroke=\"black\" d=\"M276.5,-177C276.5,-177 200.5,-177 200.5,-177 194.5,-177 188.5,-171 188.5,-165 188.5,-165 188.5,-121 188.5,-121 188.5,-115 194.5,-109 200.5,-109 200.5,-109 276.5,-109 276.5,-109 282.5,-109 288.5,-115 288.5,-121 288.5,-121 288.5,-165 288.5,-165 288.5,-171 282.5,-177 276.5,-177\"/>\r\n<text text-anchor=\"start\" x=\"196.5\" y=\"-161.8\" font-family=\"Helvetica,sans-Serif\" font-size=\"14.00\">entropy = 0.0</text>\r\n<text text-anchor=\"start\" x=\"199\" y=\"-146.8\" font-family=\"Helvetica,sans-Serif\" font-size=\"14.00\">samples = 1</text>\r\n<text text-anchor=\"start\" x=\"198\" y=\"-131.8\" font-family=\"Helvetica,sans-Serif\" font-size=\"14.00\">value = [0, 1]</text>\r\n<text text-anchor=\"start\" x=\"209.5\" y=\"-116.8\" font-family=\"Helvetica,sans-Serif\" font-size=\"14.00\">class = e</text>\r\n</g>\r\n<!-- 5&#45;&gt;9 -->\r\n<g id=\"edge9\" class=\"edge\"><title>5&#45;&gt;9</title>\r\n<path fill=\"none\" stroke=\"black\" d=\"M238.5,-217.769C238.5,-207.986 238.5,-197.397 238.5,-187.376\"/>\r\n<polygon fill=\"black\" stroke=\"black\" points=\"242,-187.196 238.5,-177.196 235,-187.196 242,-187.196\"/>\r\n</g>\r\n<!-- 7 -->\r\n<g id=\"node8\" class=\"node\"><title>7</title>\r\n<path fill=\"#e58139\" stroke=\"black\" d=\"M93,-68C93,-68 12,-68 12,-68 6,-68 0,-62 0,-56 0,-56 0,-12 0,-12 0,-6 6,-0 12,-0 12,-0 93,-0 93,-0 99,-0 105,-6 105,-12 105,-12 105,-56 105,-56 105,-62 99,-68 93,-68\"/>\r\n<text text-anchor=\"start\" x=\"10.5\" y=\"-52.8\" font-family=\"Helvetica,sans-Serif\" font-size=\"14.00\">entropy = 0.0</text>\r\n<text text-anchor=\"start\" x=\"9\" y=\"-37.8\" font-family=\"Helvetica,sans-Serif\" font-size=\"14.00\">samples = 25</text>\r\n<text text-anchor=\"start\" x=\"8\" y=\"-22.8\" font-family=\"Helvetica,sans-Serif\" font-size=\"14.00\">value = [25, 0]</text>\r\n<text text-anchor=\"start\" x=\"22.5\" y=\"-7.8\" font-family=\"Helvetica,sans-Serif\" font-size=\"14.00\">class = D</text>\r\n</g>\r\n<!-- 6&#45;&gt;7 -->\r\n<g id=\"edge7\" class=\"edge\"><title>6&#45;&gt;7</title>\r\n<path fill=\"none\" stroke=\"black\" d=\"M91.1773,-103.975C86.3275,-95.3257 81.1466,-86.0864 76.2044,-77.2729\"/>\r\n<polygon fill=\"black\" stroke=\"black\" points=\"79.1083,-75.2954 71.1645,-68.2849 73.0027,-78.7191 79.1083,-75.2954\"/>\r\n</g>\r\n<!-- 8 -->\r\n<g id=\"node9\" class=\"node\"><title>8</title>\r\n<path fill=\"#ffffff\" stroke=\"black\" d=\"M211.5,-68C211.5,-68 135.5,-68 135.5,-68 129.5,-68 123.5,-62 123.5,-56 123.5,-56 123.5,-12 123.5,-12 123.5,-6 129.5,-0 135.5,-0 135.5,-0 211.5,-0 211.5,-0 217.5,-0 223.5,-6 223.5,-12 223.5,-12 223.5,-56 223.5,-56 223.5,-62 217.5,-68 211.5,-68\"/>\r\n<text text-anchor=\"start\" x=\"131.5\" y=\"-52.8\" font-family=\"Helvetica,sans-Serif\" font-size=\"14.00\">entropy = 1.0</text>\r\n<text text-anchor=\"start\" x=\"134\" y=\"-37.8\" font-family=\"Helvetica,sans-Serif\" font-size=\"14.00\">samples = 2</text>\r\n<text text-anchor=\"start\" x=\"133\" y=\"-22.8\" font-family=\"Helvetica,sans-Serif\" font-size=\"14.00\">value = [1, 1]</text>\r\n<text text-anchor=\"start\" x=\"143.5\" y=\"-7.8\" font-family=\"Helvetica,sans-Serif\" font-size=\"14.00\">class = D</text>\r\n</g>\r\n<!-- 6&#45;&gt;8 -->\r\n<g id=\"edge8\" class=\"edge\"><title>6&#45;&gt;8</title>\r\n<path fill=\"none\" stroke=\"black\" d=\"M134.178,-103.975C139.161,-95.2346 144.487,-85.8919 149.559,-76.9947\"/>\r\n<polygon fill=\"black\" stroke=\"black\" points=\"152.612,-78.7058 154.524,-68.2849 146.531,-75.2389 152.612,-78.7058\"/>\r\n</g>\r\n<!-- 12 -->\r\n<g id=\"node13\" class=\"node\"><title>12</title>\r\n<path fill=\"#399de5\" stroke=\"black\" d=\"M520.5,-405C520.5,-405 444.5,-405 444.5,-405 438.5,-405 432.5,-399 432.5,-393 432.5,-393 432.5,-349 432.5,-349 432.5,-343 438.5,-337 444.5,-337 444.5,-337 520.5,-337 520.5,-337 526.5,-337 532.5,-343 532.5,-349 532.5,-349 532.5,-393 532.5,-393 532.5,-399 526.5,-405 520.5,-405\"/>\r\n<text text-anchor=\"start\" x=\"440.5\" y=\"-389.8\" font-family=\"Helvetica,sans-Serif\" font-size=\"14.00\">entropy = 0.0</text>\r\n<text text-anchor=\"start\" x=\"443\" y=\"-374.8\" font-family=\"Helvetica,sans-Serif\" font-size=\"14.00\">samples = 6</text>\r\n<text text-anchor=\"start\" x=\"442\" y=\"-359.8\" font-family=\"Helvetica,sans-Serif\" font-size=\"14.00\">value = [0, 6]</text>\r\n<text text-anchor=\"start\" x=\"453.5\" y=\"-344.8\" font-family=\"Helvetica,sans-Serif\" font-size=\"14.00\">class = e</text>\r\n</g>\r\n<!-- 11&#45;&gt;12 -->\r\n<g id=\"edge12\" class=\"edge\"><title>11&#45;&gt;12</title>\r\n<path fill=\"none\" stroke=\"black\" d=\"M541.779,-445.769C533.338,-435.266 524.15,-423.832 515.583,-413.17\"/>\r\n<polygon fill=\"black\" stroke=\"black\" points=\"518.168,-410.799 509.176,-405.196 512.711,-415.184 518.168,-410.799\"/>\r\n</g>\r\n<!-- 13 -->\r\n<g id=\"node14\" class=\"node\"><title>13</title>\r\n<path fill=\"#e58139\" stroke=\"black\" d=\"M638.5,-405C638.5,-405 562.5,-405 562.5,-405 556.5,-405 550.5,-399 550.5,-393 550.5,-393 550.5,-349 550.5,-349 550.5,-343 556.5,-337 562.5,-337 562.5,-337 638.5,-337 638.5,-337 644.5,-337 650.5,-343 650.5,-349 650.5,-349 650.5,-393 650.5,-393 650.5,-399 644.5,-405 638.5,-405\"/>\r\n<text text-anchor=\"start\" x=\"558.5\" y=\"-389.8\" font-family=\"Helvetica,sans-Serif\" font-size=\"14.00\">entropy = 0.0</text>\r\n<text text-anchor=\"start\" x=\"561\" y=\"-374.8\" font-family=\"Helvetica,sans-Serif\" font-size=\"14.00\">samples = 1</text>\r\n<text text-anchor=\"start\" x=\"560\" y=\"-359.8\" font-family=\"Helvetica,sans-Serif\" font-size=\"14.00\">value = [1, 0]</text>\r\n<text text-anchor=\"start\" x=\"570.5\" y=\"-344.8\" font-family=\"Helvetica,sans-Serif\" font-size=\"14.00\">class = D</text>\r\n</g>\r\n<!-- 11&#45;&gt;13 -->\r\n<g id=\"edge13\" class=\"edge\"><title>11&#45;&gt;13</title>\r\n<path fill=\"none\" stroke=\"black\" d=\"M582.058,-445.769C584.529,-435.883 587.207,-425.174 589.735,-415.059\"/>\r\n<polygon fill=\"black\" stroke=\"black\" points=\"593.171,-415.747 592.201,-405.196 586.38,-414.049 593.171,-415.747\"/>\r\n</g>\r\n<!-- 15 -->\r\n<g id=\"node16\" class=\"node\"><title>15</title>\r\n<path fill=\"#eead7e\" stroke=\"black\" d=\"M799.5,-524C799.5,-524 707.5,-524 707.5,-524 701.5,-524 695.5,-518 695.5,-512 695.5,-512 695.5,-458 695.5,-458 695.5,-452 701.5,-446 707.5,-446 707.5,-446 799.5,-446 799.5,-446 805.5,-446 811.5,-452 811.5,-458 811.5,-458 811.5,-512 811.5,-512 811.5,-518 805.5,-524 799.5,-524\"/>\r\n<text text-anchor=\"start\" x=\"727\" y=\"-509.8\" font-family=\"Helvetica,sans-Serif\" font-size=\"14.00\">X</text>\r\n<text text-anchor=\"start\" x=\"737\" y=\"-509.8\" font-family=\"Helvetica,sans-Serif\" baseline-shift=\"sub\" font-size=\"14.00\">1</text>\r\n<text text-anchor=\"start\" x=\"744\" y=\"-509.8\" font-family=\"Helvetica,sans-Serif\" font-size=\"14.00\"> ≤ 3.5</text>\r\n<text text-anchor=\"start\" x=\"703.5\" y=\"-495.8\" font-family=\"Helvetica,sans-Serif\" font-size=\"14.00\">entropy = 0.822</text>\r\n<text text-anchor=\"start\" x=\"710\" y=\"-481.8\" font-family=\"Helvetica,sans-Serif\" font-size=\"14.00\">samples = 70</text>\r\n<text text-anchor=\"start\" x=\"705\" y=\"-467.8\" font-family=\"Helvetica,sans-Serif\" font-size=\"14.00\">value = [52, 18]</text>\r\n<text text-anchor=\"start\" x=\"723.5\" y=\"-453.8\" font-family=\"Helvetica,sans-Serif\" font-size=\"14.00\">class = D</text>\r\n</g>\r\n<!-- 14&#45;&gt;15 -->\r\n<g id=\"edge15\" class=\"edge\"><title>14&#45;&gt;15</title>\r\n<path fill=\"none\" stroke=\"black\" d=\"M753.5,-559.769C753.5,-551.57 753.5,-542.803 753.5,-534.28\"/>\r\n<polygon fill=\"black\" stroke=\"black\" points=\"757,-534.058 753.5,-524.058 750,-534.059 757,-534.058\"/>\r\n</g>\r\n<!-- 32 -->\r\n<g id=\"node33\" class=\"node\"><title>32</title>\r\n<path fill=\"#83c2ef\" stroke=\"black\" d=\"M1351.5,-524C1351.5,-524 1259.5,-524 1259.5,-524 1253.5,-524 1247.5,-518 1247.5,-512 1247.5,-512 1247.5,-458 1247.5,-458 1247.5,-452 1253.5,-446 1259.5,-446 1259.5,-446 1351.5,-446 1351.5,-446 1357.5,-446 1363.5,-452 1363.5,-458 1363.5,-458 1363.5,-512 1363.5,-512 1363.5,-518 1357.5,-524 1351.5,-524\"/>\r\n<text text-anchor=\"start\" x=\"1272\" y=\"-509.8\" font-family=\"Helvetica,sans-Serif\" font-size=\"14.00\">X</text>\r\n<text text-anchor=\"start\" x=\"1282\" y=\"-509.8\" font-family=\"Helvetica,sans-Serif\" baseline-shift=\"sub\" font-size=\"14.00\">179</text>\r\n<text text-anchor=\"start\" x=\"1303\" y=\"-509.8\" font-family=\"Helvetica,sans-Serif\" font-size=\"14.00\"> ≤ 0.5</text>\r\n<text text-anchor=\"start\" x=\"1255.5\" y=\"-495.8\" font-family=\"Helvetica,sans-Serif\" font-size=\"14.00\">entropy = 0.844</text>\r\n<text text-anchor=\"start\" x=\"1262\" y=\"-481.8\" font-family=\"Helvetica,sans-Serif\" font-size=\"14.00\">samples = 81</text>\r\n<text text-anchor=\"start\" x=\"1257\" y=\"-467.8\" font-family=\"Helvetica,sans-Serif\" font-size=\"14.00\">value = [22, 59]</text>\r\n<text text-anchor=\"start\" x=\"1276.5\" y=\"-453.8\" font-family=\"Helvetica,sans-Serif\" font-size=\"14.00\">class = e</text>\r\n</g>\r\n<!-- 14&#45;&gt;32 -->\r\n<g id=\"edge32\" class=\"edge\"><title>14&#45;&gt;32</title>\r\n<path fill=\"none\" stroke=\"black\" d=\"M810.237,-586.488C912.418,-565.756 1126.96,-522.224 1237.09,-499.88\"/>\r\n<polygon fill=\"black\" stroke=\"black\" points=\"1237.99,-503.27 1247.09,-497.851 1236.59,-496.41 1237.99,-503.27\"/>\r\n</g>\r\n<!-- 16 -->\r\n<g id=\"node17\" class=\"node\"><title>16</title>\r\n<path fill=\"#ea995f\" stroke=\"black\" d=\"M772.5,-410C772.5,-410 680.5,-410 680.5,-410 674.5,-410 668.5,-404 668.5,-398 668.5,-398 668.5,-344 668.5,-344 668.5,-338 674.5,-332 680.5,-332 680.5,-332 772.5,-332 772.5,-332 778.5,-332 784.5,-338 784.5,-344 784.5,-344 784.5,-398 784.5,-398 784.5,-404 778.5,-410 772.5,-410\"/>\r\n<text text-anchor=\"start\" x=\"693\" y=\"-395.8\" font-family=\"Helvetica,sans-Serif\" font-size=\"14.00\">X</text>\r\n<text text-anchor=\"start\" x=\"703\" y=\"-395.8\" font-family=\"Helvetica,sans-Serif\" baseline-shift=\"sub\" font-size=\"14.00\">181</text>\r\n<text text-anchor=\"start\" x=\"724\" y=\"-395.8\" font-family=\"Helvetica,sans-Serif\" font-size=\"14.00\"> ≤ 0.5</text>\r\n<text text-anchor=\"start\" x=\"676.5\" y=\"-381.8\" font-family=\"Helvetica,sans-Serif\" font-size=\"14.00\">entropy = 0.636</text>\r\n<text text-anchor=\"start\" x=\"683\" y=\"-367.8\" font-family=\"Helvetica,sans-Serif\" font-size=\"14.00\">samples = 56</text>\r\n<text text-anchor=\"start\" x=\"682\" y=\"-353.8\" font-family=\"Helvetica,sans-Serif\" font-size=\"14.00\">value = [47, 9]</text>\r\n<text text-anchor=\"start\" x=\"696.5\" y=\"-339.8\" font-family=\"Helvetica,sans-Serif\" font-size=\"14.00\">class = D</text>\r\n</g>\r\n<!-- 15&#45;&gt;16 -->\r\n<g id=\"edge16\" class=\"edge\"><title>15&#45;&gt;16</title>\r\n<path fill=\"none\" stroke=\"black\" d=\"M744.284,-445.769C742.285,-437.48 740.147,-428.61 738.071,-419.999\"/>\r\n<polygon fill=\"black\" stroke=\"black\" points=\"741.421,-418.96 735.675,-410.058 734.616,-420.6 741.421,-418.96\"/>\r\n</g>\r\n<!-- 25 -->\r\n<g id=\"node26\" class=\"node\"><title>25</title>\r\n<path fill=\"#a7d3f3\" stroke=\"black\" d=\"M902.5,-410C902.5,-410 818.5,-410 818.5,-410 812.5,-410 806.5,-404 806.5,-398 806.5,-398 806.5,-344 806.5,-344 806.5,-338 812.5,-332 818.5,-332 818.5,-332 902.5,-332 902.5,-332 908.5,-332 914.5,-338 914.5,-344 914.5,-344 914.5,-398 914.5,-398 914.5,-404 908.5,-410 902.5,-410\"/>\r\n<text text-anchor=\"start\" x=\"830.5\" y=\"-395.8\" font-family=\"Helvetica,sans-Serif\" font-size=\"14.00\">X</text>\r\n<text text-anchor=\"start\" x=\"840.5\" y=\"-395.8\" font-family=\"Helvetica,sans-Serif\" baseline-shift=\"sub\" font-size=\"14.00\">35</text>\r\n<text text-anchor=\"start\" x=\"854.5\" y=\"-395.8\" font-family=\"Helvetica,sans-Serif\" font-size=\"14.00\"> ≤ 0.5</text>\r\n<text text-anchor=\"start\" x=\"814.5\" y=\"-381.8\" font-family=\"Helvetica,sans-Serif\" font-size=\"14.00\">entropy = 0.94</text>\r\n<text text-anchor=\"start\" x=\"817\" y=\"-367.8\" font-family=\"Helvetica,sans-Serif\" font-size=\"14.00\">samples = 14</text>\r\n<text text-anchor=\"start\" x=\"820\" y=\"-353.8\" font-family=\"Helvetica,sans-Serif\" font-size=\"14.00\">value = [5, 9]</text>\r\n<text text-anchor=\"start\" x=\"831.5\" y=\"-339.8\" font-family=\"Helvetica,sans-Serif\" font-size=\"14.00\">class = e</text>\r\n</g>\r\n<!-- 15&#45;&gt;25 -->\r\n<g id=\"edge25\" class=\"edge\"><title>15&#45;&gt;25</title>\r\n<path fill=\"none\" stroke=\"black\" d=\"M790.024,-445.769C798.718,-436.669 808.08,-426.87 817.05,-417.48\"/>\r\n<polygon fill=\"black\" stroke=\"black\" points=\"819.763,-419.707 824.141,-410.058 814.702,-414.871 819.763,-419.707\"/>\r\n</g>\r\n<!-- 17 -->\r\n<g id=\"node18\" class=\"node\"><title>17</title>\r\n<path fill=\"#e68742\" stroke=\"black\" d=\"M536.5,-296C536.5,-296 444.5,-296 444.5,-296 438.5,-296 432.5,-290 432.5,-284 432.5,-284 432.5,-230 432.5,-230 432.5,-224 438.5,-218 444.5,-218 444.5,-218 536.5,-218 536.5,-218 542.5,-218 548.5,-224 548.5,-230 548.5,-230 548.5,-284 548.5,-284 548.5,-290 542.5,-296 536.5,-296\"/>\r\n<text text-anchor=\"start\" x=\"457\" y=\"-281.8\" font-family=\"Helvetica,sans-Serif\" font-size=\"14.00\">X</text>\r\n<text text-anchor=\"start\" x=\"467\" y=\"-281.8\" font-family=\"Helvetica,sans-Serif\" baseline-shift=\"sub\" font-size=\"14.00\">212</text>\r\n<text text-anchor=\"start\" x=\"488\" y=\"-281.8\" font-family=\"Helvetica,sans-Serif\" font-size=\"14.00\"> ≤ 0.5</text>\r\n<text text-anchor=\"start\" x=\"440.5\" y=\"-267.8\" font-family=\"Helvetica,sans-Serif\" font-size=\"14.00\">entropy = 0.258</text>\r\n<text text-anchor=\"start\" x=\"447\" y=\"-253.8\" font-family=\"Helvetica,sans-Serif\" font-size=\"14.00\">samples = 46</text>\r\n<text text-anchor=\"start\" x=\"446\" y=\"-239.8\" font-family=\"Helvetica,sans-Serif\" font-size=\"14.00\">value = [44, 2]</text>\r\n<text text-anchor=\"start\" x=\"460.5\" y=\"-225.8\" font-family=\"Helvetica,sans-Serif\" font-size=\"14.00\">class = D</text>\r\n</g>\r\n<!-- 16&#45;&gt;17 -->\r\n<g id=\"edge17\" class=\"edge\"><title>16&#45;&gt;17</title>\r\n<path fill=\"none\" stroke=\"black\" d=\"M668.227,-336.48C665.29,-334.939 662.37,-333.437 659.5,-332 626.669,-315.557 589.351,-299.001 558.149,-285.73\"/>\r\n<polygon fill=\"black\" stroke=\"black\" points=\"559.247,-282.395 548.674,-281.721 556.52,-288.841 559.247,-282.395\"/>\r\n</g>\r\n<!-- 22 -->\r\n<g id=\"node23\" class=\"node\"><title>22</title>\r\n<path fill=\"#8ec7f0\" stroke=\"black\" d=\"M772.5,-296C772.5,-296 680.5,-296 680.5,-296 674.5,-296 668.5,-290 668.5,-284 668.5,-284 668.5,-230 668.5,-230 668.5,-224 674.5,-218 680.5,-218 680.5,-218 772.5,-218 772.5,-218 778.5,-218 784.5,-224 784.5,-230 784.5,-230 784.5,-284 784.5,-284 784.5,-290 778.5,-296 772.5,-296\"/>\r\n<text text-anchor=\"start\" x=\"693\" y=\"-281.8\" font-family=\"Helvetica,sans-Serif\" font-size=\"14.00\">X</text>\r\n<text text-anchor=\"start\" x=\"703\" y=\"-281.8\" font-family=\"Helvetica,sans-Serif\" baseline-shift=\"sub\" font-size=\"14.00\">175</text>\r\n<text text-anchor=\"start\" x=\"724\" y=\"-281.8\" font-family=\"Helvetica,sans-Serif\" font-size=\"14.00\"> ≤ 0.5</text>\r\n<text text-anchor=\"start\" x=\"676.5\" y=\"-267.8\" font-family=\"Helvetica,sans-Serif\" font-size=\"14.00\">entropy = 0.881</text>\r\n<text text-anchor=\"start\" x=\"683\" y=\"-253.8\" font-family=\"Helvetica,sans-Serif\" font-size=\"14.00\">samples = 10</text>\r\n<text text-anchor=\"start\" x=\"686\" y=\"-239.8\" font-family=\"Helvetica,sans-Serif\" font-size=\"14.00\">value = [3, 7]</text>\r\n<text text-anchor=\"start\" x=\"697.5\" y=\"-225.8\" font-family=\"Helvetica,sans-Serif\" font-size=\"14.00\">class = e</text>\r\n</g>\r\n<!-- 16&#45;&gt;22 -->\r\n<g id=\"edge22\" class=\"edge\"><title>16&#45;&gt;22</title>\r\n<path fill=\"none\" stroke=\"black\" d=\"M726.5,-331.769C726.5,-323.57 726.5,-314.803 726.5,-306.28\"/>\r\n<polygon fill=\"black\" stroke=\"black\" points=\"730,-306.058 726.5,-296.058 723,-306.059 730,-306.058\"/>\r\n</g>\r\n<!-- 18 -->\r\n<g id=\"node19\" class=\"node\"><title>18</title>\r\n<path fill=\"#e6843d\" stroke=\"black\" d=\"M410.5,-182C410.5,-182 318.5,-182 318.5,-182 312.5,-182 306.5,-176 306.5,-170 306.5,-170 306.5,-116 306.5,-116 306.5,-110 312.5,-104 318.5,-104 318.5,-104 410.5,-104 410.5,-104 416.5,-104 422.5,-110 422.5,-116 422.5,-116 422.5,-170 422.5,-170 422.5,-176 416.5,-182 410.5,-182\"/>\r\n<text text-anchor=\"start\" x=\"331\" y=\"-167.8\" font-family=\"Helvetica,sans-Serif\" font-size=\"14.00\">X</text>\r\n<text text-anchor=\"start\" x=\"341\" y=\"-167.8\" font-family=\"Helvetica,sans-Serif\" baseline-shift=\"sub\" font-size=\"14.00\">166</text>\r\n<text text-anchor=\"start\" x=\"362\" y=\"-167.8\" font-family=\"Helvetica,sans-Serif\" font-size=\"14.00\"> ≤ 0.5</text>\r\n<text text-anchor=\"start\" x=\"314.5\" y=\"-153.8\" font-family=\"Helvetica,sans-Serif\" font-size=\"14.00\">entropy = 0.154</text>\r\n<text text-anchor=\"start\" x=\"321\" y=\"-139.8\" font-family=\"Helvetica,sans-Serif\" font-size=\"14.00\">samples = 45</text>\r\n<text text-anchor=\"start\" x=\"320\" y=\"-125.8\" font-family=\"Helvetica,sans-Serif\" font-size=\"14.00\">value = [44, 1]</text>\r\n<text text-anchor=\"start\" x=\"334.5\" y=\"-111.8\" font-family=\"Helvetica,sans-Serif\" font-size=\"14.00\">class = D</text>\r\n</g>\r\n<!-- 17&#45;&gt;18 -->\r\n<g id=\"edge18\" class=\"edge\"><title>17&#45;&gt;18</title>\r\n<path fill=\"none\" stroke=\"black\" d=\"M447.49,-217.769C437.049,-208.488 425.791,-198.481 415.038,-188.923\"/>\r\n<polygon fill=\"black\" stroke=\"black\" points=\"417.115,-186.086 407.316,-182.058 412.465,-191.318 417.115,-186.086\"/>\r\n</g>\r\n<!-- 21 -->\r\n<g id=\"node22\" class=\"node\"><title>21</title>\r\n<path fill=\"#399de5\" stroke=\"black\" d=\"M528.5,-177C528.5,-177 452.5,-177 452.5,-177 446.5,-177 440.5,-171 440.5,-165 440.5,-165 440.5,-121 440.5,-121 440.5,-115 446.5,-109 452.5,-109 452.5,-109 528.5,-109 528.5,-109 534.5,-109 540.5,-115 540.5,-121 540.5,-121 540.5,-165 540.5,-165 540.5,-171 534.5,-177 528.5,-177\"/>\r\n<text text-anchor=\"start\" x=\"448.5\" y=\"-161.8\" font-family=\"Helvetica,sans-Serif\" font-size=\"14.00\">entropy = 0.0</text>\r\n<text text-anchor=\"start\" x=\"451\" y=\"-146.8\" font-family=\"Helvetica,sans-Serif\" font-size=\"14.00\">samples = 1</text>\r\n<text text-anchor=\"start\" x=\"450\" y=\"-131.8\" font-family=\"Helvetica,sans-Serif\" font-size=\"14.00\">value = [0, 1]</text>\r\n<text text-anchor=\"start\" x=\"461.5\" y=\"-116.8\" font-family=\"Helvetica,sans-Serif\" font-size=\"14.00\">class = e</text>\r\n</g>\r\n<!-- 17&#45;&gt;21 -->\r\n<g id=\"edge21\" class=\"edge\"><title>17&#45;&gt;21</title>\r\n<path fill=\"none\" stroke=\"black\" d=\"M490.5,-217.769C490.5,-207.986 490.5,-197.397 490.5,-187.376\"/>\r\n<polygon fill=\"black\" stroke=\"black\" points=\"494,-187.196 490.5,-177.196 487,-187.196 494,-187.196\"/>\r\n</g>\r\n<!-- 19 -->\r\n<g id=\"node20\" class=\"node\"><title>19</title>\r\n<path fill=\"#e58139\" stroke=\"black\" d=\"M370,-68C370,-68 289,-68 289,-68 283,-68 277,-62 277,-56 277,-56 277,-12 277,-12 277,-6 283,-0 289,-0 289,-0 370,-0 370,-0 376,-0 382,-6 382,-12 382,-12 382,-56 382,-56 382,-62 376,-68 370,-68\"/>\r\n<text text-anchor=\"start\" x=\"287.5\" y=\"-52.8\" font-family=\"Helvetica,sans-Serif\" font-size=\"14.00\">entropy = 0.0</text>\r\n<text text-anchor=\"start\" x=\"286\" y=\"-37.8\" font-family=\"Helvetica,sans-Serif\" font-size=\"14.00\">samples = 44</text>\r\n<text text-anchor=\"start\" x=\"285\" y=\"-22.8\" font-family=\"Helvetica,sans-Serif\" font-size=\"14.00\">value = [44, 0]</text>\r\n<text text-anchor=\"start\" x=\"299.5\" y=\"-7.8\" font-family=\"Helvetica,sans-Serif\" font-size=\"14.00\">class = D</text>\r\n</g>\r\n<!-- 18&#45;&gt;19 -->\r\n<g id=\"edge19\" class=\"edge\"><title>18&#45;&gt;19</title>\r\n<path fill=\"none\" stroke=\"black\" d=\"M352.062,-103.975C349.292,-95.5077 346.338,-86.4752 343.51,-77.8301\"/>\r\n<polygon fill=\"black\" stroke=\"black\" points=\"346.823,-76.7012 340.388,-68.2849 340.17,-78.8775 346.823,-76.7012\"/>\r\n</g>\r\n<!-- 20 -->\r\n<g id=\"node21\" class=\"node\"><title>20</title>\r\n<path fill=\"#399de5\" stroke=\"black\" d=\"M488.5,-68C488.5,-68 412.5,-68 412.5,-68 406.5,-68 400.5,-62 400.5,-56 400.5,-56 400.5,-12 400.5,-12 400.5,-6 406.5,-0 412.5,-0 412.5,-0 488.5,-0 488.5,-0 494.5,-0 500.5,-6 500.5,-12 500.5,-12 500.5,-56 500.5,-56 500.5,-62 494.5,-68 488.5,-68\"/>\r\n<text text-anchor=\"start\" x=\"408.5\" y=\"-52.8\" font-family=\"Helvetica,sans-Serif\" font-size=\"14.00\">entropy = 0.0</text>\r\n<text text-anchor=\"start\" x=\"411\" y=\"-37.8\" font-family=\"Helvetica,sans-Serif\" font-size=\"14.00\">samples = 1</text>\r\n<text text-anchor=\"start\" x=\"410\" y=\"-22.8\" font-family=\"Helvetica,sans-Serif\" font-size=\"14.00\">value = [0, 1]</text>\r\n<text text-anchor=\"start\" x=\"421.5\" y=\"-7.8\" font-family=\"Helvetica,sans-Serif\" font-size=\"14.00\">class = e</text>\r\n</g>\r\n<!-- 18&#45;&gt;20 -->\r\n<g id=\"edge20\" class=\"edge\"><title>18&#45;&gt;20</title>\r\n<path fill=\"none\" stroke=\"black\" d=\"M395.063,-103.975C402.307,-94.9615 410.066,-85.3074 417.417,-76.1619\"/>\r\n<polygon fill=\"black\" stroke=\"black\" points=\"420.211,-78.2721 423.748,-68.2849 414.755,-73.8868 420.211,-78.2721\"/>\r\n</g>\r\n<!-- 23 -->\r\n<g id=\"node24\" class=\"node\"><title>23</title>\r\n<path fill=\"#399de5\" stroke=\"black\" d=\"M646.5,-177C646.5,-177 570.5,-177 570.5,-177 564.5,-177 558.5,-171 558.5,-165 558.5,-165 558.5,-121 558.5,-121 558.5,-115 564.5,-109 570.5,-109 570.5,-109 646.5,-109 646.5,-109 652.5,-109 658.5,-115 658.5,-121 658.5,-121 658.5,-165 658.5,-165 658.5,-171 652.5,-177 646.5,-177\"/>\r\n<text text-anchor=\"start\" x=\"566.5\" y=\"-161.8\" font-family=\"Helvetica,sans-Serif\" font-size=\"14.00\">entropy = 0.0</text>\r\n<text text-anchor=\"start\" x=\"569\" y=\"-146.8\" font-family=\"Helvetica,sans-Serif\" font-size=\"14.00\">samples = 6</text>\r\n<text text-anchor=\"start\" x=\"568\" y=\"-131.8\" font-family=\"Helvetica,sans-Serif\" font-size=\"14.00\">value = [0, 6]</text>\r\n<text text-anchor=\"start\" x=\"579.5\" y=\"-116.8\" font-family=\"Helvetica,sans-Serif\" font-size=\"14.00\">class = e</text>\r\n</g>\r\n<!-- 22&#45;&gt;23 -->\r\n<g id=\"edge23\" class=\"edge\"><title>22&#45;&gt;23</title>\r\n<path fill=\"none\" stroke=\"black\" d=\"M686.221,-217.769C674.829,-206.957 662.399,-195.158 650.887,-184.232\"/>\r\n<polygon fill=\"black\" stroke=\"black\" points=\"653.137,-181.542 643.475,-177.196 648.318,-186.619 653.137,-181.542\"/>\r\n</g>\r\n<!-- 24 -->\r\n<g id=\"node25\" class=\"node\"><title>24</title>\r\n<path fill=\"#eeab7b\" stroke=\"black\" d=\"M780.5,-177C780.5,-177 688.5,-177 688.5,-177 682.5,-177 676.5,-171 676.5,-165 676.5,-165 676.5,-121 676.5,-121 676.5,-115 682.5,-109 688.5,-109 688.5,-109 780.5,-109 780.5,-109 786.5,-109 792.5,-115 792.5,-121 792.5,-121 792.5,-165 792.5,-165 792.5,-171 786.5,-177 780.5,-177\"/>\r\n<text text-anchor=\"start\" x=\"684.5\" y=\"-161.8\" font-family=\"Helvetica,sans-Serif\" font-size=\"14.00\">entropy = 0.811</text>\r\n<text text-anchor=\"start\" x=\"695\" y=\"-146.8\" font-family=\"Helvetica,sans-Serif\" font-size=\"14.00\">samples = 4</text>\r\n<text text-anchor=\"start\" x=\"694\" y=\"-131.8\" font-family=\"Helvetica,sans-Serif\" font-size=\"14.00\">value = [3, 1]</text>\r\n<text text-anchor=\"start\" x=\"704.5\" y=\"-116.8\" font-family=\"Helvetica,sans-Serif\" font-size=\"14.00\">class = D</text>\r\n</g>\r\n<!-- 22&#45;&gt;24 -->\r\n<g id=\"edge24\" class=\"edge\"><title>22&#45;&gt;24</title>\r\n<path fill=\"none\" stroke=\"black\" d=\"M729.231,-217.769C729.93,-207.986 730.686,-197.397 731.402,-187.376\"/>\r\n<polygon fill=\"black\" stroke=\"black\" points=\"734.907,-187.42 732.129,-177.196 727.925,-186.922 734.907,-187.42\"/>\r\n</g>\r\n<!-- 26 -->\r\n<g id=\"node27\" class=\"node\"><title>26</title>\r\n<path fill=\"#7bbeee\" stroke=\"black\" d=\"M906.5,-296C906.5,-296 814.5,-296 814.5,-296 808.5,-296 802.5,-290 802.5,-284 802.5,-284 802.5,-230 802.5,-230 802.5,-224 808.5,-218 814.5,-218 814.5,-218 906.5,-218 906.5,-218 912.5,-218 918.5,-224 918.5,-230 918.5,-230 918.5,-284 918.5,-284 918.5,-290 912.5,-296 906.5,-296\"/>\r\n<text text-anchor=\"start\" x=\"830\" y=\"-281.8\" font-family=\"Helvetica,sans-Serif\" font-size=\"14.00\">X</text>\r\n<text text-anchor=\"start\" x=\"840\" y=\"-281.8\" font-family=\"Helvetica,sans-Serif\" baseline-shift=\"sub\" font-size=\"14.00\">0</text>\r\n<text text-anchor=\"start\" x=\"847\" y=\"-281.8\" font-family=\"Helvetica,sans-Serif\" font-size=\"14.00\"> ≤ 63.5</text>\r\n<text text-anchor=\"start\" x=\"810.5\" y=\"-267.8\" font-family=\"Helvetica,sans-Serif\" font-size=\"14.00\">entropy = 0.811</text>\r\n<text text-anchor=\"start\" x=\"817\" y=\"-253.8\" font-family=\"Helvetica,sans-Serif\" font-size=\"14.00\">samples = 12</text>\r\n<text text-anchor=\"start\" x=\"820\" y=\"-239.8\" font-family=\"Helvetica,sans-Serif\" font-size=\"14.00\">value = [3, 9]</text>\r\n<text text-anchor=\"start\" x=\"831.5\" y=\"-225.8\" font-family=\"Helvetica,sans-Serif\" font-size=\"14.00\">class = e</text>\r\n</g>\r\n<!-- 25&#45;&gt;26 -->\r\n<g id=\"edge26\" class=\"edge\"><title>25&#45;&gt;26</title>\r\n<path fill=\"none\" stroke=\"black\" d=\"M860.5,-331.769C860.5,-323.57 860.5,-314.803 860.5,-306.28\"/>\r\n<polygon fill=\"black\" stroke=\"black\" points=\"864,-306.058 860.5,-296.058 857,-306.059 864,-306.058\"/>\r\n</g>\r\n<!-- 31 -->\r\n<g id=\"node32\" class=\"node\"><title>31</title>\r\n<path fill=\"#e58139\" stroke=\"black\" d=\"M1024.5,-291C1024.5,-291 948.5,-291 948.5,-291 942.5,-291 936.5,-285 936.5,-279 936.5,-279 936.5,-235 936.5,-235 936.5,-229 942.5,-223 948.5,-223 948.5,-223 1024.5,-223 1024.5,-223 1030.5,-223 1036.5,-229 1036.5,-235 1036.5,-235 1036.5,-279 1036.5,-279 1036.5,-285 1030.5,-291 1024.5,-291\"/>\r\n<text text-anchor=\"start\" x=\"944.5\" y=\"-275.8\" font-family=\"Helvetica,sans-Serif\" font-size=\"14.00\">entropy = 0.0</text>\r\n<text text-anchor=\"start\" x=\"947\" y=\"-260.8\" font-family=\"Helvetica,sans-Serif\" font-size=\"14.00\">samples = 2</text>\r\n<text text-anchor=\"start\" x=\"946\" y=\"-245.8\" font-family=\"Helvetica,sans-Serif\" font-size=\"14.00\">value = [2, 0]</text>\r\n<text text-anchor=\"start\" x=\"956.5\" y=\"-230.8\" font-family=\"Helvetica,sans-Serif\" font-size=\"14.00\">class = D</text>\r\n</g>\r\n<!-- 25&#45;&gt;31 -->\r\n<g id=\"edge31\" class=\"edge\"><title>25&#45;&gt;31</title>\r\n<path fill=\"none\" stroke=\"black\" d=\"M903.51,-331.769C915.79,-320.854 929.2,-308.933 941.59,-297.92\"/>\r\n<polygon fill=\"black\" stroke=\"black\" points=\"944.005,-300.456 949.154,-291.196 939.355,-295.224 944.005,-300.456\"/>\r\n</g>\r\n<!-- 27 -->\r\n<g id=\"node28\" class=\"node\"><title>27</title>\r\n<path fill=\"#399de5\" stroke=\"black\" d=\"M898.5,-177C898.5,-177 822.5,-177 822.5,-177 816.5,-177 810.5,-171 810.5,-165 810.5,-165 810.5,-121 810.5,-121 810.5,-115 816.5,-109 822.5,-109 822.5,-109 898.5,-109 898.5,-109 904.5,-109 910.5,-115 910.5,-121 910.5,-121 910.5,-165 910.5,-165 910.5,-171 904.5,-177 898.5,-177\"/>\r\n<text text-anchor=\"start\" x=\"818.5\" y=\"-161.8\" font-family=\"Helvetica,sans-Serif\" font-size=\"14.00\">entropy = 0.0</text>\r\n<text text-anchor=\"start\" x=\"821\" y=\"-146.8\" font-family=\"Helvetica,sans-Serif\" font-size=\"14.00\">samples = 5</text>\r\n<text text-anchor=\"start\" x=\"820\" y=\"-131.8\" font-family=\"Helvetica,sans-Serif\" font-size=\"14.00\">value = [0, 5]</text>\r\n<text text-anchor=\"start\" x=\"831.5\" y=\"-116.8\" font-family=\"Helvetica,sans-Serif\" font-size=\"14.00\">class = e</text>\r\n</g>\r\n<!-- 26&#45;&gt;27 -->\r\n<g id=\"edge27\" class=\"edge\"><title>26&#45;&gt;27</title>\r\n<path fill=\"none\" stroke=\"black\" d=\"M860.5,-217.769C860.5,-207.986 860.5,-197.397 860.5,-187.376\"/>\r\n<polygon fill=\"black\" stroke=\"black\" points=\"864,-187.196 860.5,-177.196 857,-187.196 864,-187.196\"/>\r\n</g>\r\n<!-- 28 -->\r\n<g id=\"node29\" class=\"node\"><title>28</title>\r\n<path fill=\"#cee6f8\" stroke=\"black\" d=\"M1032.5,-182C1032.5,-182 940.5,-182 940.5,-182 934.5,-182 928.5,-176 928.5,-170 928.5,-170 928.5,-116 928.5,-116 928.5,-110 934.5,-104 940.5,-104 940.5,-104 1032.5,-104 1032.5,-104 1038.5,-104 1044.5,-110 1044.5,-116 1044.5,-116 1044.5,-170 1044.5,-170 1044.5,-176 1038.5,-182 1032.5,-182\"/>\r\n<text text-anchor=\"start\" x=\"953\" y=\"-167.8\" font-family=\"Helvetica,sans-Serif\" font-size=\"14.00\">X</text>\r\n<text text-anchor=\"start\" x=\"963\" y=\"-167.8\" font-family=\"Helvetica,sans-Serif\" baseline-shift=\"sub\" font-size=\"14.00\">238</text>\r\n<text text-anchor=\"start\" x=\"984\" y=\"-167.8\" font-family=\"Helvetica,sans-Serif\" font-size=\"14.00\"> ≤ 0.5</text>\r\n<text text-anchor=\"start\" x=\"936.5\" y=\"-153.8\" font-family=\"Helvetica,sans-Serif\" font-size=\"14.00\">entropy = 0.985</text>\r\n<text text-anchor=\"start\" x=\"947\" y=\"-139.8\" font-family=\"Helvetica,sans-Serif\" font-size=\"14.00\">samples = 7</text>\r\n<text text-anchor=\"start\" x=\"946\" y=\"-125.8\" font-family=\"Helvetica,sans-Serif\" font-size=\"14.00\">value = [3, 4]</text>\r\n<text text-anchor=\"start\" x=\"957.5\" y=\"-111.8\" font-family=\"Helvetica,sans-Serif\" font-size=\"14.00\">class = e</text>\r\n</g>\r\n<!-- 26&#45;&gt;28 -->\r\n<g id=\"edge28\" class=\"edge\"><title>26&#45;&gt;28</title>\r\n<path fill=\"none\" stroke=\"black\" d=\"M903.51,-217.769C913.951,-208.488 925.209,-198.481 935.962,-188.923\"/>\r\n<polygon fill=\"black\" stroke=\"black\" points=\"938.535,-191.318 943.684,-182.058 933.885,-186.086 938.535,-191.318\"/>\r\n</g>\r\n<!-- 29 -->\r\n<g id=\"node30\" class=\"node\"><title>29</title>\r\n<path fill=\"#399de5\" stroke=\"black\" d=\"M898.5,-68C898.5,-68 822.5,-68 822.5,-68 816.5,-68 810.5,-62 810.5,-56 810.5,-56 810.5,-12 810.5,-12 810.5,-6 816.5,-0 822.5,-0 822.5,-0 898.5,-0 898.5,-0 904.5,-0 910.5,-6 910.5,-12 910.5,-12 910.5,-56 910.5,-56 910.5,-62 904.5,-68 898.5,-68\"/>\r\n<text text-anchor=\"start\" x=\"818.5\" y=\"-52.8\" font-family=\"Helvetica,sans-Serif\" font-size=\"14.00\">entropy = 0.0</text>\r\n<text text-anchor=\"start\" x=\"821\" y=\"-37.8\" font-family=\"Helvetica,sans-Serif\" font-size=\"14.00\">samples = 3</text>\r\n<text text-anchor=\"start\" x=\"820\" y=\"-22.8\" font-family=\"Helvetica,sans-Serif\" font-size=\"14.00\">value = [0, 3]</text>\r\n<text text-anchor=\"start\" x=\"831.5\" y=\"-7.8\" font-family=\"Helvetica,sans-Serif\" font-size=\"14.00\">class = e</text>\r\n</g>\r\n<!-- 28&#45;&gt;29 -->\r\n<g id=\"edge29\" class=\"edge\"><title>28&#45;&gt;29</title>\r\n<path fill=\"none\" stroke=\"black\" d=\"M941.722,-103.975C930.573,-94.5063 918.59,-84.3306 907.344,-74.7803\"/>\r\n<polygon fill=\"black\" stroke=\"black\" points=\"909.583,-72.0901 899.695,-68.2849 905.052,-77.4258 909.583,-72.0901\"/>\r\n</g>\r\n<!-- 30 -->\r\n<g id=\"node31\" class=\"node\"><title>30</title>\r\n<path fill=\"#eeab7b\" stroke=\"black\" d=\"M1032.5,-68C1032.5,-68 940.5,-68 940.5,-68 934.5,-68 928.5,-62 928.5,-56 928.5,-56 928.5,-12 928.5,-12 928.5,-6 934.5,-0 940.5,-0 940.5,-0 1032.5,-0 1032.5,-0 1038.5,-0 1044.5,-6 1044.5,-12 1044.5,-12 1044.5,-56 1044.5,-56 1044.5,-62 1038.5,-68 1032.5,-68\"/>\r\n<text text-anchor=\"start\" x=\"936.5\" y=\"-52.8\" font-family=\"Helvetica,sans-Serif\" font-size=\"14.00\">entropy = 0.811</text>\r\n<text text-anchor=\"start\" x=\"947\" y=\"-37.8\" font-family=\"Helvetica,sans-Serif\" font-size=\"14.00\">samples = 4</text>\r\n<text text-anchor=\"start\" x=\"946\" y=\"-22.8\" font-family=\"Helvetica,sans-Serif\" font-size=\"14.00\">value = [3, 1]</text>\r\n<text text-anchor=\"start\" x=\"956.5\" y=\"-7.8\" font-family=\"Helvetica,sans-Serif\" font-size=\"14.00\">class = D</text>\r\n</g>\r\n<!-- 28&#45;&gt;30 -->\r\n<g id=\"edge30\" class=\"edge\"><title>28&#45;&gt;30</title>\r\n<path fill=\"none\" stroke=\"black\" d=\"M986.5,-103.975C986.5,-95.6898 986.5,-86.8634 986.5,-78.3884\"/>\r\n<polygon fill=\"black\" stroke=\"black\" points=\"990,-78.2849 986.5,-68.2849 983,-78.285 990,-78.2849\"/>\r\n</g>\r\n<!-- 33 -->\r\n<g id=\"node34\" class=\"node\"><title>33</title>\r\n<path fill=\"#72b9ec\" stroke=\"black\" d=\"M1351.5,-410C1351.5,-410 1259.5,-410 1259.5,-410 1253.5,-410 1247.5,-404 1247.5,-398 1247.5,-398 1247.5,-344 1247.5,-344 1247.5,-338 1253.5,-332 1259.5,-332 1259.5,-332 1351.5,-332 1351.5,-332 1357.5,-332 1363.5,-338 1363.5,-344 1363.5,-344 1363.5,-398 1363.5,-398 1363.5,-404 1357.5,-410 1351.5,-410\"/>\r\n<text text-anchor=\"start\" x=\"1272\" y=\"-395.8\" font-family=\"Helvetica,sans-Serif\" font-size=\"14.00\">X</text>\r\n<text text-anchor=\"start\" x=\"1282\" y=\"-395.8\" font-family=\"Helvetica,sans-Serif\" baseline-shift=\"sub\" font-size=\"14.00\">176</text>\r\n<text text-anchor=\"start\" x=\"1303\" y=\"-395.8\" font-family=\"Helvetica,sans-Serif\" font-size=\"14.00\"> ≤ 0.5</text>\r\n<text text-anchor=\"start\" x=\"1255.5\" y=\"-381.8\" font-family=\"Helvetica,sans-Serif\" font-size=\"14.00\">entropy = 0.767</text>\r\n<text text-anchor=\"start\" x=\"1262\" y=\"-367.8\" font-family=\"Helvetica,sans-Serif\" font-size=\"14.00\">samples = 76</text>\r\n<text text-anchor=\"start\" x=\"1257\" y=\"-353.8\" font-family=\"Helvetica,sans-Serif\" font-size=\"14.00\">value = [17, 59]</text>\r\n<text text-anchor=\"start\" x=\"1276.5\" y=\"-339.8\" font-family=\"Helvetica,sans-Serif\" font-size=\"14.00\">class = e</text>\r\n</g>\r\n<!-- 32&#45;&gt;33 -->\r\n<g id=\"edge33\" class=\"edge\"><title>32&#45;&gt;33</title>\r\n<path fill=\"none\" stroke=\"black\" d=\"M1305.5,-445.769C1305.5,-437.57 1305.5,-428.803 1305.5,-420.28\"/>\r\n<polygon fill=\"black\" stroke=\"black\" points=\"1309,-420.058 1305.5,-410.058 1302,-420.059 1309,-420.058\"/>\r\n</g>\r\n<!-- 46 -->\r\n<g id=\"node47\" class=\"node\"><title>46</title>\r\n<path fill=\"#e58139\" stroke=\"black\" d=\"M1469.5,-405C1469.5,-405 1393.5,-405 1393.5,-405 1387.5,-405 1381.5,-399 1381.5,-393 1381.5,-393 1381.5,-349 1381.5,-349 1381.5,-343 1387.5,-337 1393.5,-337 1393.5,-337 1469.5,-337 1469.5,-337 1475.5,-337 1481.5,-343 1481.5,-349 1481.5,-349 1481.5,-393 1481.5,-393 1481.5,-399 1475.5,-405 1469.5,-405\"/>\r\n<text text-anchor=\"start\" x=\"1389.5\" y=\"-389.8\" font-family=\"Helvetica,sans-Serif\" font-size=\"14.00\">entropy = 0.0</text>\r\n<text text-anchor=\"start\" x=\"1392\" y=\"-374.8\" font-family=\"Helvetica,sans-Serif\" font-size=\"14.00\">samples = 5</text>\r\n<text text-anchor=\"start\" x=\"1391\" y=\"-359.8\" font-family=\"Helvetica,sans-Serif\" font-size=\"14.00\">value = [5, 0]</text>\r\n<text text-anchor=\"start\" x=\"1401.5\" y=\"-344.8\" font-family=\"Helvetica,sans-Serif\" font-size=\"14.00\">class = D</text>\r\n</g>\r\n<!-- 32&#45;&gt;46 -->\r\n<g id=\"edge46\" class=\"edge\"><title>32&#45;&gt;46</title>\r\n<path fill=\"none\" stroke=\"black\" d=\"M1348.51,-445.769C1360.79,-434.854 1374.2,-422.933 1386.59,-411.92\"/>\r\n<polygon fill=\"black\" stroke=\"black\" points=\"1389.01,-414.456 1394.15,-405.196 1384.35,-409.224 1389.01,-414.456\"/>\r\n</g>\r\n<!-- 34 -->\r\n<g id=\"node35\" class=\"node\"><title>34</title>\r\n<path fill=\"#c4e2f7\" stroke=\"black\" d=\"M1351.5,-296C1351.5,-296 1259.5,-296 1259.5,-296 1253.5,-296 1247.5,-290 1247.5,-284 1247.5,-284 1247.5,-230 1247.5,-230 1247.5,-224 1253.5,-218 1259.5,-218 1259.5,-218 1351.5,-218 1351.5,-218 1357.5,-218 1363.5,-224 1363.5,-230 1363.5,-230 1363.5,-284 1363.5,-284 1363.5,-290 1357.5,-296 1351.5,-296\"/>\r\n<text text-anchor=\"start\" x=\"1272\" y=\"-281.8\" font-family=\"Helvetica,sans-Serif\" font-size=\"14.00\">X</text>\r\n<text text-anchor=\"start\" x=\"1282\" y=\"-281.8\" font-family=\"Helvetica,sans-Serif\" baseline-shift=\"sub\" font-size=\"14.00\">188</text>\r\n<text text-anchor=\"start\" x=\"1303\" y=\"-281.8\" font-family=\"Helvetica,sans-Serif\" font-size=\"14.00\"> ≤ 0.5</text>\r\n<text text-anchor=\"start\" x=\"1255.5\" y=\"-267.8\" font-family=\"Helvetica,sans-Serif\" font-size=\"14.00\">entropy = 0.977</text>\r\n<text text-anchor=\"start\" x=\"1262\" y=\"-253.8\" font-family=\"Helvetica,sans-Serif\" font-size=\"14.00\">samples = 34</text>\r\n<text text-anchor=\"start\" x=\"1257\" y=\"-239.8\" font-family=\"Helvetica,sans-Serif\" font-size=\"14.00\">value = [14, 20]</text>\r\n<text text-anchor=\"start\" x=\"1276.5\" y=\"-225.8\" font-family=\"Helvetica,sans-Serif\" font-size=\"14.00\">class = e</text>\r\n</g>\r\n<!-- 33&#45;&gt;34 -->\r\n<g id=\"edge34\" class=\"edge\"><title>33&#45;&gt;34</title>\r\n<path fill=\"none\" stroke=\"black\" d=\"M1305.5,-331.769C1305.5,-323.57 1305.5,-314.803 1305.5,-306.28\"/>\r\n<polygon fill=\"black\" stroke=\"black\" points=\"1309,-306.058 1305.5,-296.058 1302,-306.059 1309,-306.058\"/>\r\n</g>\r\n<!-- 41 -->\r\n<g id=\"node42\" class=\"node\"><title>41</title>\r\n<path fill=\"#48a5e7\" stroke=\"black\" d=\"M1654.5,-296C1654.5,-296 1562.5,-296 1562.5,-296 1556.5,-296 1550.5,-290 1550.5,-284 1550.5,-284 1550.5,-230 1550.5,-230 1550.5,-224 1556.5,-218 1562.5,-218 1562.5,-218 1654.5,-218 1654.5,-218 1660.5,-218 1666.5,-224 1666.5,-230 1666.5,-230 1666.5,-284 1666.5,-284 1666.5,-290 1660.5,-296 1654.5,-296\"/>\r\n<text text-anchor=\"start\" x=\"1575\" y=\"-281.8\" font-family=\"Helvetica,sans-Serif\" font-size=\"14.00\">X</text>\r\n<text text-anchor=\"start\" x=\"1585\" y=\"-281.8\" font-family=\"Helvetica,sans-Serif\" baseline-shift=\"sub\" font-size=\"14.00\">168</text>\r\n<text text-anchor=\"start\" x=\"1606\" y=\"-281.8\" font-family=\"Helvetica,sans-Serif\" font-size=\"14.00\"> ≤ 0.5</text>\r\n<text text-anchor=\"start\" x=\"1558.5\" y=\"-267.8\" font-family=\"Helvetica,sans-Serif\" font-size=\"14.00\">entropy = 0.371</text>\r\n<text text-anchor=\"start\" x=\"1565\" y=\"-253.8\" font-family=\"Helvetica,sans-Serif\" font-size=\"14.00\">samples = 42</text>\r\n<text text-anchor=\"start\" x=\"1564\" y=\"-239.8\" font-family=\"Helvetica,sans-Serif\" font-size=\"14.00\">value = [3, 39]</text>\r\n<text text-anchor=\"start\" x=\"1579.5\" y=\"-225.8\" font-family=\"Helvetica,sans-Serif\" font-size=\"14.00\">class = e</text>\r\n</g>\r\n<!-- 33&#45;&gt;41 -->\r\n<g id=\"edge41\" class=\"edge\"><title>33&#45;&gt;41</title>\r\n<path fill=\"none\" stroke=\"black\" d=\"M1363.59,-336.091C1366.58,-334.652 1369.56,-333.279 1372.5,-332 1427.28,-308.197 1492.21,-288.413 1540.09,-275.308\"/>\r\n<polygon fill=\"black\" stroke=\"black\" points=\"1541.29,-278.606 1550.03,-272.614 1539.46,-271.85 1541.29,-278.606\"/>\r\n</g>\r\n<!-- 35 -->\r\n<g id=\"node36\" class=\"node\"><title>35</title>\r\n<path fill=\"#6db7ec\" stroke=\"black\" d=\"M1284.5,-182C1284.5,-182 1192.5,-182 1192.5,-182 1186.5,-182 1180.5,-176 1180.5,-170 1180.5,-170 1180.5,-116 1180.5,-116 1180.5,-110 1186.5,-104 1192.5,-104 1192.5,-104 1284.5,-104 1284.5,-104 1290.5,-104 1296.5,-110 1296.5,-116 1296.5,-116 1296.5,-170 1296.5,-170 1296.5,-176 1290.5,-182 1284.5,-182\"/>\r\n<text text-anchor=\"start\" x=\"1205\" y=\"-167.8\" font-family=\"Helvetica,sans-Serif\" font-size=\"14.00\">X</text>\r\n<text text-anchor=\"start\" x=\"1215\" y=\"-167.8\" font-family=\"Helvetica,sans-Serif\" baseline-shift=\"sub\" font-size=\"14.00\">165</text>\r\n<text text-anchor=\"start\" x=\"1236\" y=\"-167.8\" font-family=\"Helvetica,sans-Serif\" font-size=\"14.00\"> ≤ 0.5</text>\r\n<text text-anchor=\"start\" x=\"1188.5\" y=\"-153.8\" font-family=\"Helvetica,sans-Serif\" font-size=\"14.00\">entropy = 0.738</text>\r\n<text text-anchor=\"start\" x=\"1195\" y=\"-139.8\" font-family=\"Helvetica,sans-Serif\" font-size=\"14.00\">samples = 24</text>\r\n<text text-anchor=\"start\" x=\"1194\" y=\"-125.8\" font-family=\"Helvetica,sans-Serif\" font-size=\"14.00\">value = [5, 19]</text>\r\n<text text-anchor=\"start\" x=\"1209.5\" y=\"-111.8\" font-family=\"Helvetica,sans-Serif\" font-size=\"14.00\">class = e</text>\r\n</g>\r\n<!-- 34&#45;&gt;35 -->\r\n<g id=\"edge35\" class=\"edge\"><title>34&#45;&gt;35</title>\r\n<path fill=\"none\" stroke=\"black\" d=\"M1282.63,-217.769C1277.46,-209.119 1271.9,-199.838 1266.54,-190.877\"/>\r\n<polygon fill=\"black\" stroke=\"black\" points=\"1269.4,-188.843 1261.27,-182.058 1263.4,-192.437 1269.4,-188.843\"/>\r\n</g>\r\n<!-- 38 -->\r\n<g id=\"node39\" class=\"node\"><title>38</title>\r\n<path fill=\"#e88f4f\" stroke=\"black\" d=\"M1418.5,-182C1418.5,-182 1326.5,-182 1326.5,-182 1320.5,-182 1314.5,-176 1314.5,-170 1314.5,-170 1314.5,-116 1314.5,-116 1314.5,-110 1320.5,-104 1326.5,-104 1326.5,-104 1418.5,-104 1418.5,-104 1424.5,-104 1430.5,-110 1430.5,-116 1430.5,-116 1430.5,-170 1430.5,-170 1430.5,-176 1424.5,-182 1418.5,-182\"/>\r\n<text text-anchor=\"start\" x=\"1339\" y=\"-167.8\" font-family=\"Helvetica,sans-Serif\" font-size=\"14.00\">X</text>\r\n<text text-anchor=\"start\" x=\"1349\" y=\"-167.8\" font-family=\"Helvetica,sans-Serif\" baseline-shift=\"sub\" font-size=\"14.00\">224</text>\r\n<text text-anchor=\"start\" x=\"1370\" y=\"-167.8\" font-family=\"Helvetica,sans-Serif\" font-size=\"14.00\"> ≤ 0.5</text>\r\n<text text-anchor=\"start\" x=\"1322.5\" y=\"-153.8\" font-family=\"Helvetica,sans-Serif\" font-size=\"14.00\">entropy = 0.469</text>\r\n<text text-anchor=\"start\" x=\"1329\" y=\"-139.8\" font-family=\"Helvetica,sans-Serif\" font-size=\"14.00\">samples = 10</text>\r\n<text text-anchor=\"start\" x=\"1332\" y=\"-125.8\" font-family=\"Helvetica,sans-Serif\" font-size=\"14.00\">value = [9, 1]</text>\r\n<text text-anchor=\"start\" x=\"1342.5\" y=\"-111.8\" font-family=\"Helvetica,sans-Serif\" font-size=\"14.00\">class = D</text>\r\n</g>\r\n<!-- 34&#45;&gt;38 -->\r\n<g id=\"edge38\" class=\"edge\"><title>34&#45;&gt;38</title>\r\n<path fill=\"none\" stroke=\"black\" d=\"M1328.37,-217.769C1333.54,-209.119 1339.1,-199.838 1344.46,-190.877\"/>\r\n<polygon fill=\"black\" stroke=\"black\" points=\"1347.6,-192.437 1349.73,-182.058 1341.6,-188.843 1347.6,-192.437\"/>\r\n</g>\r\n<!-- 36 -->\r\n<g id=\"node37\" class=\"node\"><title>36</title>\r\n<path fill=\"#4ea7e8\" stroke=\"black\" d=\"M1166.5,-68C1166.5,-68 1074.5,-68 1074.5,-68 1068.5,-68 1062.5,-62 1062.5,-56 1062.5,-56 1062.5,-12 1062.5,-12 1062.5,-6 1068.5,-0 1074.5,-0 1074.5,-0 1166.5,-0 1166.5,-0 1172.5,-0 1178.5,-6 1178.5,-12 1178.5,-12 1178.5,-56 1178.5,-56 1178.5,-62 1172.5,-68 1166.5,-68\"/>\r\n<text text-anchor=\"start\" x=\"1070.5\" y=\"-52.8\" font-family=\"Helvetica,sans-Serif\" font-size=\"14.00\">entropy = 0.454</text>\r\n<text text-anchor=\"start\" x=\"1077\" y=\"-37.8\" font-family=\"Helvetica,sans-Serif\" font-size=\"14.00\">samples = 21</text>\r\n<text text-anchor=\"start\" x=\"1076\" y=\"-22.8\" font-family=\"Helvetica,sans-Serif\" font-size=\"14.00\">value = [2, 19]</text>\r\n<text text-anchor=\"start\" x=\"1091.5\" y=\"-7.8\" font-family=\"Helvetica,sans-Serif\" font-size=\"14.00\">class = e</text>\r\n</g>\r\n<!-- 35&#45;&gt;36 -->\r\n<g id=\"edge36\" class=\"edge\"><title>35&#45;&gt;36</title>\r\n<path fill=\"none\" stroke=\"black\" d=\"M1196.57,-103.975C1186.22,-94.5973 1175.12,-84.5262 1164.67,-75.056\"/>\r\n<polygon fill=\"black\" stroke=\"black\" points=\"1166.97,-72.4095 1157.21,-68.2849 1162.26,-77.5951 1166.97,-72.4095\"/>\r\n</g>\r\n<!-- 37 -->\r\n<g id=\"node38\" class=\"node\"><title>37</title>\r\n<path fill=\"#e58139\" stroke=\"black\" d=\"M1284.5,-68C1284.5,-68 1208.5,-68 1208.5,-68 1202.5,-68 1196.5,-62 1196.5,-56 1196.5,-56 1196.5,-12 1196.5,-12 1196.5,-6 1202.5,-0 1208.5,-0 1208.5,-0 1284.5,-0 1284.5,-0 1290.5,-0 1296.5,-6 1296.5,-12 1296.5,-12 1296.5,-56 1296.5,-56 1296.5,-62 1290.5,-68 1284.5,-68\"/>\r\n<text text-anchor=\"start\" x=\"1204.5\" y=\"-52.8\" font-family=\"Helvetica,sans-Serif\" font-size=\"14.00\">entropy = 0.0</text>\r\n<text text-anchor=\"start\" x=\"1207\" y=\"-37.8\" font-family=\"Helvetica,sans-Serif\" font-size=\"14.00\">samples = 3</text>\r\n<text text-anchor=\"start\" x=\"1206\" y=\"-22.8\" font-family=\"Helvetica,sans-Serif\" font-size=\"14.00\">value = [3, 0]</text>\r\n<text text-anchor=\"start\" x=\"1216.5\" y=\"-7.8\" font-family=\"Helvetica,sans-Serif\" font-size=\"14.00\">class = D</text>\r\n</g>\r\n<!-- 35&#45;&gt;37 -->\r\n<g id=\"edge37\" class=\"edge\"><title>35&#45;&gt;37</title>\r\n<path fill=\"none\" stroke=\"black\" d=\"M1241.34,-103.975C1241.96,-95.6898 1242.62,-86.8634 1243.26,-78.3884\"/>\r\n<polygon fill=\"black\" stroke=\"black\" points=\"1246.76,-78.5181 1244.01,-68.2849 1239.78,-77.9961 1246.76,-78.5181\"/>\r\n</g>\r\n<!-- 39 -->\r\n<g id=\"node40\" class=\"node\"><title>39</title>\r\n<path fill=\"#e58139\" stroke=\"black\" d=\"M1402.5,-68C1402.5,-68 1326.5,-68 1326.5,-68 1320.5,-68 1314.5,-62 1314.5,-56 1314.5,-56 1314.5,-12 1314.5,-12 1314.5,-6 1320.5,-0 1326.5,-0 1326.5,-0 1402.5,-0 1402.5,-0 1408.5,-0 1414.5,-6 1414.5,-12 1414.5,-12 1414.5,-56 1414.5,-56 1414.5,-62 1408.5,-68 1402.5,-68\"/>\r\n<text text-anchor=\"start\" x=\"1322.5\" y=\"-52.8\" font-family=\"Helvetica,sans-Serif\" font-size=\"14.00\">entropy = 0.0</text>\r\n<text text-anchor=\"start\" x=\"1325\" y=\"-37.8\" font-family=\"Helvetica,sans-Serif\" font-size=\"14.00\">samples = 9</text>\r\n<text text-anchor=\"start\" x=\"1324\" y=\"-22.8\" font-family=\"Helvetica,sans-Serif\" font-size=\"14.00\">value = [9, 0]</text>\r\n<text text-anchor=\"start\" x=\"1334.5\" y=\"-7.8\" font-family=\"Helvetica,sans-Serif\" font-size=\"14.00\">class = D</text>\r\n</g>\r\n<!-- 38&#45;&gt;39 -->\r\n<g id=\"edge39\" class=\"edge\"><title>38&#45;&gt;39</title>\r\n<path fill=\"none\" stroke=\"black\" d=\"M1369.66,-103.975C1369.04,-95.6898 1368.38,-86.8634 1367.74,-78.3884\"/>\r\n<polygon fill=\"black\" stroke=\"black\" points=\"1371.22,-77.9961 1366.99,-68.2849 1364.24,-78.5181 1371.22,-77.9961\"/>\r\n</g>\r\n<!-- 40 -->\r\n<g id=\"node41\" class=\"node\"><title>40</title>\r\n<path fill=\"#399de5\" stroke=\"black\" d=\"M1520.5,-68C1520.5,-68 1444.5,-68 1444.5,-68 1438.5,-68 1432.5,-62 1432.5,-56 1432.5,-56 1432.5,-12 1432.5,-12 1432.5,-6 1438.5,-0 1444.5,-0 1444.5,-0 1520.5,-0 1520.5,-0 1526.5,-0 1532.5,-6 1532.5,-12 1532.5,-12 1532.5,-56 1532.5,-56 1532.5,-62 1526.5,-68 1520.5,-68\"/>\r\n<text text-anchor=\"start\" x=\"1440.5\" y=\"-52.8\" font-family=\"Helvetica,sans-Serif\" font-size=\"14.00\">entropy = 0.0</text>\r\n<text text-anchor=\"start\" x=\"1443\" y=\"-37.8\" font-family=\"Helvetica,sans-Serif\" font-size=\"14.00\">samples = 1</text>\r\n<text text-anchor=\"start\" x=\"1442\" y=\"-22.8\" font-family=\"Helvetica,sans-Serif\" font-size=\"14.00\">value = [0, 1]</text>\r\n<text text-anchor=\"start\" x=\"1453.5\" y=\"-7.8\" font-family=\"Helvetica,sans-Serif\" font-size=\"14.00\">class = e</text>\r\n</g>\r\n<!-- 38&#45;&gt;40 -->\r\n<g id=\"edge40\" class=\"edge\"><title>38&#45;&gt;40</title>\r\n<path fill=\"none\" stroke=\"black\" d=\"M1411.59,-103.975C1421.14,-94.6884 1431.38,-84.7217 1441.04,-75.332\"/>\r\n<polygon fill=\"black\" stroke=\"black\" points=\"1443.55,-77.7665 1448.28,-68.2849 1438.67,-72.7488 1443.55,-77.7665\"/>\r\n</g>\r\n<!-- 42 -->\r\n<g id=\"node43\" class=\"node\"><title>42</title>\r\n<path fill=\"#43a2e6\" stroke=\"black\" d=\"M1654.5,-182C1654.5,-182 1562.5,-182 1562.5,-182 1556.5,-182 1550.5,-176 1550.5,-170 1550.5,-170 1550.5,-116 1550.5,-116 1550.5,-110 1556.5,-104 1562.5,-104 1562.5,-104 1654.5,-104 1654.5,-104 1660.5,-104 1666.5,-110 1666.5,-116 1666.5,-116 1666.5,-170 1666.5,-170 1666.5,-176 1660.5,-182 1654.5,-182\"/>\r\n<text text-anchor=\"start\" x=\"1578.5\" y=\"-167.8\" font-family=\"Helvetica,sans-Serif\" font-size=\"14.00\">X</text>\r\n<text text-anchor=\"start\" x=\"1588.5\" y=\"-167.8\" font-family=\"Helvetica,sans-Serif\" baseline-shift=\"sub\" font-size=\"14.00\">24</text>\r\n<text text-anchor=\"start\" x=\"1602.5\" y=\"-167.8\" font-family=\"Helvetica,sans-Serif\" font-size=\"14.00\"> ≤ 0.5</text>\r\n<text text-anchor=\"start\" x=\"1558.5\" y=\"-153.8\" font-family=\"Helvetica,sans-Serif\" font-size=\"14.00\">entropy = 0.281</text>\r\n<text text-anchor=\"start\" x=\"1565\" y=\"-139.8\" font-family=\"Helvetica,sans-Serif\" font-size=\"14.00\">samples = 41</text>\r\n<text text-anchor=\"start\" x=\"1564\" y=\"-125.8\" font-family=\"Helvetica,sans-Serif\" font-size=\"14.00\">value = [2, 39]</text>\r\n<text text-anchor=\"start\" x=\"1579.5\" y=\"-111.8\" font-family=\"Helvetica,sans-Serif\" font-size=\"14.00\">class = e</text>\r\n</g>\r\n<!-- 41&#45;&gt;42 -->\r\n<g id=\"edge42\" class=\"edge\"><title>41&#45;&gt;42</title>\r\n<path fill=\"none\" stroke=\"black\" d=\"M1608.5,-217.769C1608.5,-209.57 1608.5,-200.803 1608.5,-192.28\"/>\r\n<polygon fill=\"black\" stroke=\"black\" points=\"1612,-192.058 1608.5,-182.058 1605,-192.059 1612,-192.058\"/>\r\n</g>\r\n<!-- 45 -->\r\n<g id=\"node46\" class=\"node\"><title>45</title>\r\n<path fill=\"#e58139\" stroke=\"black\" d=\"M1772.5,-177C1772.5,-177 1696.5,-177 1696.5,-177 1690.5,-177 1684.5,-171 1684.5,-165 1684.5,-165 1684.5,-121 1684.5,-121 1684.5,-115 1690.5,-109 1696.5,-109 1696.5,-109 1772.5,-109 1772.5,-109 1778.5,-109 1784.5,-115 1784.5,-121 1784.5,-121 1784.5,-165 1784.5,-165 1784.5,-171 1778.5,-177 1772.5,-177\"/>\r\n<text text-anchor=\"start\" x=\"1692.5\" y=\"-161.8\" font-family=\"Helvetica,sans-Serif\" font-size=\"14.00\">entropy = 0.0</text>\r\n<text text-anchor=\"start\" x=\"1695\" y=\"-146.8\" font-family=\"Helvetica,sans-Serif\" font-size=\"14.00\">samples = 1</text>\r\n<text text-anchor=\"start\" x=\"1694\" y=\"-131.8\" font-family=\"Helvetica,sans-Serif\" font-size=\"14.00\">value = [1, 0]</text>\r\n<text text-anchor=\"start\" x=\"1704.5\" y=\"-116.8\" font-family=\"Helvetica,sans-Serif\" font-size=\"14.00\">class = D</text>\r\n</g>\r\n<!-- 41&#45;&gt;45 -->\r\n<g id=\"edge45\" class=\"edge\"><title>41&#45;&gt;45</title>\r\n<path fill=\"none\" stroke=\"black\" d=\"M1651.51,-217.769C1663.79,-206.854 1677.2,-194.933 1689.59,-183.92\"/>\r\n<polygon fill=\"black\" stroke=\"black\" points=\"1692.01,-186.456 1697.15,-177.196 1687.35,-181.224 1692.01,-186.456\"/>\r\n</g>\r\n<!-- 43 -->\r\n<g id=\"node44\" class=\"node\"><title>43</title>\r\n<path fill=\"#3ea0e6\" stroke=\"black\" d=\"M1654.5,-68C1654.5,-68 1562.5,-68 1562.5,-68 1556.5,-68 1550.5,-62 1550.5,-56 1550.5,-56 1550.5,-12 1550.5,-12 1550.5,-6 1556.5,-0 1562.5,-0 1562.5,-0 1654.5,-0 1654.5,-0 1660.5,-0 1666.5,-6 1666.5,-12 1666.5,-12 1666.5,-56 1666.5,-56 1666.5,-62 1660.5,-68 1654.5,-68\"/>\r\n<text text-anchor=\"start\" x=\"1558.5\" y=\"-52.8\" font-family=\"Helvetica,sans-Serif\" font-size=\"14.00\">entropy = 0.169</text>\r\n<text text-anchor=\"start\" x=\"1565\" y=\"-37.8\" font-family=\"Helvetica,sans-Serif\" font-size=\"14.00\">samples = 40</text>\r\n<text text-anchor=\"start\" x=\"1564\" y=\"-22.8\" font-family=\"Helvetica,sans-Serif\" font-size=\"14.00\">value = [1, 39]</text>\r\n<text text-anchor=\"start\" x=\"1579.5\" y=\"-7.8\" font-family=\"Helvetica,sans-Serif\" font-size=\"14.00\">class = e</text>\r\n</g>\r\n<!-- 42&#45;&gt;43 -->\r\n<g id=\"edge43\" class=\"edge\"><title>42&#45;&gt;43</title>\r\n<path fill=\"none\" stroke=\"black\" d=\"M1608.5,-103.975C1608.5,-95.6898 1608.5,-86.8634 1608.5,-78.3884\"/>\r\n<polygon fill=\"black\" stroke=\"black\" points=\"1612,-78.2849 1608.5,-68.2849 1605,-78.285 1612,-78.2849\"/>\r\n</g>\r\n<!-- 44 -->\r\n<g id=\"node45\" class=\"node\"><title>44</title>\r\n<path fill=\"#e58139\" stroke=\"black\" d=\"M1772.5,-68C1772.5,-68 1696.5,-68 1696.5,-68 1690.5,-68 1684.5,-62 1684.5,-56 1684.5,-56 1684.5,-12 1684.5,-12 1684.5,-6 1690.5,-0 1696.5,-0 1696.5,-0 1772.5,-0 1772.5,-0 1778.5,-0 1784.5,-6 1784.5,-12 1784.5,-12 1784.5,-56 1784.5,-56 1784.5,-62 1778.5,-68 1772.5,-68\"/>\r\n<text text-anchor=\"start\" x=\"1692.5\" y=\"-52.8\" font-family=\"Helvetica,sans-Serif\" font-size=\"14.00\">entropy = 0.0</text>\r\n<text text-anchor=\"start\" x=\"1695\" y=\"-37.8\" font-family=\"Helvetica,sans-Serif\" font-size=\"14.00\">samples = 1</text>\r\n<text text-anchor=\"start\" x=\"1694\" y=\"-22.8\" font-family=\"Helvetica,sans-Serif\" font-size=\"14.00\">value = [1, 0]</text>\r\n<text text-anchor=\"start\" x=\"1704.5\" y=\"-7.8\" font-family=\"Helvetica,sans-Serif\" font-size=\"14.00\">class = D</text>\r\n</g>\r\n<!-- 42&#45;&gt;44 -->\r\n<g id=\"edge44\" class=\"edge\"><title>42&#45;&gt;44</title>\r\n<path fill=\"none\" stroke=\"black\" d=\"M1653.28,-103.975C1664.43,-94.5063 1676.41,-84.3306 1687.66,-74.7803\"/>\r\n<polygon fill=\"black\" stroke=\"black\" points=\"1689.95,-77.4258 1695.3,-68.2849 1685.42,-72.0901 1689.95,-77.4258\"/>\r\n</g>\r\n</g>\r\n</svg>\r\n",
      "text/plain": [
       "<graphviz.files.Source at 0x1df05f881c0>"
      ]
     },
     "execution_count": 64,
     "metadata": {},
     "output_type": "execute_result"
    }
   ],
   "source": [
    "dot_data = export_graphviz(tuned_dt_sklearn, out_file=None,\n",
    "                           class_names=\"Deceased\",\n",
    "                           filled=True, rounded=True,\n",
    "                           special_characters=True)\n",
    "\n",
    "graphviz.Source(dot_data) "
   ]
  },
  {
   "attachments": {},
   "cell_type": "markdown",
   "metadata": {
    "datalore": {
     "hide_input_from_viewers": false,
     "hide_output_from_viewers": false,
     "type": "MD"
    }
   },
   "source": [
    "### Decision tree classifier (our implementation)"
   ]
  },
  {
   "attachments": {},
   "cell_type": "markdown",
   "metadata": {
    "datalore": {
     "hide_input_from_viewers": false,
     "hide_output_from_viewers": false,
     "type": "MD"
    }
   },
   "source": [
    "#### training implemented classifier on  all categorical features"
   ]
  },
  {
   "attachments": {},
   "cell_type": "markdown",
   "metadata": {
    "datalore": {
     "hide_input_from_viewers": false,
     "hide_output_from_viewers": false,
     "type": "MD"
    }
   },
   "source": [
    "#### preparing data"
   ]
  },
  {
   "cell_type": "code",
   "execution_count": 65,
   "metadata": {
    "datalore": {
     "hide_input_from_viewers": false,
     "hide_output_from_viewers": false,
     "type": "CODE"
    }
   },
   "outputs": [],
   "source": [
    "df_dt_impl = df.copy()\n",
    "age_bins            = 60           # Number of bins to discretize \"age\" into.\n",
    "diff_sym_hos_bins   = 10           # Number of bins to discretize \"diff_sym_hos\" into.\n",
    "df_dt_impl[\"age\"] = np.floor(df_dt_impl[\"age\"].rank() / len(df_dt_impl[\"age\"]) / (1 / age_bins)).astype(int) + 1\n",
    "df_dt_impl[\"diff_sym_hos\"] = np.floor(df_dt_impl[\"diff_sym_hos\"].rank() / len(df_dt_impl[\"diff_sym_hos\"]) / (1 / diff_sym_hos_bins)).astype(int) + 1"
   ]
  },
  {
   "attachments": {},
   "cell_type": "markdown",
   "metadata": {
    "datalore": {
     "hide_input_from_viewers": false,
     "hide_output_from_viewers": false,
     "type": "MD"
    }
   },
   "source": [
    "#### training"
   ]
  },
  {
   "cell_type": "code",
   "execution_count": 66,
   "metadata": {
    "datalore": {
     "hide_input_from_viewers": false,
     "hide_output_from_viewers": false,
     "type": "CODE"
    }
   },
   "outputs": [],
   "source": [
    "X_train, y_train, X_valid, X_test, y_valid, y_test,labels = split_data(df=df_dt_impl, continuous_features=[], discrete_features=[\"age\", \"diff_sym_hos\", *qual_cols], encode=True,returnlabels=True )\n",
    "#print(labels)\n",
    "decisiontree_implemented_clf_categorical=Decisiontreeclassifier(gainmethod='entropy',maxdepth=4,minsamples_split=4)\n",
    "decisiontree_implemented_clf_categorical.fit(X_train,y_train)\n",
    "\n"
   ]
  },
  {
   "attachments": {},
   "cell_type": "markdown",
   "metadata": {
    "datalore": {
     "hide_input_from_viewers": false,
     "hide_output_from_viewers": false,
     "type": "MD"
    }
   },
   "source": [
    "#### predicting and scoring "
   ]
  },
  {
   "cell_type": "code",
   "execution_count": 67,
   "metadata": {
    "datalore": {
     "hide_input_from_viewers": false,
     "hide_output_from_viewers": false,
     "type": "CODE"
    }
   },
   "outputs": [
    {
     "name": "stdout",
     "output_type": "stream",
     "text": [
      "Accuracy  :  95.35%.\n",
      "Precision : 100.00%.\n",
      "Recall    :  63.64%.\n",
      "F1-Score  :  77.78%.\n"
     ]
    },
    {
     "data": {
      "text/plain": [
       "(0.9534883720930233, 1.0, 0.6363636363636364, 0.7777777777777778)"
      ]
     },
     "execution_count": 67,
     "metadata": {},
     "output_type": "execute_result"
    }
   ],
   "source": [
    "preds=decisiontree_implemented_clf_categorical.predict(X_valid)\n",
    "score(y_valid,preds)"
   ]
  },
  {
   "attachments": {},
   "cell_type": "markdown",
   "metadata": {
    "datalore": {
     "hide_input_from_viewers": false,
     "hide_output_from_viewers": false,
     "type": "MD"
    }
   },
   "source": [
    "#### visualizing decision nodes"
   ]
  },
  {
   "cell_type": "code",
   "execution_count": 68,
   "metadata": {
    "datalore": {
     "hide_input_from_viewers": false,
     "hide_output_from_viewers": false,
     "type": "CODE"
    }
   },
   "outputs": [
    {
     "name": "stdout",
     "output_type": "stream",
     "text": [
      "(at level 0 ) is age_59 <= 0 ?\n",
      " Yes: Go left:(at level 1 ) is age_56 <= 0 ?\n",
      "  Yes: Go left:(at level 2 ) is age_57 <= 0 ?\n",
      "   Yes: Go left:(at level 3 ) is country_1 <= 0 ?\n",
      "    Yes: Go left:(at level 4 ) is country_12 <= 0 ?\n",
      "     Yes: Go left:Classified as Recovered\n",
      "     No: Go right:Classified as Recovered\n",
      "    No: Go right:(at level 4 ) is age_3 <= 0 ?\n",
      "     Yes: Go left:Classified as Deceased\n",
      "     No: Go right:Classified as Recovered\n",
      "   No: Go right:(at level 3 ) is location_4 <= 0 ?\n",
      "    Yes: Go left:Classified as Deceased\n",
      "    No: Go right:Classified as Recovered\n",
      "  No: Go right:(at level 2 ) is country_33 <= 0 ?\n",
      "   Yes: Go left:(at level 3 ) is location_21 <= 0 ?\n",
      "    Yes: Go left:Classified as Deceased\n",
      "    No: Go right:Classified as Recovered\n",
      "   No: Go right:(at level 3 ) is symptom1_5 <= 0 ?\n",
      "    Yes: Go left:Classified as Deceased\n",
      "    No: Go right:(at level 4 ) is diff_sym_hos_8 <= 0 ?\n",
      "     Yes: Go left:Classified as Recovered\n",
      "     No: Go right:Classified as Deceased\n",
      " No: Go right:Classified as Deceased\n",
      "(at level 0 ) is age_59 <= 0 ?\n",
      " Yes: Go left:(at level 1 ) is age_56 <= 0 ?\n",
      "  Yes: Go left:(at level 2 ) is age_57 <= 0 ?\n",
      "   Yes: Go left:(at level 3 ) is country_1 <= 0 ?\n",
      "    Yes: Go left:(at level 4 ) is country_12 <= 0 ?\n",
      "     Yes: Go left:Classified as Recovered\n",
      "     No: Go right:Classified as Recovered\n",
      "    No: Go right:(at level 4 ) is age_3 <= 0 ?\n",
      "     Yes: Go left:Classified as Deceased\n",
      "     No: Go right:Classified as Recovered\n",
      "   No: Go right:(at level 3 ) is location_4 <= 0 ?\n",
      "    Yes: Go left:Classified as Deceased\n",
      "    No: Go right:Classified as Recovered\n",
      "  No: Go right:(at level 2 ) is country_33 <= 0 ?\n",
      "   Yes: Go left:(at level 3 ) is location_21 <= 0 ?\n",
      "    Yes: Go left:Classified as Deceased\n",
      "    No: Go right:Classified as Recovered\n",
      "   No: Go right:(at level 3 ) is symptom1_5 <= 0 ?\n",
      "    Yes: Go left:Classified as Deceased\n",
      "    No: Go right:(at level 4 ) is diff_sym_hos_8 <= 0 ?\n",
      "     Yes: Go left:Classified as Recovered\n",
      "     No: Go right:Classified as Deceased\n",
      " No: Go right:Classified as Deceased\n"
     ]
    },
    {
     "data": {
      "text/plain": [
       "Decisiontreeclassifier(maxdepth=4, minsamples_split=4)"
      ]
     },
     "execution_count": 68,
     "metadata": {},
     "output_type": "execute_result"
    }
   ],
   "source": [
    "decisiontree_implemented_clf_categorical.visualize(labels=labels,outputlabels={0:'Recovered',1:'Deceased'})\n",
    "decisiontree_implemented_clf_categorical"
   ]
  },
  {
   "attachments": {},
   "cell_type": "markdown",
   "metadata": {
    "datalore": {
     "hide_input_from_viewers": false,
     "hide_output_from_viewers": false,
     "type": "MD"
    }
   },
   "source": [
    "#### training implemented classifier with 2 continuous feature columns"
   ]
  },
  {
   "attachments": {},
   "cell_type": "markdown",
   "metadata": {
    "datalore": {
     "hide_input_from_viewers": false,
     "hide_output_from_viewers": false,
     "type": "MD"
    }
   },
   "source": [
    "#### preparing dataset"
   ]
  },
  {
   "cell_type": "code",
   "execution_count": 69,
   "metadata": {
    "datalore": {
     "hide_input_from_viewers": false,
     "hide_output_from_viewers": false,
     "type": "CODE"
    }
   },
   "outputs": [],
   "source": [
    "X_train, y_train, X_valid, X_test, y_valid, y_test,labels = split_data(df=df, returnlabels=True)"
   ]
  },
  {
   "attachments": {},
   "cell_type": "markdown",
   "metadata": {
    "datalore": {
     "hide_input_from_viewers": false,
     "hide_output_from_viewers": false,
     "type": "MD"
    }
   },
   "source": [
    "#### initializing and fitting"
   ]
  },
  {
   "cell_type": "code",
   "execution_count": 70,
   "metadata": {
    "datalore": {
     "hide_input_from_viewers": false,
     "hide_output_from_viewers": false,
     "type": "CODE"
    }
   },
   "outputs": [],
   "source": [
    "decisiontree_clf_impl_cont=Decisiontreeclassifier(maxdepth=4,minsamples_split=4,gainmethod='gini')#trying different hyperparameters\n",
    "decisiontree_clf_impl_cont.fit(X_train,y_train)"
   ]
  },
  {
   "attachments": {},
   "cell_type": "markdown",
   "metadata": {
    "datalore": {
     "hide_input_from_viewers": false,
     "hide_output_from_viewers": false,
     "type": "MD"
    }
   },
   "source": [
    "#### predicting and scoring over classifier with 2 continuous features"
   ]
  },
  {
   "cell_type": "code",
   "execution_count": 71,
   "metadata": {
    "datalore": {
     "hide_input_from_viewers": false,
     "hide_output_from_viewers": false,
     "type": "CODE"
    }
   },
   "outputs": [
    {
     "name": "stdout",
     "output_type": "stream",
     "text": [
      "Accuracy  :  98.84%.\n",
      "Precision :  91.67%.\n",
      "Recall    : 100.00%.\n",
      "F1-Score  :  95.65%.\n"
     ]
    },
    {
     "data": {
      "text/plain": [
       "(0.9883720930232558, 0.9166666666666666, 1.0, 0.9565217391304348)"
      ]
     },
     "execution_count": 71,
     "metadata": {},
     "output_type": "execute_result"
    }
   ],
   "source": [
    "cont_preds=decisiontree_clf_impl_cont.predict(X_valid)\n",
    "score(y_valid,cont_preds)"
   ]
  },
  {
   "attachments": {},
   "cell_type": "markdown",
   "metadata": {
    "datalore": {
     "hide_input_from_viewers": false,
     "hide_output_from_viewers": false,
     "type": "MD"
    }
   },
   "source": [
    "#### visualizing implemented classifier with 2 continuous features"
   ]
  },
  {
   "cell_type": "code",
   "execution_count": 72,
   "metadata": {
    "datalore": {
     "hide_input_from_viewers": false,
     "hide_output_from_viewers": false,
     "type": "CODE"
    }
   },
   "outputs": [
    {
     "name": "stdout",
     "output_type": "stream",
     "text": [
      "(at level 0 ) is age <= 65.0 ?\n",
      " Yes: Go left:(at level 1 ) is country_1 <= 0.0 ?\n",
      "  Yes: Go left:(at level 2 ) is age <= 58.0 ?\n",
      "   Yes: Go left:(at level 3 ) is location_47 <= 0.0 ?\n",
      "    Yes: Go left:(at level 4 ) is location_104 <= 0.0 ?\n",
      "     Yes: Go left:Classified as 0\n",
      "     No: Go right:Classified as 0\n",
      "    No: Go right:Classified as 1\n",
      "   No: Go right:(at level 3 ) is diff_sym_hos <= 3.0 ?\n",
      "    Yes: Go left:(at level 4 ) is vis_wuhan_1 <= 0.0 ?\n",
      "     Yes: Go left:Classified as 1\n",
      "     No: Go right:Classified as 0\n",
      "    No: Go right:(at level 4 ) is country_7 <= 0.0 ?\n",
      "     Yes: Go left:Classified as 1\n",
      "     No: Go right:Classified as 0\n",
      "  No: Go right:(at level 2 ) is diff_sym_hos <= 1.0 ?\n",
      "   Yes: Go left:Classified as 1\n",
      "   No: Go right:Classified as 0\n",
      " No: Go right:(at level 1 ) is gender_0 <= 0.0 ?\n",
      "  Yes: Go left:(at level 2 ) is symptom1_5 <= 0.0 ?\n",
      "   Yes: Go left:(at level 3 ) is age <= 69.0 ?\n",
      "    Yes: Go left:(at level 4 ) is location_71 <= 0.0 ?\n",
      "     Yes: Go left:Classified as 0\n",
      "     No: Go right:Classified as 1\n",
      "    No: Go right:(at level 4 ) is location_4 <= 0.0 ?\n",
      "     Yes: Go left:Classified as 1\n",
      "     No: Go right:Classified as 0\n",
      "   No: Go right:(at level 3 ) is symptom2_16 <= 0.0 ?\n",
      "    Yes: Go left:Classified as 0\n",
      "    No: Go right:Classified as 1\n",
      "  No: Go right:(at level 2 ) is gender_2 <= 0.0 ?\n",
      "   Yes: Go left:Classified as 0\n",
      "   No: Go right:(at level 3 ) is age <= 66.0 ?\n",
      "    Yes: Go left:Classified as 0\n",
      "    No: Go right:(at level 4 ) is location_14 <= 0.0 ?\n",
      "     Yes: Go left:Classified as 1\n",
      "     No: Go right:Classified as 0\n",
      "(at level 0 ) is age <= 65.0 ?\n",
      " Yes: Go left:(at level 1 ) is country_1 <= 0.0 ?\n",
      "  Yes: Go left:(at level 2 ) is age <= 58.0 ?\n",
      "   Yes: Go left:(at level 3 ) is location_47 <= 0.0 ?\n",
      "    Yes: Go left:(at level 4 ) is location_104 <= 0.0 ?\n",
      "     Yes: Go left:Classified as 0\n",
      "     No: Go right:Classified as 0\n",
      "    No: Go right:Classified as 1\n",
      "   No: Go right:(at level 3 ) is diff_sym_hos <= 3.0 ?\n",
      "    Yes: Go left:(at level 4 ) is vis_wuhan_1 <= 0.0 ?\n",
      "     Yes: Go left:Classified as 1\n",
      "     No: Go right:Classified as 0\n",
      "    No: Go right:(at level 4 ) is country_7 <= 0.0 ?\n",
      "     Yes: Go left:Classified as 1\n",
      "     No: Go right:Classified as 0\n",
      "  No: Go right:(at level 2 ) is diff_sym_hos <= 1.0 ?\n",
      "   Yes: Go left:Classified as 1\n",
      "   No: Go right:Classified as 0\n",
      " No: Go right:(at level 1 ) is gender_0 <= 0.0 ?\n",
      "  Yes: Go left:(at level 2 ) is symptom1_5 <= 0.0 ?\n",
      "   Yes: Go left:(at level 3 ) is age <= 69.0 ?\n",
      "    Yes: Go left:(at level 4 ) is location_71 <= 0.0 ?\n",
      "     Yes: Go left:Classified as 0\n",
      "     No: Go right:Classified as 1\n",
      "    No: Go right:(at level 4 ) is location_4 <= 0.0 ?\n",
      "     Yes: Go left:Classified as 1\n",
      "     No: Go right:Classified as 0\n",
      "   No: Go right:(at level 3 ) is symptom2_16 <= 0.0 ?\n",
      "    Yes: Go left:Classified as 0\n",
      "    No: Go right:Classified as 1\n",
      "  No: Go right:(at level 2 ) is gender_2 <= 0.0 ?\n",
      "   Yes: Go left:Classified as 0\n",
      "   No: Go right:(at level 3 ) is age <= 66.0 ?\n",
      "    Yes: Go left:Classified as 0\n",
      "    No: Go right:(at level 4 ) is location_14 <= 0.0 ?\n",
      "     Yes: Go left:Classified as 1\n",
      "     No: Go right:Classified as 0\n"
     ]
    }
   ],
   "source": [
    "decisiontree_clf_impl_cont.visualize(labels=labels)"
   ]
  },
  {
   "attachments": {},
   "cell_type": "markdown",
   "metadata": {
    "datalore": {
     "hide_input_from_viewers": false,
     "hide_output_from_viewers": false,
     "type": "MD"
    }
   },
   "source": [
    "#### testing and scoring over test dataset"
   ]
  },
  {
   "cell_type": "code",
   "execution_count": 73,
   "metadata": {
    "datalore": {
     "hide_input_from_viewers": false,
     "hide_output_from_viewers": false,
     "type": "CODE"
    }
   },
   "outputs": [
    {
     "name": "stdout",
     "output_type": "stream",
     "text": [
      "Accuracy  :  97.70%.\n",
      "Precision :  90.91%.\n",
      "Recall    :  90.91%.\n",
      "F1-Score  :  90.91%.\n"
     ]
    },
    {
     "data": {
      "text/plain": [
       "(0.9770114942528736,\n",
       " 0.9090909090909091,\n",
       " 0.9090909090909091,\n",
       " 0.9090909090909091)"
      ]
     },
     "execution_count": 73,
     "metadata": {},
     "output_type": "execute_result"
    }
   ],
   "source": [
    "cont_preds_test=decisiontree_clf_impl_cont.predict(X_test)\n",
    "score(y_test,cont_preds_test)"
   ]
  },
  {
   "attachments": {},
   "cell_type": "markdown",
   "metadata": {
    "datalore": {
     "hide_input_from_viewers": false,
     "hide_output_from_viewers": false,
     "type": "MD"
    }
   },
   "source": [
    "#### looks like our implementation is doing fine with both categorical and continous features over both test and validation datasets"
   ]
  },
  {
   "attachments": {},
   "cell_type": "markdown",
   "metadata": {
    "datalore": {
     "hide_input_from_viewers": false,
     "hide_output_from_viewers": false,
     "type": "MD"
    }
   },
   "source": [
    "#### Now lets tune our implemented Decisiontreeclassifier's hyperparameters using gridsearch method\n",
    "\n",
    "<font color = red>NOTE: to enable this tuning routine you have to activate that boolean flag in the condition from [configuration cell](attachment:./#cfg) at the beginning of notebook</font> <font color =green >flag is grid_search_dt_impl</font>\n",
    "\n",
    "\n",
    "it was set to false here because of the high algorithm complexity that takes much time to find tuned hyperparameters\n",
    "however you can find its output below the cell here or even in the notebook html file attached with the ipynb"
   ]
  },
  {
   "attachments": {},
   "cell_type": "markdown",
   "metadata": {
    "datalore": {
     "hide_input_from_viewers": false,
     "hide_output_from_viewers": false,
     "type": "MD"
    }
   },
   "source": [
    "#### preparing data for gridsearch tuning"
   ]
  },
  {
   "cell_type": "code",
   "execution_count": 74,
   "metadata": {
    "datalore": {
     "hide_input_from_viewers": false,
     "hide_output_from_viewers": false,
     "type": "CODE"
    }
   },
   "outputs": [],
   "source": [
    "X_train, y_train, X_valid, X_test, y_valid, y_test,labels = split_data(df=df, encode=True,returnlabels=True)"
   ]
  },
  {
   "attachments": {},
   "cell_type": "markdown",
   "metadata": {
    "datalore": {
     "hide_input_from_viewers": false,
     "hide_output_from_viewers": false,
     "type": "MD"
    }
   },
   "source": [
    "#### optional grid searching"
   ]
  },
  {
   "cell_type": "code",
   "execution_count": 75,
   "metadata": {
    "datalore": {
     "hide_input_from_viewers": false,
     "hide_output_from_viewers": false,
     "type": "CODE"
    }
   },
   "outputs": [],
   "source": [
    "if grid_search_dt_impl:\n",
    "    import warnings\n",
    "    warnings.filterwarnings(\"ignore\")\n",
    "    hyperparams={'maxdepth':np.arange(2,6,2),'minsamples_split':np.arange(4,10,2),'gainmethod':np.asarray(['entropy','gini'])}\n",
    "    tuned_dt_impl=GridSearchCV(Decisiontreeclassifier(),hyperparams,cv=5,scoring='f1',verbose=0)\n",
    "    tuned_dt_impl.fit(X_train,y_train)\n",
    "    tuned_dt_impl=tuned_dt_impl.best_estimator_\n",
    "    "
   ]
  },
  {
   "attachments": {},
   "cell_type": "markdown",
   "metadata": {
    "datalore": {
     "hide_input_from_viewers": false,
     "hide_output_from_viewers": false,
     "type": "MD"
    }
   },
   "source": [
    "#### printing tuned hyperparameters"
   ]
  },
  {
   "cell_type": "code",
   "execution_count": 76,
   "metadata": {
    "datalore": {
     "hide_input_from_viewers": false,
     "hide_output_from_viewers": false,
     "type": "CODE"
    }
   },
   "outputs": [],
   "source": [
    "\n",
    "if grid_search_dt_impl:\n",
    "    print(tuned_dt_impl)"
   ]
  },
  {
   "attachments": {},
   "cell_type": "markdown",
   "metadata": {
    "datalore": {
     "hide_input_from_viewers": false,
     "hide_output_from_viewers": false,
     "type": "MD"
    }
   },
   "source": [
    "#### training another model on produced hyperparameters\n",
    "in case you didnt run the grid search"
   ]
  },
  {
   "cell_type": "code",
   "execution_count": 77,
   "metadata": {
    "datalore": {
     "hide_input_from_viewers": false,
     "hide_output_from_viewers": false,
     "type": "CODE"
    }
   },
   "outputs": [
    {
     "name": "stdout",
     "output_type": "stream",
     "text": [
      "Accuracy  :  97.70%.\n",
      "Precision :  90.91%.\n",
      "Recall    :  90.91%.\n",
      "F1-Score  :  90.91%.\n"
     ]
    }
   ],
   "source": [
    "tuned_dt_impl=Decisiontreeclassifier(gainmethod='gini',maxdepth=4,minsamples_split=8)# as result of gridsearch hyperparameter tuning if you didnt run it\n",
    "tuned_dt_impl.fit(X_train, y_train)\n",
    "testpreds=tuned_dt_impl.predict(X_test)\n",
    "tuned_dt_scores=score(y_test,testpreds)"
   ]
  },
  {
   "attachments": {},
   "cell_type": "markdown",
   "metadata": {
    "datalore": {
     "hide_input_from_viewers": false,
     "hide_output_from_viewers": false,
     "type": "MD"
    }
   },
   "source": [
    "#### visualizing optimal implemented decision tree"
   ]
  },
  {
   "cell_type": "code",
   "execution_count": 78,
   "metadata": {
    "datalore": {
     "hide_input_from_viewers": false,
     "hide_output_from_viewers": false,
     "type": "CODE"
    }
   },
   "outputs": [
    {
     "name": "stdout",
     "output_type": "stream",
     "text": [
      "(at level 0 ) is age <= 65.0 ?\n",
      " Yes: Go left:(at level 1 ) is country_1 <= 0.0 ?\n",
      "  Yes: Go left:(at level 2 ) is age <= 58.0 ?\n",
      "   Yes: Go left:(at level 3 ) is location_47 <= 0.0 ?\n",
      "    Yes: Go left:(at level 4 ) is location_104 <= 0.0 ?\n",
      "     Yes: Go left:Classified as 0\n",
      "     No: Go right:Classified as 0\n",
      "    No: Go right:Classified as 1\n",
      "   No: Go right:(at level 3 ) is diff_sym_hos <= 3.0 ?\n",
      "    Yes: Go left:(at level 4 ) is vis_wuhan_1 <= 0.0 ?\n",
      "     Yes: Go left:Classified as 1\n",
      "     No: Go right:Classified as 0\n",
      "    No: Go right:(at level 4 ) is country_7 <= 0.0 ?\n",
      "     Yes: Go left:Classified as 1\n",
      "     No: Go right:Classified as 0\n",
      "  No: Go right:(at level 2 ) is diff_sym_hos <= 1.0 ?\n",
      "   Yes: Go left:Classified as 1\n",
      "   No: Go right:Classified as 0\n",
      " No: Go right:(at level 1 ) is gender_0 <= 0.0 ?\n",
      "  Yes: Go left:(at level 2 ) is symptom1_5 <= 0.0 ?\n",
      "   Yes: Go left:(at level 3 ) is age <= 69.0 ?\n",
      "    Yes: Go left:(at level 4 ) is location_71 <= 0.0 ?\n",
      "     Yes: Go left:Classified as 0\n",
      "     No: Go right:Classified as 1\n",
      "    No: Go right:(at level 4 ) is location_4 <= 0.0 ?\n",
      "     Yes: Go left:Classified as 1\n",
      "     No: Go right:Classified as 0\n",
      "   No: Go right:(at level 3 ) is symptom2_16 <= 0.0 ?\n",
      "    Yes: Go left:Classified as 0\n",
      "    No: Go right:Classified as 1\n",
      "  No: Go right:(at level 2 ) is gender_2 <= 0.0 ?\n",
      "   Yes: Go left:Classified as 0\n",
      "   No: Go right:(at level 3 ) is age <= 66.0 ?\n",
      "    Yes: Go left:Classified as 0\n",
      "    No: Go right:(at level 4 ) is location_14 <= 0.0 ?\n",
      "     Yes: Go left:Classified as 1\n",
      "     No: Go right:Classified as 0\n",
      "(at level 0 ) is age <= 65.0 ?\n",
      " Yes: Go left:(at level 1 ) is country_1 <= 0.0 ?\n",
      "  Yes: Go left:(at level 2 ) is age <= 58.0 ?\n",
      "   Yes: Go left:(at level 3 ) is location_47 <= 0.0 ?\n",
      "    Yes: Go left:(at level 4 ) is location_104 <= 0.0 ?\n",
      "     Yes: Go left:Classified as 0\n",
      "     No: Go right:Classified as 0\n",
      "    No: Go right:Classified as 1\n",
      "   No: Go right:(at level 3 ) is diff_sym_hos <= 3.0 ?\n",
      "    Yes: Go left:(at level 4 ) is vis_wuhan_1 <= 0.0 ?\n",
      "     Yes: Go left:Classified as 1\n",
      "     No: Go right:Classified as 0\n",
      "    No: Go right:(at level 4 ) is country_7 <= 0.0 ?\n",
      "     Yes: Go left:Classified as 1\n",
      "     No: Go right:Classified as 0\n",
      "  No: Go right:(at level 2 ) is diff_sym_hos <= 1.0 ?\n",
      "   Yes: Go left:Classified as 1\n",
      "   No: Go right:Classified as 0\n",
      " No: Go right:(at level 1 ) is gender_0 <= 0.0 ?\n",
      "  Yes: Go left:(at level 2 ) is symptom1_5 <= 0.0 ?\n",
      "   Yes: Go left:(at level 3 ) is age <= 69.0 ?\n",
      "    Yes: Go left:(at level 4 ) is location_71 <= 0.0 ?\n",
      "     Yes: Go left:Classified as 0\n",
      "     No: Go right:Classified as 1\n",
      "    No: Go right:(at level 4 ) is location_4 <= 0.0 ?\n",
      "     Yes: Go left:Classified as 1\n",
      "     No: Go right:Classified as 0\n",
      "   No: Go right:(at level 3 ) is symptom2_16 <= 0.0 ?\n",
      "    Yes: Go left:Classified as 0\n",
      "    No: Go right:Classified as 1\n",
      "  No: Go right:(at level 2 ) is gender_2 <= 0.0 ?\n",
      "   Yes: Go left:Classified as 0\n",
      "   No: Go right:(at level 3 ) is age <= 66.0 ?\n",
      "    Yes: Go left:Classified as 0\n",
      "    No: Go right:(at level 4 ) is location_14 <= 0.0 ?\n",
      "     Yes: Go left:Classified as 1\n",
      "     No: Go right:Classified as 0\n"
     ]
    }
   ],
   "source": [
    "tuned_dt_impl.visualize(labels=labels)"
   ]
  },
  {
   "attachments": {},
   "cell_type": "markdown",
   "metadata": {
    "datalore": {
     "hide_input_from_viewers": false,
     "hide_output_from_viewers": false,
     "type": "MD"
    }
   },
   "source": [
    "#### comparing optimal Sklearn decision tree model to our Decision tree model "
   ]
  },
  {
   "cell_type": "code",
   "execution_count": 79,
   "metadata": {
    "datalore": {
     "hide_input_from_viewers": false,
     "hide_output_from_viewers": false,
     "type": "CODE"
    }
   },
   "outputs": [
    {
     "data": {
      "image/png": "[encoded data removed]",
      "text/plain": [
       "<Figure size 597.6x360 with 1 Axes>"
      ]
     },
     "metadata": {
      "needs_background": "light"
     },
     "output_type": "display_data"
    }
   ],
   "source": [
    "compare_plot(m1_scores=dt_sklearn_opt_scores,\n",
    "             m2_scores=tuned_dt_scores,\n",
    "             m1_name=\"Sklearn Decision Tree Classifier\",\n",
    "             m2_name=\"Our implemented Decision tree classifier\")"
   ]
  },
  {
   "attachments": {},
   "cell_type": "markdown",
   "metadata": {
    "datalore": {
     "hide_input_from_viewers": false,
     "hide_output_from_viewers": false,
     "type": "MD"
    }
   },
   "source": [
    "#### its really overwhelming that both got really same scores and near accuracies however our implementation might have a slight advantage of visualizing and using less hyperparameters"
   ]
  },
  {
   "attachments": {},
   "cell_type": "markdown",
   "metadata": {
    "datalore": {
     "hide_input_from_viewers": false,
     "hide_output_from_viewers": false,
     "type": "MD"
    }
   },
   "source": [
    "### Support Vector Machine"
   ]
  },
  {
   "attachments": {},
   "cell_type": "markdown",
   "metadata": {
    "datalore": {
     "hide_input_from_viewers": false,
     "hide_output_from_viewers": false,
     "type": "MD"
    }
   },
   "source": [
    "#### Prepare data"
   ]
  },
  {
   "cell_type": "code",
   "execution_count": 80,
   "metadata": {
    "datalore": {
     "hide_input_from_viewers": false,
     "hide_output_from_viewers": false,
     "type": "CODE"
    }
   },
   "outputs": [],
   "source": [
    "X_train, y_train, X_valid, X_test, y_valid, y_test = split_data(df=df, encode=True)\n",
    "X_train_scaled = scale(X_train)\n",
    "X_valid_scaled = scale(X_valid)\n",
    "X_test_scaled = scale(X_test)"
   ]
  },
  {
   "attachments": {},
   "cell_type": "markdown",
   "metadata": {
    "datalore": {
     "hide_input_from_viewers": false,
     "hide_output_from_viewers": false,
     "type": "MD"
    }
   },
   "source": [
    "#### Training"
   ]
  },
  {
   "cell_type": "code",
   "execution_count": 81,
   "metadata": {
    "datalore": {
     "hide_input_from_viewers": false,
     "hide_output_from_viewers": false,
     "type": "CODE"
    }
   },
   "outputs": [
    {
     "data": {
      "text/plain": [
       "SVC(random_state=3)"
      ]
     },
     "execution_count": 81,
     "metadata": {},
     "output_type": "execute_result"
    }
   ],
   "source": [
    "svm_classifier = SVC(random_state=random_state)\n",
    "svm_classifier.fit(X_train_scaled, y_train)"
   ]
  },
  {
   "attachments": {},
   "cell_type": "markdown",
   "metadata": {
    "datalore": {
     "hide_input_from_viewers": false,
     "hide_output_from_viewers": false,
     "type": "MD"
    }
   },
   "source": [
    "#### Testing"
   ]
  },
  {
   "cell_type": "code",
   "execution_count": 82,
   "metadata": {
    "datalore": {
     "hide_input_from_viewers": false,
     "hide_output_from_viewers": false,
     "type": "CODE"
    }
   },
   "outputs": [
    {
     "name": "stdout",
     "output_type": "stream",
     "text": [
      "Accuracy  :  88.51%.\n",
      "Precision : 100.00%.\n",
      "Recall    :   9.09%.\n",
      "F1-Score  :  16.67%.\n"
     ]
    }
   ],
   "source": [
    "y_pred = svm_classifier.predict(X_test_scaled)\n",
    "acc_svm, pre_svm, rec_svm, f1_svm = score(y_test, y_pred)"
   ]
  },
  {
   "attachments": {},
   "cell_type": "markdown",
   "metadata": {
    "datalore": {
     "hide_input_from_viewers": false,
     "hide_output_from_viewers": false,
     "type": "MD"
    }
   },
   "source": [
    "Visualizing the confusion matrix"
   ]
  },
  {
   "cell_type": "code",
   "execution_count": 83,
   "metadata": {
    "datalore": {
     "hide_input_from_viewers": false,
     "hide_output_from_viewers": false,
     "type": "CODE"
    }
   },
   "outputs": [
    {
     "data": {
      "text/plain": [
       "<sklearn.metrics._plot.confusion_matrix.ConfusionMatrixDisplay at 0x1df0833e2b0>"
      ]
     },
     "execution_count": 83,
     "metadata": {},
     "output_type": "execute_result"
    },
    {
     "data": {
      "image/png": "[encoded data removed]",
      "text/plain": [
       "<Figure size 432x288 with 2 Axes>"
      ]
     },
     "metadata": {
      "needs_background": "light"
     },
     "output_type": "display_data"
    }
   ],
   "source": [
    "plot_confusion_matrix(svm_classifier,\n",
    "                      X_test_scaled,\n",
    "                      y_test,\n",
    "                      values_format='d',\n",
    "                      display_labels=[\"Recovered\", \"Deceased\"])"
   ]
  },
  {
   "attachments": {},
   "cell_type": "markdown",
   "metadata": {
    "datalore": {
     "hide_input_from_viewers": false,
     "hide_output_from_viewers": false,
     "type": "MD"
    }
   },
   "source": [
    "Well, the model fails to recall the positive class (deceased); thus, further steps to optimize the SVM are tried below."
   ]
  },
  {
   "attachments": {},
   "cell_type": "markdown",
   "metadata": {
    "datalore": {
     "hide_input_from_viewers": false,
     "hide_output_from_viewers": false,
     "type": "MD"
    }
   },
   "source": [
    "#### Optimizing the SVM "
   ]
  },
  {
   "cell_type": "code",
   "execution_count": 84,
   "metadata": {
    "datalore": {
     "hide_input_from_viewers": false,
     "hide_output_from_viewers": false,
     "type": "CODE"
    }
   },
   "outputs": [
    {
     "data": {
      "text/plain": [
       "{'C': 100, 'gamma': 0.001, 'kernel': 'rbf'}"
      ]
     },
     "execution_count": 84,
     "metadata": {},
     "output_type": "execute_result"
    }
   ],
   "source": [
    "# The parameters space\n",
    "param_grid = [\n",
    "    {\n",
    "        'C': [0.5, 1, 10, 100],\n",
    "        'gamma': ['scale', 1, 0.1, 0.01, 0.001, 0.0001],\n",
    "        'kernel': ['rbf'],\n",
    "    },\n",
    "]\n",
    "\n",
    "optimal_params = GridSearchCV(\n",
    "    SVC(),\n",
    "    param_grid,\n",
    "    cv=5,\n",
    "    scoring='accuracy'\n",
    ")\n",
    "\n",
    "optimal_params.fit(X_train_scaled, y_train)\n",
    "optimal_params.best_params_"
   ]
  },
  {
   "attachments": {},
   "cell_type": "markdown",
   "metadata": {
    "datalore": {
     "hide_input_from_viewers": false,
     "hide_output_from_viewers": false,
     "type": "MD"
    }
   },
   "source": [
    "Training and testing with these parameters."
   ]
  },
  {
   "cell_type": "code",
   "execution_count": 85,
   "metadata": {
    "datalore": {
     "hide_input_from_viewers": false,
     "hide_output_from_viewers": false,
     "type": "CODE"
    }
   },
   "outputs": [
    {
     "data": {
      "text/plain": [
       "SVC(C=100, gamma=0.001, random_state=3)"
      ]
     },
     "execution_count": 85,
     "metadata": {},
     "output_type": "execute_result"
    }
   ],
   "source": [
    "svm_classifier = SVC(random_state=random_state, C=100, gamma=0.001, kernel='rbf')\n",
    "svm_classifier.fit(X_train_scaled, y_train)"
   ]
  },
  {
   "cell_type": "code",
   "execution_count": 86,
   "metadata": {
    "datalore": {
     "hide_input_from_viewers": false,
     "hide_output_from_viewers": false,
     "type": "CODE"
    }
   },
   "outputs": [
    {
     "name": "stdout",
     "output_type": "stream",
     "text": [
      "Accuracy  :  98.85%.\n",
      "Precision : 100.00%.\n",
      "Recall    :  90.91%.\n",
      "F1-Score  :  95.24%.\n"
     ]
    }
   ],
   "source": [
    "y_pred = svm_classifier.predict(X_test_scaled)\n",
    "acc_svm_opt, pre_svm_opt, rec_svm_opt, f1_svm_opt = score(y_test, y_pred)"
   ]
  },
  {
   "attachments": {},
   "cell_type": "markdown",
   "metadata": {
    "datalore": {
     "hide_input_from_viewers": false,
     "hide_output_from_viewers": false,
     "type": "MD"
    }
   },
   "source": [
    "This SVM model is dramatically better than the out-of-the-box one. The recall alone moved from 9.09% to a screaming 90.91%.\n",
    "\n",
    "Let's see a visual comparison"
   ]
  },
  {
   "cell_type": "code",
   "execution_count": 87,
   "metadata": {
    "datalore": {
     "hide_input_from_viewers": false,
     "hide_output_from_viewers": false,
     "type": "CODE"
    }
   },
   "outputs": [
    {
     "data": {
      "image/png": "[encoded data removed]",
      "text/plain": [
       "<Figure size 482.1x360 with 1 Axes>"
      ]
     },
     "metadata": {
      "needs_background": "light"
     },
     "output_type": "display_data"
    }
   ],
   "source": [
    "compare_plot(m1_scores=[acc_svm, pre_svm, rec_svm, f1_svm],\n",
    "             m2_scores=[acc_svm_opt, pre_svm_opt, rec_svm_opt, f1_svm_opt],\n",
    "             m1_name=\"Preliminary SVM\",\n",
    "             m2_name=\"Final SVM\")"
   ]
  },
  {
   "attachments": {},
   "cell_type": "markdown",
   "metadata": {
    "datalore": {
     "hide_input_from_viewers": false,
     "hide_output_from_viewers": false,
     "type": "MD"
    }
   },
   "source": [
    "Furthmore, the scores are nearly the same (to nearest hunderdth) as the  scores of the final logistic regression model, which is the best model so far; now there are two!\n",
    "\n",
    "Let's see a visual comparison"
   ]
  },
  {
   "cell_type": "code",
   "execution_count": 88,
   "metadata": {
    "datalore": {
     "hide_input_from_viewers": false,
     "hide_output_from_viewers": false,
     "type": "CODE"
    }
   },
   "outputs": [
    {
     "data": {
      "image/png": "[encoded data removed]",
      "text/plain": [
       "<Figure size 433.85x360 with 1 Axes>"
      ]
     },
     "metadata": {
      "needs_background": "light"
     },
     "output_type": "display_data"
    }
   ],
   "source": [
    "compare_plot(m1_scores=[acc_svm_opt, pre_svm_opt, rec_svm_opt, f1_svm_opt],\n",
    "             m2_scores=[acc_logreg_impl, pre_logreg_impl, rec_logreg_impl, f1_logreg_impl],\n",
    "             m1_name=\"SVM\",\n",
    "             m2_name=\"Logreg\")"
   ]
  },
  {
   "attachments": {},
   "cell_type": "markdown",
   "metadata": {
    "datalore": {
     "hide_input_from_viewers": false,
     "hide_output_from_viewers": false,
     "type": "MD"
    }
   },
   "source": [
    "#### Trying out our implementation"
   ]
  },
  {
   "cell_type": "code",
   "execution_count": 89,
   "metadata": {
    "datalore": {
     "hide_input_from_viewers": false,
     "hide_output_from_viewers": false,
     "type": "CODE"
    }
   },
   "outputs": [],
   "source": [
    "svm_impl_classifier = SupportVectorMachine(C=100)\n",
    "svm_impl_classifier.fit(X_train_scaled, y_train)"
   ]
  },
  {
   "cell_type": "code",
   "execution_count": 90,
   "metadata": {
    "datalore": {
     "hide_input_from_viewers": false,
     "hide_output_from_viewers": false,
     "type": "CODE"
    }
   },
   "outputs": [
    {
     "name": "stdout",
     "output_type": "stream",
     "text": [
      "Accuracy  :  98.85%.\n",
      "Precision : 100.00%.\n",
      "Recall    :  90.91%.\n",
      "F1-Score  :  95.24%.\n"
     ]
    }
   ],
   "source": [
    "y_pred = svm_classifier.predict(X_test_scaled)\n",
    "acc_svm_impl, pre_svm_impl, rec_svm_impl, f1_svm_impl = score(y_test, y_pred)"
   ]
  },
  {
   "attachments": {},
   "cell_type": "markdown",
   "metadata": {
    "datalore": {
     "hide_input_from_viewers": false,
     "hide_output_from_viewers": false,
     "type": "MD"
    }
   },
   "source": [
    "Brilliant! The same high-scores."
   ]
  },
  {
   "attachments": {},
   "cell_type": "markdown",
   "metadata": {
    "datalore": {
     "hide_input_from_viewers": false,
     "hide_output_from_viewers": false,
     "type": "MD"
    }
   },
   "source": [
    "## Conclusion"
   ]
  },
  {
   "attachments": {},
   "cell_type": "markdown",
   "metadata": {
    "datalore": {
     "hide_input_from_viewers": false,
     "hide_output_from_viewers": false,
     "type": "MD"
    }
   },
   "source": [
    "Given the aforementioned features of covid-19 patients, the outcome of mortality can be predicted with an _accuracy_ of __98.85%__. And for predicting the deceased patients, a _recall_ of __90.91%__ is attained to that end.\n",
    "\n",
    "The best performing models, to the extent of this dataset, are the _Logistic Regression Classifier_ and the _Support Vector Machine_ with nearly same metrics."
   ]
  }
 ],
 "metadata": {
  "datalore": {
   "base_environment": "default",
   "computation_mode": "JUPYTER",
   "package_manager": "pip",
   "packages": [],
   "version": 1
  },
  "interpreter": {
   "hash": "2782fdfffa5c0e82493b7c7cda97ff9ad654c6b6f5b9d112c76788da4686d447"
  },
  "kernelspec": {
   "display_name": "Python 3.8.8 64-bit ('AI': conda)",
   "language": "python",
   "name": "python3"
  },
  "language_info": {
   "codemirror_mode": {
    "name": "ipython",
    "version": 3
   },
   "file_extension": ".py",
   "mimetype": "text/x-python",
   "name": "python",
   "nbconvert_exporter": "python",
   "pygments_lexer": "ipython3",
   "version": "3.8.8"
  }
 },
 "nbformat": 4,
 "nbformat_minor": 4
}
