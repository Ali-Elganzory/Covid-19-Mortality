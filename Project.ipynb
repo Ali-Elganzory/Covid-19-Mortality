{
 "cells": [
  {
   "cell_type": "markdown",
   "metadata": {},
   "source": [
    "### Libraries"
   ]
  },
  {
   "cell_type": "code",
   "execution_count": 1,
   "metadata": {},
   "outputs": [],
   "source": [
    "import pandas as pd\n",
    "import numpy as np\n",
    "import matplotlib.pyplot as plt\n",
    "import seaborn as sns\n",
    "\n",
    "from sklearn.preprocessing import MinMaxScaler, OneHotEncoder\n",
    "from sklearn.model_selection import train_test_split\n",
    "from sklearn.metrics import accuracy_score, precision_score, recall_score, f1_score\n",
    "from sklearn.neighbors import KNeighborsClassifier\n",
    "\n",
    "%matplotlib inline"
   ]
  },
  {
   "cell_type": "markdown",
   "metadata": {},
   "source": [
    "#### Config parameters"
   ]
  },
  {
   "cell_type": "code",
   "execution_count": 2,
   "metadata": {},
   "outputs": [],
   "source": [
    "random_state = 3    # to reproduce the results."
   ]
  },
  {
   "cell_type": "markdown",
   "metadata": {},
   "source": [
    "### Exploratory Analysis"
   ]
  },
  {
   "cell_type": "code",
   "execution_count": 3,
   "metadata": {},
   "outputs": [
    {
     "name": "stdout",
     "output_type": "stream",
     "text": [
      "<class 'pandas.core.frame.DataFrame'>\n",
      "Int64Index: 863 entries, 0 to 862\n",
      "Data columns (total 14 columns):\n",
      " #   Column        Non-Null Count  Dtype  \n",
      "---  ------        --------------  -----  \n",
      " 0   location      863 non-null    int64  \n",
      " 1   country       863 non-null    int64  \n",
      " 2   gender        863 non-null    int64  \n",
      " 3   age           863 non-null    float64\n",
      " 4   vis_wuhan     863 non-null    int64  \n",
      " 5   from_wuhan    863 non-null    int64  \n",
      " 6   symptom1      863 non-null    int64  \n",
      " 7   symptom2      863 non-null    int64  \n",
      " 8   symptom3      863 non-null    int64  \n",
      " 9   symptom4      863 non-null    int64  \n",
      " 10  symptom5      863 non-null    int64  \n",
      " 11  symptom6      863 non-null    int64  \n",
      " 12  diff_sym_hos  863 non-null    int64  \n",
      " 13  result        863 non-null    int64  \n",
      "dtypes: float64(1), int64(13)\n",
      "memory usage: 101.1 KB\n"
     ]
    }
   ],
   "source": [
    "df = pd.read_csv(\"data.csv\", index_col=0)\n",
    "df.info()"
   ]
  },
  {
   "cell_type": "markdown",
   "metadata": {},
   "source": [
    "The data doesn't have null or incomplete samples."
   ]
  },
  {
   "cell_type": "code",
   "execution_count": 4,
   "metadata": {},
   "outputs": [
    {
     "data": {
      "text/html": [
       "<div>\n",
       "<style scoped>\n",
       "    .dataframe tbody tr th:only-of-type {\n",
       "        vertical-align: middle;\n",
       "    }\n",
       "\n",
       "    .dataframe tbody tr th {\n",
       "        vertical-align: top;\n",
       "    }\n",
       "\n",
       "    .dataframe thead th {\n",
       "        text-align: right;\n",
       "    }\n",
       "</style>\n",
       "<table border=\"1\" class=\"dataframe\">\n",
       "  <thead>\n",
       "    <tr style=\"text-align: right;\">\n",
       "      <th></th>\n",
       "      <th>location</th>\n",
       "      <th>country</th>\n",
       "      <th>gender</th>\n",
       "      <th>age</th>\n",
       "      <th>vis_wuhan</th>\n",
       "      <th>from_wuhan</th>\n",
       "      <th>symptom1</th>\n",
       "      <th>symptom2</th>\n",
       "      <th>symptom3</th>\n",
       "      <th>symptom4</th>\n",
       "      <th>symptom5</th>\n",
       "      <th>symptom6</th>\n",
       "      <th>diff_sym_hos</th>\n",
       "      <th>result</th>\n",
       "    </tr>\n",
       "  </thead>\n",
       "  <tbody>\n",
       "    <tr>\n",
       "      <th>0</th>\n",
       "      <td>104</td>\n",
       "      <td>8</td>\n",
       "      <td>1</td>\n",
       "      <td>66.0</td>\n",
       "      <td>1</td>\n",
       "      <td>0</td>\n",
       "      <td>14</td>\n",
       "      <td>31</td>\n",
       "      <td>19</td>\n",
       "      <td>12</td>\n",
       "      <td>3</td>\n",
       "      <td>1</td>\n",
       "      <td>8</td>\n",
       "      <td>1</td>\n",
       "    </tr>\n",
       "    <tr>\n",
       "      <th>1</th>\n",
       "      <td>101</td>\n",
       "      <td>8</td>\n",
       "      <td>0</td>\n",
       "      <td>56.0</td>\n",
       "      <td>0</td>\n",
       "      <td>1</td>\n",
       "      <td>14</td>\n",
       "      <td>31</td>\n",
       "      <td>19</td>\n",
       "      <td>12</td>\n",
       "      <td>3</td>\n",
       "      <td>1</td>\n",
       "      <td>0</td>\n",
       "      <td>0</td>\n",
       "    </tr>\n",
       "    <tr>\n",
       "      <th>2</th>\n",
       "      <td>137</td>\n",
       "      <td>8</td>\n",
       "      <td>1</td>\n",
       "      <td>46.0</td>\n",
       "      <td>0</td>\n",
       "      <td>1</td>\n",
       "      <td>14</td>\n",
       "      <td>31</td>\n",
       "      <td>19</td>\n",
       "      <td>12</td>\n",
       "      <td>3</td>\n",
       "      <td>1</td>\n",
       "      <td>13</td>\n",
       "      <td>0</td>\n",
       "    </tr>\n",
       "    <tr>\n",
       "      <th>3</th>\n",
       "      <td>116</td>\n",
       "      <td>8</td>\n",
       "      <td>0</td>\n",
       "      <td>60.0</td>\n",
       "      <td>1</td>\n",
       "      <td>0</td>\n",
       "      <td>14</td>\n",
       "      <td>31</td>\n",
       "      <td>19</td>\n",
       "      <td>12</td>\n",
       "      <td>3</td>\n",
       "      <td>1</td>\n",
       "      <td>0</td>\n",
       "      <td>0</td>\n",
       "    </tr>\n",
       "    <tr>\n",
       "      <th>4</th>\n",
       "      <td>116</td>\n",
       "      <td>8</td>\n",
       "      <td>1</td>\n",
       "      <td>58.0</td>\n",
       "      <td>0</td>\n",
       "      <td>0</td>\n",
       "      <td>14</td>\n",
       "      <td>31</td>\n",
       "      <td>19</td>\n",
       "      <td>12</td>\n",
       "      <td>3</td>\n",
       "      <td>1</td>\n",
       "      <td>0</td>\n",
       "      <td>0</td>\n",
       "    </tr>\n",
       "  </tbody>\n",
       "</table>\n",
       "</div>"
      ],
      "text/plain": [
       "   location  country  gender   age  vis_wuhan  from_wuhan  symptom1  symptom2  \\\n",
       "0       104        8       1  66.0          1           0        14        31   \n",
       "1       101        8       0  56.0          0           1        14        31   \n",
       "2       137        8       1  46.0          0           1        14        31   \n",
       "3       116        8       0  60.0          1           0        14        31   \n",
       "4       116        8       1  58.0          0           0        14        31   \n",
       "\n",
       "   symptom3  symptom4  symptom5  symptom6  diff_sym_hos  result  \n",
       "0        19        12         3         1             8       1  \n",
       "1        19        12         3         1             0       0  \n",
       "2        19        12         3         1            13       0  \n",
       "3        19        12         3         1             0       0  \n",
       "4        19        12         3         1             0       0  "
      ]
     },
     "execution_count": 4,
     "metadata": {},
     "output_type": "execute_result"
    }
   ],
   "source": [
    "df.head()"
   ]
  },
  {
   "cell_type": "markdown",
   "metadata": {},
   "source": [
    "#### Quantitative properties"
   ]
  },
  {
   "cell_type": "code",
   "execution_count": 5,
   "metadata": {},
   "outputs": [
    {
     "data": {
      "text/html": [
       "<div>\n",
       "<style scoped>\n",
       "    .dataframe tbody tr th:only-of-type {\n",
       "        vertical-align: middle;\n",
       "    }\n",
       "\n",
       "    .dataframe tbody tr th {\n",
       "        vertical-align: top;\n",
       "    }\n",
       "\n",
       "    .dataframe thead th {\n",
       "        text-align: right;\n",
       "    }\n",
       "</style>\n",
       "<table border=\"1\" class=\"dataframe\">\n",
       "  <thead>\n",
       "    <tr style=\"text-align: right;\">\n",
       "      <th></th>\n",
       "      <th>age</th>\n",
       "      <th>diff_sym_hos</th>\n",
       "    </tr>\n",
       "  </thead>\n",
       "  <tbody>\n",
       "    <tr>\n",
       "      <th>count</th>\n",
       "      <td>863.000000</td>\n",
       "      <td>863.000000</td>\n",
       "    </tr>\n",
       "    <tr>\n",
       "      <th>mean</th>\n",
       "      <td>49.400000</td>\n",
       "      <td>0.995365</td>\n",
       "    </tr>\n",
       "    <tr>\n",
       "      <th>std</th>\n",
       "      <td>15.079203</td>\n",
       "      <td>2.358767</td>\n",
       "    </tr>\n",
       "    <tr>\n",
       "      <th>min</th>\n",
       "      <td>2.000000</td>\n",
       "      <td>-5.000000</td>\n",
       "    </tr>\n",
       "    <tr>\n",
       "      <th>25%</th>\n",
       "      <td>40.000000</td>\n",
       "      <td>0.000000</td>\n",
       "    </tr>\n",
       "    <tr>\n",
       "      <th>50%</th>\n",
       "      <td>49.400000</td>\n",
       "      <td>0.000000</td>\n",
       "    </tr>\n",
       "    <tr>\n",
       "      <th>75%</th>\n",
       "      <td>57.000000</td>\n",
       "      <td>1.000000</td>\n",
       "    </tr>\n",
       "    <tr>\n",
       "      <th>max</th>\n",
       "      <td>96.000000</td>\n",
       "      <td>15.000000</td>\n",
       "    </tr>\n",
       "  </tbody>\n",
       "</table>\n",
       "</div>"
      ],
      "text/plain": [
       "              age  diff_sym_hos\n",
       "count  863.000000    863.000000\n",
       "mean    49.400000      0.995365\n",
       "std     15.079203      2.358767\n",
       "min      2.000000     -5.000000\n",
       "25%     40.000000      0.000000\n",
       "50%     49.400000      0.000000\n",
       "75%     57.000000      1.000000\n",
       "max     96.000000     15.000000"
      ]
     },
     "execution_count": 5,
     "metadata": {},
     "output_type": "execute_result"
    }
   ],
   "source": [
    "quan_cols = [\"age\", \"diff_sym_hos\"]\n",
    "df[quan_cols].describe()"
   ]
  },
  {
   "cell_type": "markdown",
   "metadata": {},
   "source": [
    "It appears that the patients are relatively old (mean of 49.) The median is 49, which makes the mean a good indicator.\n",
    "\n",
    "Let's see how correlated is the age to the result."
   ]
  },
  {
   "cell_type": "code",
   "execution_count": 6,
   "metadata": {},
   "outputs": [
    {
     "data": {
      "text/html": [
       "<div>\n",
       "<style scoped>\n",
       "    .dataframe tbody tr th:only-of-type {\n",
       "        vertical-align: middle;\n",
       "    }\n",
       "\n",
       "    .dataframe tbody tr th {\n",
       "        vertical-align: top;\n",
       "    }\n",
       "\n",
       "    .dataframe thead th {\n",
       "        text-align: right;\n",
       "    }\n",
       "</style>\n",
       "<table border=\"1\" class=\"dataframe\">\n",
       "  <thead>\n",
       "    <tr style=\"text-align: right;\">\n",
       "      <th></th>\n",
       "      <th>count</th>\n",
       "      <th>mean</th>\n",
       "      <th>std</th>\n",
       "      <th>min</th>\n",
       "      <th>25%</th>\n",
       "      <th>50%</th>\n",
       "      <th>75%</th>\n",
       "      <th>max</th>\n",
       "    </tr>\n",
       "    <tr>\n",
       "      <th>result</th>\n",
       "      <th></th>\n",
       "      <th></th>\n",
       "      <th></th>\n",
       "      <th></th>\n",
       "      <th></th>\n",
       "      <th></th>\n",
       "      <th></th>\n",
       "      <th></th>\n",
       "    </tr>\n",
       "  </thead>\n",
       "  <tbody>\n",
       "    <tr>\n",
       "      <th>0</th>\n",
       "      <td>755.0</td>\n",
       "      <td>46.463841</td>\n",
       "      <td>12.820090</td>\n",
       "      <td>2.0</td>\n",
       "      <td>38.0</td>\n",
       "      <td>49.4</td>\n",
       "      <td>55.0</td>\n",
       "      <td>81.0</td>\n",
       "    </tr>\n",
       "    <tr>\n",
       "      <th>1</th>\n",
       "      <td>108.0</td>\n",
       "      <td>69.925926</td>\n",
       "      <td>13.695421</td>\n",
       "      <td>8.0</td>\n",
       "      <td>65.0</td>\n",
       "      <td>72.5</td>\n",
       "      <td>76.0</td>\n",
       "      <td>96.0</td>\n",
       "    </tr>\n",
       "  </tbody>\n",
       "</table>\n",
       "</div>"
      ],
      "text/plain": [
       "        count       mean        std  min   25%   50%   75%   max\n",
       "result                                                          \n",
       "0       755.0  46.463841  12.820090  2.0  38.0  49.4  55.0  81.0\n",
       "1       108.0  69.925926  13.695421  8.0  65.0  72.5  76.0  96.0"
      ]
     },
     "execution_count": 6,
     "metadata": {},
     "output_type": "execute_result"
    }
   ],
   "source": [
    "df.groupby(\"result\")[\"age\"].describe()"
   ]
  },
  {
   "cell_type": "code",
   "execution_count": 7,
   "metadata": {},
   "outputs": [
    {
     "data": {
      "text/plain": [
       "0         AxesSubplot(0.1,0.15;0.363636x0.75)\n",
       "1    AxesSubplot(0.536364,0.15;0.363636x0.75)\n",
       "dtype: object"
      ]
     },
     "execution_count": 7,
     "metadata": {},
     "output_type": "execute_result"
    },
    {
     "data": {
      "image/png": "[encoded data removed]",
      "text/plain": [
       "<Figure size 432x288 with 2 Axes>"
      ]
     },
     "metadata": {
      "needs_background": "light"
     },
     "output_type": "display_data"
    }
   ],
   "source": [
    "df.groupby(\"result\").boxplot(column=\"age\")"
   ]
  },
  {
   "cell_type": "markdown",
   "metadata": {},
   "source": [
    "The mean age of the deceased patients is nearly 70 while the recoverd ones have a mean age of 46.46. Thus, the age is positively correlated with mortality rate."
   ]
  },
  {
   "cell_type": "markdown",
   "metadata": {},
   "source": [
    "Let's take a look at *diff_sym_hos* (time before symptoms appear.)"
   ]
  },
  {
   "cell_type": "code",
   "execution_count": 8,
   "metadata": {},
   "outputs": [
    {
     "data": {
      "text/plain": [
       "0         AxesSubplot(0.1,0.15;0.363636x0.75)\n",
       "1    AxesSubplot(0.536364,0.15;0.363636x0.75)\n",
       "dtype: object"
      ]
     },
     "execution_count": 8,
     "metadata": {},
     "output_type": "execute_result"
    },
    {
     "data": {
      "image/png": "[encoded data removed]",
      "text/plain": [
       "<Figure size 432x288 with 2 Axes>"
      ]
     },
     "metadata": {
      "needs_background": "light"
     },
     "output_type": "display_data"
    }
   ],
   "source": [
    "df.groupby(\"result\").boxplot(column=\"diff_sym_hos\")"
   ]
  },
  {
   "cell_type": "markdown",
   "metadata": {},
   "source": [
    "Cannot decide on a clear relationship."
   ]
  },
  {
   "cell_type": "markdown",
   "metadata": {},
   "source": [
    "#### Qualitative properties"
   ]
  },
  {
   "cell_type": "code",
   "execution_count": 9,
   "metadata": {},
   "outputs": [],
   "source": [
    "symptom_cols = [f\"symptom{i}\" for i in range(1, 7)]\n",
    "qual_cols = [\"location\", \"gender\", \"vis_wuhan\", \"from_wuhan\", *symptom_cols, \"result\"]"
   ]
  },
  {
   "cell_type": "markdown",
   "metadata": {},
   "source": [
    "Let's have a look at whether visiting Wuhan has any relation with mortality rate."
   ]
  },
  {
   "cell_type": "code",
   "execution_count": 10,
   "metadata": {},
   "outputs": [
    {
     "data": {
      "text/plain": [
       "result  vis_wuhan\n",
       "0       0            0.796026\n",
       "        1            0.203974\n",
       "1       0            0.972222\n",
       "        1            0.027778\n",
       "Name: vis_wuhan, dtype: float64"
      ]
     },
     "execution_count": 10,
     "metadata": {},
     "output_type": "execute_result"
    }
   ],
   "source": [
    "df.groupby(\"result\")[\"vis_wuhan\"].value_counts(normalize=True)"
   ]
  },
  {
   "cell_type": "code",
   "execution_count": 11,
   "metadata": {},
   "outputs": [
    {
     "data": {
      "text/plain": [
       "<AxesSubplot:ylabel='result'>"
      ]
     },
     "execution_count": 11,
     "metadata": {},
     "output_type": "execute_result"
    },
    {
     "data": {
      "image/png": "[encoded data removed]",
      "text/plain": [
       "<Figure size 432x288 with 1 Axes>"
      ]
     },
     "metadata": {
      "needs_background": "light"
     },
     "output_type": "display_data"
    }
   ],
   "source": [
    "(df.groupby(\"result\")[\"vis_wuhan\"].value_counts(normalize=True) * 100).unstack() \\\n",
    "    .rename(columns={0: \"Not visited\", 1: \"Visited\"}, index={0: \"Recovered\", 1: \"Deceased\"}).plot.barh()"
   ]
  },
  {
   "cell_type": "markdown",
   "metadata": {},
   "source": [
    "Contrary to stereotypes, most of the deceased didn't visit Wuhan (97%) while 20% of the recovered did actually visit Wuhan."
   ]
  },
  {
   "cell_type": "markdown",
   "metadata": {},
   "source": [
    "Let's see the relation between gender and mortality rate."
   ]
  },
  {
   "cell_type": "code",
   "execution_count": 12,
   "metadata": {},
   "outputs": [
    {
     "data": {
      "text/plain": [
       "result  gender\n",
       "0       1         0.423841\n",
       "        0         0.354967\n",
       "        2         0.221192\n",
       "1       1         0.638889\n",
       "        0         0.314815\n",
       "        2         0.046296\n",
       "Name: gender, dtype: float64"
      ]
     },
     "execution_count": 12,
     "metadata": {},
     "output_type": "execute_result"
    }
   ],
   "source": [
    "df.groupby(\"result\")[\"gender\"].value_counts(normalize=True)"
   ]
  },
  {
   "cell_type": "code",
   "execution_count": 13,
   "metadata": {},
   "outputs": [
    {
     "data": {
      "text/plain": [
       "<AxesSubplot:ylabel='result'>"
      ]
     },
     "execution_count": 13,
     "metadata": {},
     "output_type": "execute_result"
    },
    {
     "data": {
      "image/png": "[encoded data removed]",
      "text/plain": [
       "<Figure size 432x288 with 1 Axes>"
      ]
     },
     "metadata": {
      "needs_background": "light"
     },
     "output_type": "display_data"
    }
   ],
   "source": [
    "(df.groupby(\"result\")[\"gender\"].value_counts(normalize=True) * 100).unstack() \\\n",
    "    .rename(columns={0: \"Male\", 1: \"Female\", 2: \"Unknown\"}, index={0: \"Recovered\", 1: \"Deceased\"}).plot.barh()"
   ]
  },
  {
   "cell_type": "markdown",
   "metadata": {},
   "source": [
    "Surprisingly, a considrable group of the deceased are females (63%) while only 42% of the recovered are females.\n",
    "This suggests a correlation between females and mortality rate."
   ]
  },
  {
   "cell_type": "markdown",
   "metadata": {},
   "source": [
    "It's time to investigate the symptoms, which are expected to be highly correlated with the mortality rate."
   ]
  },
  {
   "cell_type": "code",
   "execution_count": 14,
   "metadata": {},
   "outputs": [
    {
     "data": {
      "image/png": "[encoded data removed]",
      "text/plain": [
       "<Figure size 864x1440 with 12 Axes>"
      ]
     },
     "metadata": {
      "needs_background": "light"
     },
     "output_type": "display_data"
    }
   ],
   "source": [
    "f, axes = plt.subplots(nrows=2, ncols=3, figsize=(12, 20))\n",
    "for i, col in enumerate(symptom_cols):\n",
    "    ax = axes[int(i/3)][int(i%3)]\n",
    "    sns.heatmap(df[[col, \"result\"]].groupby(col).agg({\"result\": \"mean\"}).values, vmin=0, vmax=1, ax=ax)\n",
    "    ax.set_title(col)\n",
    "    \n",
    "plt.show()"
   ]
  },
  {
   "cell_type": "markdown",
   "metadata": {},
   "source": [
    "### Preparing and Splitting Data"
   ]
  },
  {
   "cell_type": "markdown",
   "metadata": {},
   "source": [
    "Split the data containing specific features. Defaults to all features available in the dataset."
   ]
  },
  {
   "cell_type": "code",
   "execution_count": 15,
   "metadata": {},
   "outputs": [],
   "source": [
    "def split_data(df: pd.DataFrame = df, features: list = df.columns.values[:-1], normalize: bool = True):\n",
    "    global X_train, y_train, X_valid, X_test, y_valid, y_test\n",
    "    df_temp = df\n",
    "    if normalize:\n",
    "        scaler = MinMaxScaler()\n",
    "        df_temp = pd.DataFrame(scaler.fit_transform(df), columns=df.columns)                                    # Normalize the numerical features\n",
    "    X, y = df_temp[features].values[:,:], df_temp[\"result\"].values                                              # As numpy arrays\n",
    "    X_train, X_rem, y_train, y_rem = train_test_split(X, y, train_size=0.8, \\\n",
    "                                                            random_state=random_state, \\\n",
    "                                                            stratify=y)                                         # Training data\n",
    "    X_valid, X_test, y_valid, y_test = train_test_split(X_rem, y_rem, test_size=0.5, \\\n",
    "                                                                      random_state=random_state, \\\n",
    "                                                                      stratify=y_rem)                               # Validation and Testing data"
   ]
  },
  {
   "cell_type": "markdown",
   "metadata": {},
   "source": [
    "Utility function for scoring models."
   ]
  },
  {
   "cell_type": "code",
   "execution_count": 16,
   "metadata": {},
   "outputs": [],
   "source": [
    "def score(truth: list, pred: list):\n",
    "    acc, pre, rec, f1 = accuracy_score(truth, pred), precision_score(truth, pred), recall_score(truth, pred), f1_score(truth, pred)\n",
    "    \n",
    "    print(\"Accuracy  : %.2f.\" % acc)\n",
    "    print(\"Precision : %.2f.\" % pre)\n",
    "    print(\"Recall    : %.2f.\" % rec)\n",
    "    print(\"F1-Score  : %.2f.\" % f1)"
   ]
  },
  {
   "cell_type": "markdown",
   "metadata": {},
   "source": [
    "Plotting utility."
   ]
  },
  {
   "cell_type": "code",
   "execution_count": 17,
   "metadata": {},
   "outputs": [],
   "source": [
    "def scatter_plot_multidimensional_data(X, Y, prefix=''): \n",
    "    #print(X.shape)\n",
    "    #print(Y.shape) \n",
    "    numclasses=int(Y.max())\n",
    "    numrows,numfeatures=X.shape\n",
    "    print(numfeatures)\n",
    "    ##passive aggressive way for plotting each 2 features showing all dimensions of the data based on class label in training \n",
    "    for featurenum in range(numfeatures-1):\n",
    "        fig=plt.figure()\n",
    "        fig,axes=plt.subplots(nrows=1,ncols=numfeatures-1,sharex=True,sharey=False,figsize=(30,30))\n",
    "        #print(X[j])\n",
    "        #print(featurenum)\n",
    "        c=0\n",
    "        for j in range(numfeatures):\n",
    "            if j !=featurenum:\n",
    "                for classnum in range(numclasses+1):\n",
    "                    axes[c].title.set_text(\"plotting feature {} against feature {} in both classes\".format(featurenum+1,j+1))\n",
    "                    Xlist=list()\n",
    "                    X2List=list()\n",
    "                    for row in range(numrows):\n",
    "                        if Y[row]==classnum:\n",
    "                            #print(X[row][featurenum])\n",
    "                            Xlist.append(X[row][featurenum])\n",
    "                            X2List.append(X[row][j])\n",
    "                    axes[c].scatter(Xlist, X2List, label='{} Class {}'.format(prefix,classnum))\n",
    "                axes[c].legend()\n",
    "                c+=1\n",
    "            fig.show()"
   ]
  },
  {
   "cell_type": "markdown",
   "metadata": {},
   "source": [
    "### Learning and Testing"
   ]
  },
  {
   "cell_type": "markdown",
   "metadata": {},
   "source": [
    "#### KNN"
   ]
  },
  {
   "cell_type": "markdown",
   "metadata": {},
   "source": [
    "Hyperparameters"
   ]
  },
  {
   "cell_type": "code",
   "execution_count": 18,
   "metadata": {},
   "outputs": [],
   "source": [
    "k_neighbors = 5"
   ]
  },
  {
   "cell_type": "markdown",
   "metadata": {},
   "source": [
    "#### Training"
   ]
  },
  {
   "cell_type": "markdown",
   "metadata": {},
   "source": [
    "Prepare data"
   ]
  },
  {
   "cell_type": "code",
   "execution_count": 19,
   "metadata": {},
   "outputs": [],
   "source": [
    "enc = OneHotEncoder()\n",
    "enc.fit(df[[\"gender\"]])\n",
    "onehotlabels = enc.transform(df[[\"gender\"]])\n",
    "\n",
    "df_knn = df\n",
    "df_knn[[f\"gender_{i}\" for i in range(3)]] = onehotlabels.toarray()\n",
    "\n",
    "features = [\"age\", *[f\"gender_{i}\" for i in range(3)], *symptom_cols]\n",
    "split_data(df=df_knn, features=features, normalize=True)"
   ]
  },
  {
   "cell_type": "markdown",
   "metadata": {},
   "source": [
    "Pick the best k via training and validation flow."
   ]
  },
  {
   "cell_type": "code",
   "execution_count": 20,
   "metadata": {},
   "outputs": [],
   "source": [
    "def pick_k(KNNClassifier, mink: int = 1, maxk: int = 10, visualize=False):\n",
    "    mink = mink if (mink % 2 == 1) else (mink + 1)\n",
    "    acc_train = []\n",
    "    acc_valid = {}\n",
    "\n",
    "    for k in range(mink, maxk, 2):\n",
    "        classifier = KNNClassifier(n_neighbors = k)\n",
    "        classifier.fit(X_train, y_train)\n",
    "        y_valid_pred = classifier.predict(X_valid)\n",
    "        #print(\"{} {}\".format(len(y_valid_pred),len(y_valid)))\n",
    "        acc_valid[k]= accuracy_score(y_valid, y_valid_pred)\n",
    "        y_train_pred = classifier.predict(X_train)    \n",
    "        acc_train.append(accuracy_score(y_train, y_train_pred))\n",
    "    \n",
    "    if visualize:\n",
    "        sns.lineplot(x=acc_valid.keys(), y=acc_valid.values())\n",
    "        sns.lineplot(x=acc_valid.keys(), y=acc_train)\n",
    "        plt.title(\"Accuracy vs. K\")\n",
    "        plt.xlabel(\"K neighbours\")\n",
    "        plt.ylabel(\"Accuracy\")\n",
    "        plt.legend([\"Validation\", \"Training\"])\n",
    "        plt.show()\n",
    "       \n",
    "    return max(acc_valid, key=lambda x: acc_valid[x]) "
   ]
  },
  {
   "cell_type": "code",
   "execution_count": 21,
   "metadata": {},
   "outputs": [
    {
     "data": {
      "image/png": "[encoded data removed]",
      "text/plain": [
       "<Figure size 432x288 with 1 Axes>"
      ]
     },
     "metadata": {
      "needs_background": "light"
     },
     "output_type": "display_data"
    },
    {
     "data": {
      "text/plain": [
       "7"
      ]
     },
     "execution_count": 21,
     "metadata": {},
     "output_type": "execute_result"
    }
   ],
   "source": [
    "k_neighbors = pick_k(KNNClassifier=KNeighborsClassifier, mink=1, maxk=15, visualize=True)\n",
    "k_neighbors"
   ]
  },
  {
   "cell_type": "markdown",
   "metadata": {},
   "source": [
    "The final model."
   ]
  },
  {
   "cell_type": "code",
   "execution_count": 22,
   "metadata": {},
   "outputs": [],
   "source": [
    "classifier = KNeighborsClassifier(n_neighbors = k_neighbors)"
   ]
  },
  {
   "cell_type": "code",
   "execution_count": 23,
   "metadata": {},
   "outputs": [
    {
     "data": {
      "text/plain": [
       "KNeighborsClassifier(n_neighbors=7)"
      ]
     },
     "execution_count": 23,
     "metadata": {},
     "output_type": "execute_result"
    }
   ],
   "source": [
    "classifier.fit(X_train, y_train)"
   ]
  },
  {
   "cell_type": "markdown",
   "metadata": {},
   "source": [
    "Testing"
   ]
  },
  {
   "cell_type": "code",
   "execution_count": 24,
   "metadata": {},
   "outputs": [
    {
     "name": "stdout",
     "output_type": "stream",
     "text": [
      "Accuracy  : 0.94.\n",
      "Precision : 1.00.\n",
      "Recall    : 0.55.\n",
      "F1-Score  : 0.71.\n"
     ]
    }
   ],
   "source": [
    "y_pred = classifier.predict(X_test)\n",
    "score(y_test, y_pred)"
   ]
  },
  {
   "cell_type": "markdown",
   "metadata": {},
   "source": [
    "### Trying out our classifier"
   ]
  },
  {
   "cell_type": "code",
   "execution_count": null,
   "metadata": {},
   "outputs": [],
   "source": []
  },
  {
   "cell_type": "code",
   "execution_count": 25,
   "metadata": {},
   "outputs": [],
   "source": [
    "#k_neighbors = pick_k_implemented(min=1, maxnum=15, visualize=True)"
   ]
  },
  {
   "cell_type": "markdown",
   "metadata": {},
   "source": [
    "## Classifiers"
   ]
  },
  {
   "cell_type": "markdown",
   "metadata": {},
   "source": [
    "### KNN"
   ]
  },
  {
   "cell_type": "code",
   "execution_count": 26,
   "metadata": {},
   "outputs": [],
   "source": [
    "class KNearestNeighboursClassifier:\n",
    "    def __init__(self, n_neighbors: int=1):\n",
    "        self.k = n_neighbors\n",
    "\n",
    "\n",
    "    def fit(self, X_train, y_train):\n",
    "        ''' \n",
    "            Takes X_train (features) and y_train (labels) and\n",
    "            fits the model to the respective data.\n",
    "        '''\n",
    "        self.X_train = X_train \n",
    "        self.y_train = y_train\n",
    "\n",
    "\n",
    "    def predict(self, X) -> np.ndarray:\n",
    "        ''' \n",
    "            Takes a given list of samples [X] with and returns \n",
    "            the predicted values as an array\n",
    "\n",
    "            Parameters X: ndarray\n",
    "\n",
    "            Returns y: ndarray\n",
    "        '''\n",
    "        return np.asarray(self.__kNN_sequence(self.X_train, self.y_train, X, self.k))\n",
    "        pass\n",
    "\n",
    "\n",
    "    def __kNN_implementation_singleelement(self, X_train, y_train, X_test, K):\n",
    "        rows, cols = X_train.shape\n",
    "        distances = list()\n",
    "\n",
    "        for i in range(rows):\n",
    "            d = np.sqrt(np.sum(np.power(np.subtract(X_train[i], X_test), 2)))\n",
    "            distances.append(d)\n",
    "        nearestkneigbors=sorted(range(len(distances)), key = lambda x: distances[x])[:K]#nearest neighbor indexes\n",
    "        majorityclass={} \n",
    "        for i in range(int(y_train.max()+1)):\n",
    "            majorityclass[i]=0 \n",
    "        for neighbor in nearestkneigbors:\n",
    "            #print(y_train[i])\n",
    "            #print(neighbor)\n",
    "            idx=y_train[neighbor]\n",
    "            majorityclass[int(idx)]+=1\n",
    "        return max(zip(majorityclass.values(), majorityclass.keys()))[1]\n",
    "\n",
    "\n",
    "    def __kNN_sequence(self, X_train, y_train, X_test, K):\n",
    "        ypreds = list()\n",
    "        \n",
    "        rows,cols=X_test.shape\n",
    "        if type(X_test) == pd.DataFrame:\n",
    "            X_test = X_test.values\n",
    "\n",
    "        for i in range(rows):\n",
    "            ypreds.append(self.__kNN_implementation_singleelement(X_train,y_train,X_test[i],K))\n",
    "        #print(len(ypreds))\n",
    "        return ypreds"
   ]
  },
  {
   "cell_type": "code",
   "execution_count": 28,
   "metadata": {},
   "outputs": [
    {
     "name": "stdout",
     "output_type": "stream",
     "text": [
      "86\n",
      "86\n",
      "690\n",
      "86\n",
      "690\n",
      "86\n",
      "690\n",
      "86\n",
      "690\n",
      "86\n",
      "690\n",
      "86\n",
      "690\n",
      "86\n",
      "690\n"
     ]
    },
    {
     "data": {
      "image/png": "[encoded data removed]",
      "text/plain": [
       "<Figure size 432x288 with 1 Axes>"
      ]
     },
     "metadata": {
      "needs_background": "light"
     },
     "output_type": "display_data"
    }
   ],
   "source": [
    "#import KNearestNeighboursClassifier\n",
    "clf=KNearestNeighboursClassifier(n_neighbors=6)\n",
    "clf.fit(X_train,y_train)\n",
    "y_pred=clf.predict(X_valid)\n",
    "k_neighbors = pick_k(KNNClassifier=KNearestNeighboursClassifier, mink=1, maxk=15, visualize=True)"
   ]
  },
  {
   "cell_type": "code",
   "execution_count": 125,
   "metadata": {},
   "outputs": [],
   "source": [
    "#********************reference for code before making the class**************\n",
    "# # x=[[1,2,3]]\n",
    "# # xt=[[0.5,4,5]]\n",
    "# # xtp=np.power(xt,2)\n",
    "# # xp=np.power(x,2)\n",
    "# # xs=np.subtract(x,xt)\n",
    "# # vals=np.sqrt(np.sum(np.power(np.subtract(x,xt),2)))\n",
    "# # print(vals)\n",
    "# # print(xs)\n",
    "# # print(xp)\n",
    "# # print(xtp)\n",
    "# #from operator import itemgetter\n",
    "# def KNN_implementation_singleelement(X_train,y_train,X_test,K):\n",
    "#     rows,cols=X_train.shape\n",
    "#     distances=list()\n",
    "#     for i in range(rows):\n",
    "#         d=np.sqrt(np.sum(np.power(np.subtract(X_train[i],X_test),2)))\n",
    "#         distances.append(d)\n",
    "#     #nearestkneigbors=dict(sorted(distances.items(), key =itemgetter(1), reverse = False)[:K])\n",
    "#     #distances=np.asarray(d)\n",
    "#     nearestkneigbors=sorted(range(len(distances)), key = lambda x: distances[x])[:K]#nearest neighbor indexes\n",
    "#     #print(\"nearest indeces {}\".format(nnidx[0]))\n",
    "#     #print(nearestkneigbors)\n",
    "#     #print(\"nearest neighbors: {}\".format(nearestkneigbors))\n",
    "#     #indexkeys=list(nearestkneigbors.keys())\n",
    "#     #print(indexkeys)\n",
    "#     #for i in range(len(indexkeys)):\n",
    "#         #print('labels {}'.format(y_train[indexkeys[i]]))\n",
    "#     #finding majority class\n",
    "#     majorityclass={}\n",
    "#     #making majority initially =0 for all classes \n",
    "#     for i in range(int(y_train.max()+1)):\n",
    "#         majorityclass[i]=0 \n",
    "#     #print(\"number od nn is {}\".format(len(nearestkneigbors)))\n",
    "#     #print(majorityclass)\n",
    "#     for neighbor in nearestkneigbors:\n",
    "#         idx=y_train[neighbor]\n",
    "#         majorityclass[int(idx)]+=1\n",
    "#     return max(zip(majorityclass.values(), majorityclass.keys()))[1]\n",
    "\n",
    "\n",
    "# def KNN_sequence(X_train,y_train,X_test,K):\n",
    "#     ypreds=list()\n",
    "#     rows,cols=X_test.shape\n",
    "#     for i in range(rows):\n",
    "#         ypreds.append(KNN_implementation_singleelement(X_train,y_train,X_test[i],K))\n",
    "#     return ypreds\n",
    "\n"
   ]
  },
  {
   "cell_type": "code",
   "execution_count": 0,
   "metadata": {},
   "outputs": [],
   "source": []
  }
 ],
 "metadata": {
  "kernelspec": {
   "display_name": "Python 3 (ipykernel)",
   "language": "python",
   "name": "python3"
  },
  "language_info": {
   "codemirror_mode": {
    "name": "ipython",
    "version": 3
   },
   "file_extension": ".py",
   "mimetype": "text/x-python",
   "name": "python",
   "nbconvert_exporter": "python",
   "pygments_lexer": "ipython3",
   "version": "3.9.7"
  }
 },
 "nbformat": 4,
 "nbformat_minor": 1
}
